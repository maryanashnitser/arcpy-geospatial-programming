{
 "cells": [
  {
   "cell_type": "markdown",
   "id": "1ae9f631",
   "metadata": {},
   "source": [
    "Before you turn this problem in, make sure everything runs as expected. First, **restart the kernel** (in the menubar, select Kernel$\\rightarrow$Restart) and then **run all cells** (in the menubar, select Cell$\\rightarrow$Run All).\n",
    "\n",
    "Make sure you fill in any place that says `YOUR CODE HERE` or \"YOUR ANSWER HERE\", as well as your name and collaborators below:"
   ]
  },
  {
   "cell_type": "code",
   "execution_count": 1,
   "id": "9c80f2a8",
   "metadata": {},
   "outputs": [],
   "source": [
    "NAME = \"Maryana Shnitser\"\n",
    "COLLABORATORS = \"Adrianna Celtruda\""
   ]
  },
  {
   "cell_type": "markdown",
   "id": "99b73fb2",
   "metadata": {},
   "source": [
    "---"
   ]
  },
  {
   "cell_type": "markdown",
   "id": "26a48b92",
   "metadata": {
    "deletable": false,
    "editable": false,
    "nbgrader": {
     "cell_type": "markdown",
     "checksum": "28ce1cb73c94f74cbdf53c2095d0bd84",
     "grade": false,
     "grade_id": "cell-34043f52c189adb8",
     "locked": true,
     "schema_version": 3,
     "solution": false,
     "task": false
    },
    "tags": []
   },
   "source": [
    "# Assignment: game2\n",
    "\n",
    "In this assignment we will be expanding on our original Zork game. \n",
    "\n",
    "**Few Important Things:**\n",
    " - Save this file as **geo3_emailusername_assignment (e.g. geo3_mmann1123_game2.ipynb)**\n",
    " - Before submitting make sure to go to Cell > Run All and confirm there are no errors thrown.\n",
    " - If you can't figure something out, that is ok, do your best, feel free to post a specific question on the blackboard Q&A discuession board. \n",
    "\n",
    "\n",
    "**How these assignments will work: For detailed instructions on how to complete these exercises please read the following [tutorial](https://mmann1123.github.io/GEOG6308/)**. "
   ]
  },
  {
   "cell_type": "markdown",
   "id": "99c1f09a",
   "metadata": {
    "deletable": false,
    "editable": false,
    "nbgrader": {
     "cell_type": "markdown",
     "checksum": "ea5ae4c2a8587ebe013d0129a8c69694",
     "grade": false,
     "grade_id": "cell-b7e1828c32071b5d",
     "locked": true,
     "schema_version": 3,
     "solution": false,
     "task": false
    }
   },
   "source": [
    "## More Text Games\n",
    "\n",
    "For this exercise we are going to be building a new [Zork-like](https://textadventures.co.uk/games/play/5zyoqrsugeopel3ffhz_vq) game.  \n",
    "\n",
    "To start, we are going to build some game components!"
   ]
  },
  {
   "cell_type": "markdown",
   "id": "f4200de0",
   "metadata": {
    "deletable": false,
    "editable": false,
    "nbgrader": {
     "cell_type": "markdown",
     "checksum": "23d67570d573592f4765526d0d842a71",
     "grade": false,
     "grade_id": "cell-417a6f30ef44639d",
     "locked": true,
     "schema_version": 3,
     "solution": false,
     "task": false
    }
   },
   "source": [
    "----\n",
    "## Part (5 points)\n",
    "\n",
    "What's a game without enemies?!  Most text based games have enemies that have a few properties. We are going to keep things very simple. Since we haven't learned about `classes` yet, we are going to use dictionaries to keep track of ourselves and enemy characteristics. \n",
    "\n",
    "Define a function called `new_ogre` to create a dictionary with the character properities. \n",
    "The function should have:\n",
    "- one parameter called `xp_value` that takes any number, \n",
    "- with a default value of 50. \n",
    "- the function should `return` a dictionary called `ogre`\n",
    "    - The dictionary, called for instance `ogre`, stores two characteristics as key value pairs:\n",
    "        - `health` points set initially to 50\n",
    "        - `name` set to \"ogre\"\n",
    "\n",
    "HINT: (See section called \"Default Values\" in textbook)\n"
   ]
  },
  {
   "cell_type": "code",
   "execution_count": 2,
   "id": "b3f5cb5d",
   "metadata": {
    "deletable": false,
    "nbgrader": {
     "cell_type": "code",
     "checksum": "cb67169133eb2f75ee78fc625e8872c9",
     "grade": false,
     "grade_id": "cell-4d1189dd77d38bca",
     "locked": false,
     "schema_version": 3,
     "solution": true,
     "task": false
    }
   },
   "outputs": [],
   "source": [
    "\"\"\"Define a function called new_ogre that returns a dictionary ogre\"\"\"\n",
    "\n",
    "# YOUR CODE HERE\n",
    "def new_ogre (xp_value=50):\n",
    "    ogre = {'health': xp_value, 'name': 'ogre'}\n",
    "    return ogre\n"
   ]
  },
  {
   "cell_type": "markdown",
   "id": "df62c334",
   "metadata": {
    "deletable": false,
    "editable": false,
    "nbgrader": {
     "cell_type": "markdown",
     "checksum": "51e6865a4adeb10a16c02a24657719b1",
     "grade": false,
     "grade_id": "cell-ba8331b9441611ff",
     "locked": true,
     "schema_version": 3,
     "solution": false,
     "task": false
    }
   },
   "source": [
    "Use the function `new_self` to create a dictionary called that stores two characteristics:\n",
    "- `health` points are always set to 100 (no parameter needed for this one)\n",
    "- `name` set to \"self\"\n"
   ]
  },
  {
   "cell_type": "code",
   "execution_count": 3,
   "id": "2d9bfdf3",
   "metadata": {
    "deletable": false,
    "nbgrader": {
     "cell_type": "code",
     "checksum": "c944b705d6e7d0bb6df48703f5a4f884",
     "grade": false,
     "grade_id": "cell-08c5569134965b6e",
     "locked": false,
     "schema_version": 3,
     "solution": true,
     "task": false
    }
   },
   "outputs": [],
   "source": [
    "\"\"\"Define a function called new_self that returns a dictionary myself\"\"\"\n",
    "\n",
    "# YOUR CODE HERE\n",
    "def new_self():\n",
    "    myself ={'health':100, 'name' : 'self'}\n",
    "    return myself"
   ]
  },
  {
   "cell_type": "markdown",
   "id": "120e3a84-f14d-40b9-8924-341acbf862fd",
   "metadata": {},
   "source": [
    "Now we are going to create two characters `enemy1` who is an ogre and `myself` who is... well you..."
   ]
  },
  {
   "cell_type": "code",
   "execution_count": 4,
   "id": "c4e06b68",
   "metadata": {
    "deletable": false,
    "editable": false,
    "nbgrader": {
     "cell_type": "code",
     "checksum": "c3dacdf0662c958d81c39642ea69af6d",
     "grade": false,
     "grade_id": "cell-73f67776e90e0a55",
     "locked": true,
     "schema_version": 3,
     "solution": false,
     "task": false
    }
   },
   "outputs": [],
   "source": [
    "'''Run your functions and store output'''\n",
    "\n",
    "enemy1 = new_ogre()\n",
    "myself = new_self()\n"
   ]
  },
  {
   "cell_type": "code",
   "execution_count": 5,
   "id": "8875bb6e",
   "metadata": {
    "deletable": false,
    "editable": false,
    "nbgrader": {
     "cell_type": "code",
     "checksum": "8e54fe7e8025d749081426686909784b",
     "grade": false,
     "grade_id": "cell-3b71d239edc7b782",
     "locked": true,
     "schema_version": 3,
     "solution": false,
     "task": false
    },
    "tags": []
   },
   "outputs": [],
   "source": [
    "\"\"\"Check that new_characters returns the correct output\"\"\"\n",
    "try:\n",
    "    assert isinstance(new_ogre(),dict) \n",
    "except AssertionError:\n",
    "    raise AssertionError(\"Your enemy is not a dictionary, please make it so\")\n",
    "try:\n",
    "    assert isinstance(new_self(),dict) \n",
    "except AssertionError:\n",
    "    raise AssertionError(\"myself is not a dictionary, please make it so\")     "
   ]
  },
  {
   "cell_type": "code",
   "execution_count": 6,
   "id": "467738ab-b85e-49c8-8a1d-d204da14f67a",
   "metadata": {
    "deletable": false,
    "editable": false,
    "nbgrader": {
     "cell_type": "code",
     "checksum": "db0467c2f661025759a6ae311b9b2fe9",
     "grade": false,
     "grade_id": "cell-9dd82c4a54f19011",
     "locked": true,
     "schema_version": 3,
     "solution": false,
     "task": false
    },
    "tags": []
   },
   "outputs": [],
   "source": [
    "try:\n",
    "    assert new_ogre()['health'] == 50 \n",
    "except AssertionError:\n",
    "    raise AssertionError(\"incorrect default value for your ogre xp_value\")  \n",
    "try:\n",
    "    assert new_ogre(25)['health'] == 25 \n",
    "except AssertionError:\n",
    "    raise AssertionError(\"unable to pass xp_value as an argument to new_ogre\")   \n",
    "try:\n",
    "    assert new_ogre()['name'] == 'ogre' \n",
    "except AssertionError:\n",
    "    raise AssertionError(\"new_ogre name should always be set to 'ogre'\")  "
   ]
  },
  {
   "cell_type": "code",
   "execution_count": 7,
   "id": "7ea40e63-2449-4da2-8c7a-915533eb081f",
   "metadata": {
    "deletable": false,
    "editable": false,
    "nbgrader": {
     "cell_type": "code",
     "checksum": "9d3cca9120d68bc45229fff8c485e24b",
     "grade": false,
     "grade_id": "cell-f7acf8d551236f05",
     "locked": true,
     "schema_version": 3,
     "solution": false,
     "task": false
    },
    "tags": []
   },
   "outputs": [],
   "source": [
    "try:\n",
    "    assert new_self()['health'] == 100 \n",
    "except AssertionError:\n",
    "    raise AssertionError(\"new_self health should always be set to 100\")  \n",
    "try:\n",
    "    assert new_self()['name'] == 'self' \n",
    "except AssertionError:\n",
    "    raise AssertionError(\"new_self name should always be set to 'self'\")  "
   ]
  },
  {
   "cell_type": "code",
   "execution_count": 8,
   "id": "87c25ae4-336c-42c4-8560-d5243b115ea5",
   "metadata": {
    "deletable": false,
    "editable": false,
    "nbgrader": {
     "cell_type": "code",
     "checksum": "8f43c0790a399ecfc10efcbba4c59a5a",
     "grade": false,
     "grade_id": "cell-be463d6ad082e150",
     "locked": true,
     "schema_version": 3,
     "solution": false,
     "task": false
    },
    "tags": []
   },
   "outputs": [],
   "source": [
    "try:\n",
    "    assert [i for i in enemy1.keys()] == ['health', 'name'] or [i for i in enemy1.keys()] == ['name', 'health']\n",
    "except AssertionError:\n",
    "    raise AssertionError(\"enemy doesn't contain the right keys\")\n",
    "try:\n",
    "    assert [i for i in myself.keys()] == ['health', 'name'] or [i for i in myself.keys()] == ['name', 'health']\n",
    "except AssertionError:\n",
    "    raise AssertionError(\"enemy doesn't contain the right keys\")"
   ]
  },
  {
   "cell_type": "code",
   "execution_count": 9,
   "id": "d7612fbc-09ab-4494-a8ee-d7bb49053a65",
   "metadata": {
    "deletable": false,
    "editable": false,
    "nbgrader": {
     "cell_type": "code",
     "checksum": "875078dd990948d6bfc6db882bd05867",
     "grade": true,
     "grade_id": "cell-d8946671a4aeca3e",
     "locked": true,
     "points": 1,
     "schema_version": 3,
     "solution": false,
     "task": false
    },
    "tags": []
   },
   "outputs": [
    {
     "data": {
      "text/plain": [
       "' Hidden tests - These tests mirror the tests above - you will not see any additional feedback '"
      ]
     },
     "execution_count": 9,
     "metadata": {},
     "output_type": "execute_result"
    }
   ],
   "source": [
    "\"\"\" Hidden tests - These tests mirror the tests above - you will not see any additional feedback \"\"\""
   ]
  },
  {
   "cell_type": "code",
   "execution_count": 10,
   "id": "ef206290-83c7-44f3-ba5f-db75139ee206",
   "metadata": {
    "deletable": false,
    "editable": false,
    "nbgrader": {
     "cell_type": "code",
     "checksum": "9aee5fc13f09dfb6e6ee4eaedc0f83e5",
     "grade": true,
     "grade_id": "cell-ff581b6f8ef92b55",
     "locked": true,
     "points": 2,
     "schema_version": 3,
     "solution": false,
     "task": false
    },
    "tags": []
   },
   "outputs": [
    {
     "data": {
      "text/plain": [
       "' Hidden tests - These tests mirror the tests above - you will not see any additional feedback '"
      ]
     },
     "execution_count": 10,
     "metadata": {},
     "output_type": "execute_result"
    }
   ],
   "source": [
    "\"\"\" Hidden tests - These tests mirror the tests above - you will not see any additional feedback \"\"\""
   ]
  },
  {
   "cell_type": "code",
   "execution_count": 11,
   "id": "448ea8ad-675b-4267-9b77-a4606b8eb4b1",
   "metadata": {
    "deletable": false,
    "editable": false,
    "nbgrader": {
     "cell_type": "code",
     "checksum": "4e35230558c5fb47ac56d11a6ae66ab7",
     "grade": true,
     "grade_id": "cell-fee62368202b3c61",
     "locked": true,
     "points": 2,
     "schema_version": 3,
     "solution": false,
     "task": false
    },
    "tags": []
   },
   "outputs": [
    {
     "data": {
      "text/plain": [
       "' Hidden tests - These tests mirror the tests above - you will not see any additional feedback '"
      ]
     },
     "execution_count": 11,
     "metadata": {},
     "output_type": "execute_result"
    }
   ],
   "source": [
    "\"\"\" Hidden tests - These tests mirror the tests above - you will not see any additional feedback \"\"\""
   ]
  },
  {
   "cell_type": "markdown",
   "id": "87709c51",
   "metadata": {
    "deletable": false,
    "editable": false,
    "nbgrader": {
     "cell_type": "markdown",
     "checksum": "c282af4f73777aa4c5a34cc37d2a1f65",
     "grade": false,
     "grade_id": "cell-cc340d7b868d8fa2",
     "locked": true,
     "schema_version": 3,
     "solution": false,
     "task": false
    }
   },
   "source": [
    "----\n",
    "## Part (5 points)\n",
    "\n",
    "Ok now we need to be able to attack!  Let's create a function called `attack` that has two parameters:\n",
    "- one called `who` which will accept the dictionary defining the person being attacked\n",
    "- and a second called `strength` that takes a numeric value indicating how many xp_points will be lost\n",
    "    - the default `strength` should be 20\n",
    "    \n",
    "When executed the `attack` function should:\n",
    "- Subtract the value of `strength` from the value stored under the character's dictionary called `health`\n",
    "    - This new value should then be stored under `health` in the dictionary\n",
    "- The function should return back the updated `who` dictionary\n",
    "\n",
    "For instance, assuming enemy1 health is 100, `attack(who=enemy1,strength=10)` should return the following dictionary `{'name':ogre,'health':90}` *the first time you run it*"
   ]
  },
  {
   "cell_type": "code",
   "execution_count": 12,
   "id": "3a040cb4",
   "metadata": {
    "deletable": false,
    "nbgrader": {
     "cell_type": "code",
     "checksum": "da74c6f423c82e6b06cd88d8e86e8e24",
     "grade": false,
     "grade_id": "cell-1f965d12231f4552",
     "locked": false,
     "schema_version": 3,
     "solution": true,
     "task": false
    }
   },
   "outputs": [],
   "source": [
    "\"\"\"Define a function called new_ogre that returns a dictionary ogre\"\"\"\n",
    "\n",
    "def attack(who, strength = 20):\n",
    "   who['health'] -= strength\n",
    "   if who['health'] <= 0:\n",
    "      who['health'] = 0  # Set health to 0 if it falls below or equal to 0\n",
    "   return who"
   ]
  },
  {
   "cell_type": "code",
   "execution_count": 13,
   "id": "7f9f3969",
   "metadata": {
    "deletable": false,
    "editable": false,
    "nbgrader": {
     "cell_type": "code",
     "checksum": "a750d524cc64b46596ec4368d0a64d84",
     "grade": false,
     "grade_id": "cell-cf27993df02d10d7",
     "locked": true,
     "schema_version": 3,
     "solution": false,
     "task": false
    }
   },
   "outputs": [
    {
     "data": {
      "text/plain": [
       "{'health': 0, 'name': 'ogre'}"
      ]
     },
     "execution_count": 13,
     "metadata": {},
     "output_type": "execute_result"
    }
   ],
   "source": [
    "# attack the enemy! This should subtract 50 health points from enemy1's current health value.\n",
    "enemy1 = attack(who=enemy1, strength=50)\n",
    "enemy1\n"
   ]
  },
  {
   "cell_type": "code",
   "execution_count": 14,
   "id": "184a8eb7",
   "metadata": {
    "deletable": false,
    "editable": false,
    "nbgrader": {
     "cell_type": "code",
     "checksum": "b2d86b1e039ba3a90c8c7a7104d2c12a",
     "grade": false,
     "grade_id": "cell-971dda8f5620a9ac",
     "locked": true,
     "schema_version": 3,
     "solution": false,
     "task": false
    },
    "tags": []
   },
   "outputs": [],
   "source": [
    "\"\"\"Check that attack returns the correct output\"\"\"\n",
    "try:\n",
    "    assert attack(new_ogre(xp_value=100), strength=50)['health'] == 50\n",
    "except AssertionError:\n",
    "    raise AssertionError(\"You aren't subtracting the right amount of health, or new_orgre() isn't working\")"
   ]
  },
  {
   "cell_type": "code",
   "execution_count": 15,
   "id": "a0edb0a2-d0df-482f-a567-d4f8eb040f2d",
   "metadata": {
    "deletable": false,
    "editable": false,
    "nbgrader": {
     "cell_type": "code",
     "checksum": "ee5cd9f7b2100f3f1c6f509c0d537066",
     "grade": false,
     "grade_id": "cell-e7b7fd1983234230",
     "locked": true,
     "schema_version": 3,
     "solution": false,
     "task": false
    },
    "tags": []
   },
   "outputs": [],
   "source": [
    "try:\n",
    "    assert attack(new_ogre(xp_value=50), strength=50)['health'] == 0\n",
    "except AssertionError:\n",
    "    raise AssertionError(\"You aren't subtracting the right amount of health, or new_orgre() isn't working\")"
   ]
  },
  {
   "cell_type": "code",
   "execution_count": 16,
   "id": "07c2154f-b075-4e3e-99a2-a921f841b914",
   "metadata": {
    "deletable": false,
    "editable": false,
    "nbgrader": {
     "cell_type": "code",
     "checksum": "c13f5bdfc1e16b3290f0ab030da4a0f2",
     "grade": false,
     "grade_id": "cell-45a1e6f919ebb028",
     "locked": true,
     "schema_version": 3,
     "solution": false,
     "task": false
    },
    "tags": []
   },
   "outputs": [],
   "source": [
    "try:\n",
    "    assert attack(new_ogre(xp_value=100))['health'] == 80\n",
    "except AssertionError:\n",
    "    raise AssertionError(\"You aren't subtracting the right amount of health, or new_orgre() isn't working\")\n"
   ]
  },
  {
   "cell_type": "code",
   "execution_count": 17,
   "id": "4ea559f6-e15f-415b-8204-7817930e62dd",
   "metadata": {
    "deletable": false,
    "editable": false,
    "nbgrader": {
     "cell_type": "code",
     "checksum": "2df6ec7c55495cb4ea57510c411fac93",
     "grade": true,
     "grade_id": "cell-3148fea9195be3f7",
     "locked": true,
     "points": 2.5,
     "schema_version": 3,
     "solution": false,
     "task": false
    },
    "tags": []
   },
   "outputs": [
    {
     "data": {
      "text/plain": [
       "' Hidden tests - These tests mirror the tests above - you will not see any additional feedback '"
      ]
     },
     "execution_count": 17,
     "metadata": {},
     "output_type": "execute_result"
    }
   ],
   "source": [
    "\"\"\" Hidden tests - These tests mirror the tests above - you will not see any additional feedback \"\"\""
   ]
  },
  {
   "cell_type": "code",
   "execution_count": 18,
   "id": "2c057d65-3d76-458c-95f7-50423190c2f3",
   "metadata": {
    "deletable": false,
    "editable": false,
    "nbgrader": {
     "cell_type": "code",
     "checksum": "f8bba642862d81d8e112aae5873301e4",
     "grade": true,
     "grade_id": "cell-bbdb81e143bce76a",
     "locked": true,
     "points": 2.5,
     "schema_version": 3,
     "solution": false,
     "task": false
    },
    "tags": []
   },
   "outputs": [
    {
     "data": {
      "text/plain": [
       "' Hidden tests - These tests mirror the tests above - you will not see any additional feedback '"
      ]
     },
     "execution_count": 18,
     "metadata": {},
     "output_type": "execute_result"
    }
   ],
   "source": [
    "\"\"\" Hidden tests - These tests mirror the tests above - you will not see any additional feedback \"\"\""
   ]
  },
  {
   "cell_type": "code",
   "execution_count": 19,
   "id": "3c65e59f-2449-448f-ab6e-2fbf8554f162",
   "metadata": {
    "deletable": false,
    "editable": false,
    "nbgrader": {
     "cell_type": "code",
     "checksum": "e748ae94780adef05cf90de23bedc758",
     "grade": false,
     "grade_id": "cell-e7b7fd12345200",
     "locked": true,
     "schema_version": 3,
     "solution": false,
     "task": false
    },
    "tags": []
   },
   "outputs": [],
   "source": [
    "try:\n",
    "    assert attack(new_ogre(xp_value=50), strength=100)['health'] == 0\n",
    "except AssertionError:\n",
    "    raise AssertionError(\"You aren't subtracting the right amount of health, or new_orgre() isn't working\")"
   ]
  },
  {
   "cell_type": "markdown",
   "id": "3136c08a",
   "metadata": {
    "deletable": false,
    "editable": false,
    "nbgrader": {
     "cell_type": "markdown",
     "checksum": "dffea9e17c946a3b392f0fa7952e435a",
     "grade": false,
     "grade_id": "cell-d7262a201e3a5f5e",
     "locked": true,
     "schema_version": 3,
     "solution": false,
     "task": false
    }
   },
   "source": [
    "----\n",
    "## Part (6 points)\n",
    "\n",
    "Ok but.... you've programmed the undead here.... really man. Negative health is a problem that should be fixed. Let's update our attack function so that we can kill our enemies. \n",
    "\n",
    "Add an `if elif else` statement to your `attack` function. Make sure to do the following things:\n",
    "\n",
    "- If the enemy (defined by `who`) already has a `health` <= 0\n",
    "    - print out the following `\"What is wrong with you man... No hitting dead bodies!\"`\n",
    "    - return who, but make sure `health = 0`\n",
    "- else if `who`s `health` is <= `strength`:\n",
    "    - print \"You've killed the (insert the correct `name` here)!\"\n",
    "    - set `health` to 0\n",
    "    - return `who`\n",
    "- else\n",
    "    - print \"Good hit, the (insert `name`) still has (insert `health` value) health points left.\"\n",
    "    - update the `health` value to reflect the `strength` of the attack\n",
    "    - return `who`\n",
    "    \n",
    "  \n",
    "     "
   ]
  },
  {
   "cell_type": "code",
   "execution_count": 20,
   "id": "76bcd1cc",
   "metadata": {
    "deletable": false,
    "nbgrader": {
     "cell_type": "code",
     "checksum": "32bfd8f3caeac6ed48b8353c53033ea7",
     "grade": false,
     "grade_id": "cell-6bece57ffdc75ca2",
     "locked": false,
     "schema_version": 3,
     "solution": true,
     "task": false
    }
   },
   "outputs": [],
   "source": [
    "\"\"\"Define update your attack function to handle death\"\"\"\n",
    "\n",
    "# YOUR CODE HERE\n",
    "def attack(who, strength = 10):\n",
    "    if who['health']<=0:\n",
    "        print (\"What is wrong with you man... No hitting dead bodies!\")\n",
    "        who['health'] = 0 \n",
    "        return who\n",
    "    elif who['health']<= strength:\n",
    "        print (f\"Youve killed the {who}!\")\n",
    "        who ['health'] = 0 \n",
    "        return who\n",
    "    else: \n",
    "        print (f\"Good hit, the {who} still has {who['health']} health points left\")\n",
    "        who['health'] -= strength\n",
    "        return who"
   ]
  },
  {
   "cell_type": "code",
   "execution_count": 21,
   "id": "df78da4a",
   "metadata": {
    "deletable": false,
    "editable": false,
    "nbgrader": {
     "cell_type": "code",
     "checksum": "b516df1c99190d7b2c7db5230fb686be",
     "grade": false,
     "grade_id": "cell-0866e79ddceb32ce",
     "locked": true,
     "schema_version": 3,
     "solution": false,
     "task": false
    }
   },
   "outputs": [
    {
     "name": "stdout",
     "output_type": "stream",
     "text": [
      "Good hit, the {'health': 50, 'name': 'ogre'} still has 50 health points left\n"
     ]
    },
    {
     "data": {
      "text/plain": [
       "{'health': 30, 'name': 'ogre'}"
      ]
     },
     "execution_count": 21,
     "metadata": {},
     "output_type": "execute_result"
    }
   ],
   "source": [
    "# create a new ogre with full health\n",
    "enemy2 = new_ogre(xp_value=50)\n",
    "\n",
    "# attack the enemy\n",
    "enemy2 = attack(enemy2, strength=20)\n",
    "\n",
    "# show result (health should be 30)\n",
    "enemy2"
   ]
  },
  {
   "cell_type": "code",
   "execution_count": 22,
   "id": "a68417e6-fde7-458b-936e-6f98ef18c841",
   "metadata": {
    "deletable": false,
    "editable": false,
    "nbgrader": {
     "cell_type": "code",
     "checksum": "f5ccfcfcfd495fd148c25ba8c4bf872d",
     "grade": false,
     "grade_id": "cell-e7b7fd1983f18300",
     "locked": true,
     "schema_version": 3,
     "solution": false,
     "task": false
    },
    "tags": []
   },
   "outputs": [
    {
     "name": "stdout",
     "output_type": "stream",
     "text": [
      "Good hit, the {'health': 100, 'name': 'ogre'} still has 100 health points left\n"
     ]
    }
   ],
   "source": [
    "\"\"\"Check that new attack returns the correct output\"\"\"\n",
    "try:\n",
    "    assert attack(new_ogre(xp_value=100), strength=50)['health'] == 50\n",
    "except AssertionError:\n",
    "    raise AssertionError(\"You aren't subtracting the right amount of health, or new_orgre() isn't working\")"
   ]
  },
  {
   "cell_type": "code",
   "execution_count": 23,
   "id": "24f9deca-70d0-4904-9aec-7e202f2cf5ab",
   "metadata": {
    "deletable": false,
    "editable": false,
    "nbgrader": {
     "cell_type": "code",
     "checksum": "cb79f48bb08f8d588aaee85d767cc846",
     "grade": false,
     "grade_id": "cell-1086287b7ba296f5",
     "locked": true,
     "schema_version": 3,
     "solution": false,
     "task": false
    },
    "tags": []
   },
   "outputs": [],
   "source": [
    "\n",
    "import inspect\n",
    "# custom function to check answers\n",
    "def check_if_elif_else_used(func, check_if=True, check_if_elif=False, check_if_elif_else=False):\n",
    "    \"\"\"\n",
    "    Check if the function contains if, elif, and else statements,\n",
    "    ignoring any lines that are commented out.\n",
    "    \"\"\"\n",
    "    # Get the source code of the function\n",
    "    source = inspect.getsource(func)\n",
    "    \n",
    "    # Split the source into lines and remove comments\n",
    "    uncommented_lines = []\n",
    "    for line in source.splitlines():\n",
    "        # Strip leading and trailing whitespaces\n",
    "        stripped_line = line.strip()\n",
    "        \n",
    "        # Ignore lines that start with a comment\n",
    "        if not stripped_line.startswith(\"#\"):\n",
    "            uncommented_lines.append(stripped_line)\n",
    "    \n",
    "    # Join uncommented lines into a single text\n",
    "    uncommented_source = \" \".join(uncommented_lines)\n",
    "    \n",
    "    # Check for the presence of \"if\", \"elif\", and \"else\"\n",
    "    has_if = \"if \" in uncommented_source\n",
    "    has_elif = \"elif \" in uncommented_source\n",
    "    has_else = \"else:\" in uncommented_source\n",
    "    \n",
    "    if check_if_elif_else:\n",
    "        return has_if and has_elif and has_else\n",
    "    elif check_if_elif:\n",
    "        return has_if and has_elif\n",
    "    elif check_if:\n",
    "        return has_if\n",
    "    else:\n",
    "        return None\n",
    "\n",
    "assert check_if_elif_else_used(attack, check_if_elif_else=True) == True, \"Test failed! The function does not contain both if, elif, else statements.\"\n"
   ]
  },
  {
   "cell_type": "code",
   "execution_count": 24,
   "id": "c8e3823c-787c-4a66-9025-c486d39dc78d",
   "metadata": {
    "deletable": false,
    "editable": false,
    "nbgrader": {
     "cell_type": "code",
     "checksum": "b3fac260b35394d81f8f5bf322103296",
     "grade": true,
     "grade_id": "cell-28840f9d5426ebdc",
     "locked": true,
     "points": 1,
     "schema_version": 3,
     "solution": false,
     "task": false
    },
    "tags": []
   },
   "outputs": [
    {
     "data": {
      "text/plain": [
       "' Hidden tests - These tests mirror the tests above - you will not see any additional feedback '"
      ]
     },
     "execution_count": 24,
     "metadata": {},
     "output_type": "execute_result"
    }
   ],
   "source": [
    "\"\"\" Hidden tests - These tests mirror the tests above - you will not see any additional feedback \"\"\""
   ]
  },
  {
   "cell_type": "code",
   "execution_count": 25,
   "id": "98ccf5e2-253a-4fa7-b589-e1e7706f9689",
   "metadata": {
    "deletable": false,
    "editable": false,
    "nbgrader": {
     "cell_type": "code",
     "checksum": "30f9e0dee751a8f49ea7e75cc04ab2bb",
     "grade": true,
     "grade_id": "cell-5017dfc24729c1dd",
     "locked": true,
     "points": 2,
     "schema_version": 3,
     "solution": false,
     "task": false
    },
    "tags": []
   },
   "outputs": [
    {
     "data": {
      "text/plain": [
       "' Hidden tests - These tests mirror the tests above - you will not see any additional feedback '"
      ]
     },
     "execution_count": 25,
     "metadata": {},
     "output_type": "execute_result"
    }
   ],
   "source": [
    "\"\"\" Hidden tests - These tests mirror the tests above - you will not see any additional feedback \"\"\""
   ]
  },
  {
   "cell_type": "code",
   "execution_count": 26,
   "id": "3260beb4-c7b7-4833-b915-8d491cfde584",
   "metadata": {
    "deletable": false,
    "editable": false,
    "nbgrader": {
     "cell_type": "code",
     "checksum": "c4aa0daa8388db3866b363efa292f9e3",
     "grade": true,
     "grade_id": "cell-29a4cf4bc409c77b",
     "locked": true,
     "points": 0.5,
     "schema_version": 3,
     "solution": false,
     "task": false
    },
    "tags": []
   },
   "outputs": [
    {
     "data": {
      "text/plain": [
       "' Hidden tests - These tests mirror the tests above - you will not see any additional feedback '"
      ]
     },
     "execution_count": 26,
     "metadata": {},
     "output_type": "execute_result"
    }
   ],
   "source": [
    "\"\"\" Hidden tests - These tests mirror the tests above - you will not see any additional feedback \"\"\""
   ]
  },
  {
   "cell_type": "code",
   "execution_count": 27,
   "id": "cf7fccbc-f6d8-4af1-8562-2c4af0772e5c",
   "metadata": {
    "deletable": false,
    "editable": false,
    "nbgrader": {
     "cell_type": "code",
     "checksum": "5311f8761fef4ca2b65676a8bb2208c0",
     "grade": true,
     "grade_id": "cell-8ad871cb2e8be010",
     "locked": true,
     "points": 2,
     "schema_version": 3,
     "solution": false,
     "task": false
    },
    "tags": []
   },
   "outputs": [
    {
     "data": {
      "text/plain": [
       "' Hidden tests - These tests mirror the tests above - you will not see any additional feedback '"
      ]
     },
     "execution_count": 27,
     "metadata": {},
     "output_type": "execute_result"
    }
   ],
   "source": [
    "\"\"\" Hidden tests - These tests mirror the tests above - you will not see any additional feedback \"\"\""
   ]
  },
  {
   "cell_type": "code",
   "execution_count": 28,
   "id": "e8ca0a01-c0de-416a-9270-5bfefc520d7d",
   "metadata": {
    "deletable": false,
    "editable": false,
    "nbgrader": {
     "cell_type": "code",
     "checksum": "2446b94b0237ef8c624ab78eb961bcb1",
     "grade": true,
     "grade_id": "cell-633c2fc2cbc8551a",
     "locked": true,
     "points": 1,
     "schema_version": 3,
     "solution": false,
     "task": false
    },
    "tags": []
   },
   "outputs": [
    {
     "data": {
      "text/plain": [
       "' Hidden tests - These tests mirror the tests above - you will not see any additional feedback '"
      ]
     },
     "execution_count": 28,
     "metadata": {},
     "output_type": "execute_result"
    }
   ],
   "source": [
    "\"\"\" Hidden tests - These tests mirror the tests above - you will not see any additional feedback \"\"\""
   ]
  },
  {
   "cell_type": "markdown",
   "id": "17d3f73a",
   "metadata": {
    "deletable": false,
    "editable": false,
    "nbgrader": {
     "cell_type": "markdown",
     "checksum": "defe185b0149028736dd3c9ddc27bff6",
     "grade": false,
     "grade_id": "cell-e08128bcf18c6f01",
     "locked": true,
     "schema_version": 3,
     "solution": false,
     "task": false
    }
   },
   "source": [
    "---\n",
    "## Part (10 points)\n",
    "\n",
    "Set up a single room called `enemyroom` that:\n",
    "- Accepts two arguments via `yourself` and `enemy` e.g. `def enemyroom(yourself, enemy)``\n",
    "- You encounter an enemy, remember to create a new one (e.g. anenemy = new_ogre(xp_value=50))\n",
    "- User is given the chance to:\n",
    "    - Run away or\n",
    "        - You live to fight another day. \n",
    "    - Fight\n",
    "        - If they decide to fight, you and the enemy should engage in mortal combat. \n",
    "        - Two people enter, one leaves.\n",
    "- Return `winner` dictionary from the room - even if you just ran away like a coward.\n",
    "- Print some message based on `who` is returned. \n",
    "    - Congraduate the winner!\n",
    "\n",
    "HINTS: \n",
    "- For prompts please use capital \"Y\" and \"N\" for all user interactions e.g. \"Do you want to attack (Y or N)?\"\n",
    "- Use a while loop for the fight sequence that stops only if someone dies. \n",
    "- Use the `attack` function you created before to manage the fight sequence\n",
    "- Typically attacks go in rounds, where you have a chance to strike, and the opponent has a chance to attack -  in each round of the loop.\n",
    "- You can create a random `strength` of attack using `random.randrange(0,50,1)`, which creates a random integer between 0 and 50, the `1` is the step (e.g. If you choose a step of 15 `random.randrange(0,50,15)` it can only generate the numbers `[0,15,30,45]`).  JUST MAKE SURE TO `import random` at the top of your cell. \n",
    "- Make sure you can kill the enemy or the enemy can kill you.\n"
   ]
  },
  {
   "cell_type": "code",
   "execution_count": 29,
   "id": "c80e5aa8",
   "metadata": {
    "deletable": false,
    "nbgrader": {
     "cell_type": "code",
     "checksum": "ebef4738a9882e55769342adc2a8b8b5",
     "grade": false,
     "grade_id": "cell-56bf5053c46636b7",
     "locked": false,
     "schema_version": 3,
     "solution": true,
     "task": false
    },
    "tags": []
   },
   "outputs": [],
   "source": [
    "\"\"\"Write your asnwer here. \"\"\"\n",
    "import random\n",
    "\n",
    "# hint \n",
    "# pass yourslef and the enemy into the room\n",
    "# def enemyroom(yourself, enemy):\n",
    "#     print('You encounter an ugly ass ogre... or something...')\n",
    "    \n",
    "# YOUR CODE HERE\n",
    "winner = {'name', 'result'}\n",
    "yourself = {'health':(random.randrange(0,50,15)), 'name':'yourself'}\n",
    "enemy = {'health':(random.randrange(0,50,15)), 'name':'enemy'} \n",
    "\n",
    "def enemyroom(yourself, enemy): \n",
    "\n",
    "    message = input('You encounter an ugly ass ogre. Do you want to fight (Y or N)') \n",
    "    \n",
    "\n",
    "    if (message == 'N'):\n",
    "        print ('You live to fight another day')\n",
    "        return {'name': yourself['name'], 'result':'Winner', 'health':yourself['health']}\n",
    "    \n",
    "    elif (message == 'Y'):\n",
    "        while yourself['health']>0 and enemy['health']>0:\n",
    "\n",
    "            enemy = attack(who= enemy, strength = random.randrange(0,50,1))\n",
    "            if enemy['health'] == 0:\n",
    "                print(f\"You killed the {enemy['name']}\")\n",
    "                print(f\"{yourself['name']} won the battle\") \n",
    "                return {'name': yourself['name'], 'result': 'Winner', 'health': yourself['health']}\n",
    "        \n",
    "            yourself = attack (who= yourself, strength = random.randrange(0,50,1))\n",
    "            if yourself['health'] == 0:\n",
    "                print (f\"{yourself['name']} died\")\n",
    "                print(f\"The winner is {enemy['name']}!\")\n",
    "                return {'name': enemy['name'], 'result': 'Winner', 'health':yourself['health']}\n",
    "        return winner\n",
    "        print (winner)\n"
   ]
  },
  {
   "cell_type": "code",
   "execution_count": 30,
   "id": "7ddadff3",
   "metadata": {
    "deletable": false,
    "editable": false,
    "nbgrader": {
     "cell_type": "code",
     "checksum": "ff82c76a05f21abe1ab8e6ac11fddfa2",
     "grade": false,
     "grade_id": "cell-ff8621438de6be1a",
     "locked": true,
     "schema_version": 3,
     "solution": false,
     "task": false
    },
    "tags": []
   },
   "outputs": [],
   "source": [
    "# Example\n",
    "# create new characters\n",
    "anenemy = new_ogre(xp_value=50)\n",
    "me = new_self()\n",
    "\n",
    "# enter room\n",
    "# enemyroom(yourself = me, enemy = anenemy)   # please comment this out before submiting for grading!"
   ]
  },
  {
   "cell_type": "markdown",
   "id": "21569b0d",
   "metadata": {
    "deletable": false,
    "editable": false,
    "nbgrader": {
     "cell_type": "markdown",
     "checksum": "fd74c3ca32d90a0225fc5e0b01b057c8",
     "grade": false,
     "grade_id": "cell-78441ee28e9a199f",
     "locked": true,
     "schema_version": 3,
     "solution": false,
     "task": false
    },
    "tags": []
   },
   "source": [
    "**Grading Criteria (10.5 points)**\n",
    "\n",
    "To grade this section I am using the `unittest` module to simulate user interactions with you game. \n",
    "\n",
    "For instance the following will simulate me typing \"Y\" after running the room function:\n",
    "\n",
    "``` python\n",
    "with patch('builtins.input', side_effect=['Y']):\n",
    "```\n",
    "\n",
    "- [ ] Check that someone's dictionary is returned from the room  (eg someone walks away)try:\n",
    "    assert isinstance(new_ogre(),dict) \n",
    "except AssertionError:\n",
    "    raise AssertionError(\"Your enemy is not a dictionary, please make it so\")\n",
    "\n",
    "- [ ] User prompted to fight or run - with valid responses to both \n",
    "\n",
    "- [ ] An extremely strong character should always win \n",
    "\n",
    "- [ ] The winner should have 0 or more health"
   ]
  },
  {
   "cell_type": "code",
   "execution_count": 31,
   "id": "ba5c410f-6c81-409c-9a86-144913d0a09a",
   "metadata": {
    "deletable": false,
    "editable": false,
    "nbgrader": {
     "cell_type": "code",
     "checksum": "f39fa7e9f55afda1916babd1be3b6875",
     "grade": false,
     "grade_id": "cell-c6af91a724685a43",
     "locked": true,
     "schema_version": 3,
     "solution": false,
     "task": false
    },
    "tags": []
   },
   "outputs": [],
   "source": [
    "# The following defines tests used for grading\n",
    "\n",
    "# if importing unittest throws an error, open a new terminal from vscode or jupyter lab, make sure you are in the right environment\n",
    "# and run `pip install unittest2`\n",
    "from unittest.mock import patch\n",
    "import unittest\n",
    "\n",
    "\n",
    "\n",
    "class TestEnemyRoom(unittest.TestCase): \n",
    "    def test_there_is_a_winner(self):\n",
    "        player = {'name': 'player', 'health': 100}\n",
    "        enemy = {'name': 'ogre', 'health': 100}\n",
    "        winner = enemyroom(player, enemy)\n",
    "        self.assertIsInstance(winner,dict, \"There much be a winner, please return a characters dictionary.\")\n",
    "\n",
    "    def test_encounter_weak_enemy(self):\n",
    "        player = {'name': 'player', 'health': 1000}\n",
    "        enemy = {'name': 'ogre', 'health': 10}\n",
    "        winner = enemyroom(player, enemy)\n",
    "        print('winner is', winner)\n",
    "        # check that the player wins\n",
    "        self.assertTrue(winner['name'] == 'player', \"The player should win since orgre was SO weak. Check your code!\")\n",
    "     \n",
    "    def test_encounter_strong_enemy(self):\n",
    "        player = {'name': 'player', 'health': 10}\n",
    "        enemy = {'name': 'ogre', 'health': 1000}\n",
    "        winner = enemyroom(player, enemy)\n",
    "        print('winner is', winner)\n",
    "        self.assertTrue(winner['name'] == 'ogre', \"The ogre should win the player was SO weak. Check your code!\")\n",
    "        \n",
    "    def test_winner_isnt_undead(self):\n",
    "        player = {'name': 'player', 'health': 200}\n",
    "        enemy = {'name': 'ogre', 'health': 100}\n",
    "        winner = enemyroom(player, enemy)\n",
    "        print('winner is', winner)\n",
    "        print(f'The winner has {winner[\"health\"]} health left.')\n",
    "        self.assertTrue(winner['health'] >= 0, \"The winner should have 0 or more health left.\")\n",
    "\n",
    "    def test_winner_returned(self):\n",
    "        player = {'name': 'player', 'health': 100}\n",
    "        enemy = {'name': 'ogre', 'health': 100}\n",
    "        winner = enemyroom(player, enemy)\n",
    "        self.assertIn('name', winner, \"The winner should be returned and have a name.\")\n",
    "\n",
    "  \n",
    "# Manually create an instance of TestPickUpItem\n",
    "test_case_instance = TestEnemyRoom()\n"
   ]
  },
  {
   "cell_type": "code",
   "execution_count": 32,
   "id": "cf8033c8-3ce9-4e93-83f8-3f7352382f9f",
   "metadata": {
    "deletable": false,
    "editable": false,
    "nbgrader": {
     "cell_type": "code",
     "checksum": "ff6e0be3ee466df18c9ded758e29f98f",
     "grade": false,
     "grade_id": "cell-b971dbecd0be2fa2",
     "locked": true,
     "schema_version": 3,
     "solution": false,
     "task": false
    },
    "tags": []
   },
   "outputs": [],
   "source": [
    "\"\"\" Tests: do not edit or remove \"\"\"\n",
    "try:\n",
    "    assert isinstance(new_ogre(),dict) \n",
    "except AssertionError:\n",
    "    raise AssertionError(\"Your enemy is not a dictionary, please make it so\")"
   ]
  },
  {
   "cell_type": "code",
   "execution_count": 33,
   "id": "25768434",
   "metadata": {
    "deletable": false,
    "editable": false,
    "nbgrader": {
     "cell_type": "code",
     "checksum": "8f761dfd569d7163bd1f1935564afb5b",
     "grade": false,
     "grade_id": "cell-a758b829e34dbfdc",
     "locked": true,
     "schema_version": 3,
     "solution": false,
     "task": false
    },
    "tags": []
   },
   "outputs": [
    {
     "name": "stdout",
     "output_type": "stream",
     "text": [
      "#####################\n",
      " Testing that a winner is returned after a fight \n",
      " #####################.\n",
      "Good hit, the {'name': 'ogre', 'health': 100} still has 100 health points left\n",
      "Good hit, the {'name': 'player', 'health': 100} still has 100 health points left\n",
      "Good hit, the {'name': 'ogre', 'health': 70} still has 70 health points left\n",
      "Good hit, the {'name': 'player', 'health': 68} still has 68 health points left\n",
      "Good hit, the {'name': 'ogre', 'health': 63} still has 63 health points left\n",
      "Good hit, the {'name': 'player', 'health': 48} still has 48 health points left\n",
      "Good hit, the {'name': 'ogre', 'health': 46} still has 46 health points left\n",
      "Good hit, the {'name': 'player', 'health': 46} still has 46 health points left\n",
      "Good hit, the {'name': 'ogre', 'health': 29} still has 29 health points left\n",
      "Good hit, the {'name': 'player', 'health': 34} still has 34 health points left\n",
      "Youve killed the {'name': 'ogre', 'health': 8}!\n",
      "You killed the ogre\n",
      "player won the battle\n"
     ]
    }
   ],
   "source": [
    "# Side effects are passed as if they were user input\n",
    "with patch('builtins.input', side_effect=['Y']):\n",
    "    print('#####################\\n Testing that a winner is returned after a fight \\n #####################.')\n",
    "    test_case_instance.test_there_is_a_winner()"
   ]
  },
  {
   "cell_type": "code",
   "execution_count": 34,
   "id": "8a46c689",
   "metadata": {
    "deletable": false,
    "editable": false,
    "nbgrader": {
     "cell_type": "code",
     "checksum": "f8cb707cc4deaf20625c215e90988b21",
     "grade": false,
     "grade_id": "cell-e2614886adb9d4f0",
     "locked": true,
     "schema_version": 3,
     "solution": false,
     "task": false
    },
    "tags": []
   },
   "outputs": [
    {
     "name": "stdout",
     "output_type": "stream",
     "text": [
      "#####################\n",
      " Testing that a coward is returned after he runs away \n",
      " #####################.\n",
      "You live to fight another day\n"
     ]
    }
   ],
   "source": [
    "\n",
    "# Side effects are passed as if they were user input\n",
    "with patch('builtins.input', side_effect=['N']):\n",
    "    print('#####################\\n Testing that a coward is returned after he runs away \\n #####################.')\n",
    "    test_case_instance.test_there_is_a_winner()"
   ]
  },
  {
   "cell_type": "code",
   "execution_count": 35,
   "id": "b3f5946b",
   "metadata": {
    "deletable": false,
    "editable": false,
    "nbgrader": {
     "cell_type": "code",
     "checksum": "b918685b65d5289f5609f2264e86ea8b",
     "grade": false,
     "grade_id": "cell-814925caf923120b",
     "locked": true,
     "schema_version": 3,
     "solution": false,
     "task": false
    },
    "tags": []
   },
   "outputs": [
    {
     "name": "stdout",
     "output_type": "stream",
     "text": [
      "#####################\n",
      " Testing that the player wins if they encounter a weak enemy \n",
      " #####################.\n",
      "Youve killed the {'name': 'ogre', 'health': 10}!\n",
      "You killed the ogre\n",
      "player won the battle\n",
      "winner is {'name': 'player', 'result': 'Winner', 'health': 1000}\n"
     ]
    }
   ],
   "source": [
    "# Side effects are passed as if they were user input\n",
    "with patch('builtins.input', side_effect=['Y']):\n",
    "    print('#####################\\n Testing that the player wins if they encounter a weak enemy \\n #####################.')\n",
    "    test_case_instance.test_encounter_weak_enemy()"
   ]
  },
  {
   "cell_type": "code",
   "execution_count": 36,
   "id": "0aae71b6",
   "metadata": {
    "deletable": false,
    "editable": false,
    "nbgrader": {
     "cell_type": "code",
     "checksum": "f812e70c8dcc42117d29863b1861ece3",
     "grade": false,
     "grade_id": "cell-27d8f5150daa7a90",
     "locked": true,
     "schema_version": 3,
     "solution": false,
     "task": false
    },
    "tags": []
   },
   "outputs": [
    {
     "name": "stdout",
     "output_type": "stream",
     "text": [
      "#####################\n",
      " Testing that the player wins if they encounter a strong enemy \n",
      " #####################.\n",
      "Good hit, the {'name': 'ogre', 'health': 1000} still has 1000 health points left\n",
      "Youve killed the {'name': 'player', 'health': 10}!\n",
      "player died\n",
      "The winner is ogre!\n",
      "winner is {'name': 'ogre', 'result': 'Winner', 'health': 0}\n"
     ]
    }
   ],
   "source": [
    "# Side effects are passed as if they were user input\n",
    "with patch('builtins.input', side_effect=['Y']):\n",
    "    print('#####################\\n Testing that the player wins if they encounter a strong enemy \\n #####################.')\n",
    "    test_case_instance.test_encounter_strong_enemy()"
   ]
  },
  {
   "cell_type": "code",
   "execution_count": 37,
   "id": "1a59045f",
   "metadata": {
    "deletable": false,
    "editable": false,
    "nbgrader": {
     "cell_type": "code",
     "checksum": "14fa79f674e5d9c41a51d3b0d3deb16e",
     "grade": false,
     "grade_id": "cell-c915ee9535385d42",
     "locked": true,
     "schema_version": 3,
     "solution": false,
     "task": false
    },
    "tags": []
   },
   "outputs": [
    {
     "name": "stdout",
     "output_type": "stream",
     "text": [
      "#####################\n",
      " Testing that the player wins if they encounter a strong enemy \n",
      " #####################.\n",
      "Good hit, the {'name': 'ogre', 'health': 100} still has 100 health points left\n",
      "Good hit, the {'name': 'player', 'health': 200} still has 200 health points left\n",
      "Good hit, the {'name': 'ogre', 'health': 88} still has 88 health points left\n",
      "Good hit, the {'name': 'player', 'health': 197} still has 197 health points left\n",
      "Good hit, the {'name': 'ogre', 'health': 58} still has 58 health points left\n",
      "Good hit, the {'name': 'player', 'health': 157} still has 157 health points left\n",
      "Youve killed the {'name': 'ogre', 'health': 10}!\n",
      "You killed the ogre\n",
      "player won the battle\n",
      "winner is {'name': 'player', 'result': 'Winner', 'health': 118}\n",
      "The winner has 118 health left.\n"
     ]
    }
   ],
   "source": [
    "# Side effects are passed as if they were user input\n",
    "with patch('builtins.input', side_effect=['Y']):\n",
    "    print('#####################\\n Testing that the player wins if they encounter a strong enemy \\n #####################.')\n",
    "    test_case_instance.test_winner_isnt_undead()"
   ]
  },
  {
   "cell_type": "code",
   "execution_count": 38,
   "id": "21cff622-cc82-4857-b6c6-ff70e383f7a3",
   "metadata": {
    "deletable": false,
    "editable": false,
    "nbgrader": {
     "cell_type": "code",
     "checksum": "4aa73371e38dc2b7b3eff0b574874c4c",
     "grade": true,
     "grade_id": "cell-ed9878f5104f9e70",
     "locked": true,
     "points": 2,
     "schema_version": 3,
     "solution": false,
     "task": false
    },
    "tags": []
   },
   "outputs": [
    {
     "data": {
      "text/plain": [
       "' Hidden tests - These tests mirror the tests above - you will not see any additional feedback '"
      ]
     },
     "execution_count": 38,
     "metadata": {},
     "output_type": "execute_result"
    }
   ],
   "source": [
    "\"\"\" Hidden tests - These tests mirror the tests above - you will not see any additional feedback \"\"\""
   ]
  },
  {
   "cell_type": "code",
   "execution_count": 39,
   "id": "3aee4884-8b09-45a6-9b03-f78054fad5a4",
   "metadata": {
    "deletable": false,
    "editable": false,
    "nbgrader": {
     "cell_type": "code",
     "checksum": "d8c734fc239aacafab7893866f92d8bf",
     "grade": true,
     "grade_id": "cell-56997e83cf895465",
     "locked": true,
     "points": 2,
     "schema_version": 3,
     "solution": false,
     "task": false
    },
    "tags": []
   },
   "outputs": [
    {
     "data": {
      "text/plain": [
       "' Hidden tests - These tests mirror the tests above - you will not see any additional feedback '"
      ]
     },
     "execution_count": 39,
     "metadata": {},
     "output_type": "execute_result"
    }
   ],
   "source": [
    "\"\"\" Hidden tests - These tests mirror the tests above - you will not see any additional feedback \"\"\""
   ]
  },
  {
   "cell_type": "code",
   "execution_count": 40,
   "id": "005d58ff-8d0a-4b83-9345-5924019a81a6",
   "metadata": {
    "deletable": false,
    "editable": false,
    "nbgrader": {
     "cell_type": "code",
     "checksum": "0610c1617aecb5d8d64240ca87210ca8",
     "grade": true,
     "grade_id": "cell-9bfe232bff803871",
     "locked": true,
     "points": 2,
     "schema_version": 3,
     "solution": false,
     "task": false
    },
    "tags": []
   },
   "outputs": [
    {
     "data": {
      "text/plain": [
       "' Hidden tests - These tests mirror the tests above - you will not see any additional feedback '"
      ]
     },
     "execution_count": 40,
     "metadata": {},
     "output_type": "execute_result"
    }
   ],
   "source": [
    "\"\"\" Hidden tests - These tests mirror the tests above - you will not see any additional feedback \"\"\""
   ]
  },
  {
   "cell_type": "code",
   "execution_count": 41,
   "id": "3281bb9a-ebc7-459b-9b1e-1a5472f3d374",
   "metadata": {
    "deletable": false,
    "editable": false,
    "nbgrader": {
     "cell_type": "code",
     "checksum": "96f5b5a163d8cf4fb9b6beeb935a4552",
     "grade": true,
     "grade_id": "cell-6dcf4184c9d414a6",
     "locked": true,
     "points": 2,
     "schema_version": 3,
     "solution": false,
     "task": false
    },
    "tags": []
   },
   "outputs": [
    {
     "name": "stdout",
     "output_type": "stream",
     "text": [
      "#####################\n",
      " Testing that the player wins if they encounter a strong enemy \n",
      " #####################.\n",
      "Good hit, the {'name': 'ogre', 'health': 1000} still has 1000 health points left\n",
      "Youve killed the {'name': 'player', 'health': 10}!\n",
      "player died\n",
      "The winner is ogre!\n",
      "winner is {'name': 'ogre', 'result': 'Winner', 'health': 0}\n"
     ]
    }
   ],
   "source": [
    "\"\"\" Hidden tests - These tests mirror the tests above - you will not see any additional feedback \"\"\"\n",
    "# Side effects are passed as if they were user input\n",
    "with patch('builtins.input', side_effect=['Y']):\n",
    "    print('#####################\\n Testing that the player wins if they encounter a strong enemy \\n #####################.')\n",
    "    test_case_instance.test_encounter_strong_enemy()"
   ]
  },
  {
   "cell_type": "code",
   "execution_count": 42,
   "id": "7c0b48fa-9f9c-43ae-96b1-ce52c3020d1d",
   "metadata": {
    "deletable": false,
    "editable": false,
    "nbgrader": {
     "cell_type": "code",
     "checksum": "a80cf210e47f219591e726059ec3119e",
     "grade": true,
     "grade_id": "cell-50b4a4c1a954d24d",
     "locked": true,
     "points": 2,
     "schema_version": 3,
     "solution": false,
     "task": false
    },
    "tags": []
   },
   "outputs": [
    {
     "name": "stdout",
     "output_type": "stream",
     "text": [
      "#####################\n",
      " Testing that the player wins if they encounter a strong enemy \n",
      " #####################.\n",
      "Good hit, the {'name': 'ogre', 'health': 100} still has 100 health points left\n",
      "Good hit, the {'name': 'player', 'health': 200} still has 200 health points left\n",
      "Good hit, the {'name': 'ogre', 'health': 69} still has 69 health points left\n",
      "Good hit, the {'name': 'player', 'health': 182} still has 182 health points left\n",
      "Good hit, the {'name': 'ogre', 'health': 57} still has 57 health points left\n",
      "Good hit, the {'name': 'player', 'health': 137} still has 137 health points left\n",
      "Good hit, the {'name': 'ogre', 'health': 30} still has 30 health points left\n",
      "Good hit, the {'name': 'player', 'health': 88} still has 88 health points left\n",
      "Youve killed the {'name': 'ogre', 'health': 22}!\n",
      "You killed the ogre\n",
      "player won the battle\n",
      "winner is {'name': 'player', 'result': 'Winner', 'health': 79}\n",
      "The winner has 79 health left.\n"
     ]
    }
   ],
   "source": [
    "\"\"\" Hidden tests - These tests mirror the tests above - you will not see any additional feedback \"\"\"\n",
    "# Side effects are passed as if they were user input\n",
    "with patch('builtins.input', side_effect=['Y']):\n",
    "    print('#####################\\n Testing that the player wins if they encounter a strong enemy \\n #####################.')\n",
    "    test_case_instance.test_winner_isnt_undead()"
   ]
  },
  {
   "cell_type": "code",
   "execution_count": 43,
   "id": "e0d6871d-f750-4907-893b-280b70bf6ff4",
   "metadata": {
    "deletable": false,
    "editable": false,
    "nbgrader": {
     "cell_type": "code",
     "checksum": "6d6f2bb35d75da94641b931680f06c47",
     "grade": true,
     "grade_id": "cell-de94a7f5b29b5174",
     "locked": true,
     "points": 0.5,
     "schema_version": 3,
     "solution": false,
     "task": false
    },
    "tags": []
   },
   "outputs": [
    {
     "data": {
      "text/plain": [
       "' Hidden tests - These tests mirror the tests above - you will not see any additional feedback '"
      ]
     },
     "execution_count": 43,
     "metadata": {},
     "output_type": "execute_result"
    }
   ],
   "source": [
    "\"\"\" Hidden tests - These tests mirror the tests above - you will not see any additional feedback \"\"\""
   ]
  },
  {
   "cell_type": "markdown",
   "id": "4886f5b3",
   "metadata": {
    "deletable": false,
    "editable": false,
    "nbgrader": {
     "cell_type": "markdown",
     "checksum": "79eb7ea90d31db2be3d20074bf225d97",
     "grade": false,
     "grade_id": "cell-a581ed8483e9fe02",
     "locked": true,
     "schema_version": 3,
     "solution": false,
     "task": false
    }
   },
   "source": [
    "---\n",
    "## Challenge Question (3 points)\n",
    "\n",
    "A common element of text based games is the ability to pickup items and store them for use later. In this section we are going to set up the ability to pick up items using a `while` loop in the function called `pick_up_item`. \n",
    "\n",
    "We are going to use a `dictionary` to act as the backpack for our character. The backpack has the following properties:\n",
    "- Every item *available to be picked up* will be stored in a dictionary called  `items_in_chest`.\n",
    "    - The `items_in_chest` dictionary should store the item name and it's weight. \n",
    "- We will store the items in our backpack as we pick them up within `items_in_backpack`.\n",
    "- The backpack can only hold 3 items at any time, to do this we can use the length of `len(items_in_backpack)`, which tells us how many keys are in our dictionary. \n",
    "- We need to prompt the user multiple times to see if they want to pick an item up, to do this we will use a `while` loop.\n",
    "\n",
    "\n",
    "Hint: The `while` loop should run until the backpack is full, therefore the while loop should be based on the len of the backpack dictionary. See section called \"The while Loop in Action\" pg 118\n"
   ]
  },
  {
   "cell_type": "code",
   "execution_count": 44,
   "id": "b8533ef7",
   "metadata": {
    "deletable": false,
    "editable": false,
    "nbgrader": {
     "cell_type": "code",
     "checksum": "df88918811bf6f69e43f804593dd5646",
     "grade": false,
     "grade_id": "cell-dc9d37b5e6bd720b",
     "locked": true,
     "schema_version": 3,
     "solution": false,
     "task": false
    }
   },
   "outputs": [
    {
     "name": "stdout",
     "output_type": "stream",
     "text": [
      "You wake up dazed.\n",
      "Ugh... your still drunk... your head is ringing\n",
      "\u0007\n",
      "What's that taste in your mouth?\n",
      "You promptly vomit all over yourself\n",
      "Oh man what's this? You open a large box sitting next you you and see the following items:\n",
      "['blanket', 'short sword', 'dagger', 'chain mail']\n",
      "This morning took a sudden turn for the better!\n",
      "Now if only you could figure out how to pick these items up...\n"
     ]
    }
   ],
   "source": [
    "# a tresure chest with 4 items and their weights\n",
    "items_in_chest = {'blanket':3, 'short sword':35, 'dagger':5, 'chain mail':12 }\n",
    "\n",
    "# your currently empty backpack\n",
    "items_in_backpack = {}\n",
    "\n",
    "import time\n",
    "print(f\"You wake up dazed.\")\n",
    "time.sleep(1)\n",
    "print(\"Ugh... your still drunk... your head is ringing\")\n",
    "print('\\a')\n",
    "time.sleep(2)\n",
    "print(\"What's that taste in your mouth?\\nYou promptly vomit all over yourself\")\n",
    "time.sleep(2)\n",
    "print(f\"Oh man what's this? You open a large box sitting next you you and see the following items:\\n{[i for i in items_in_chest]}\")\n",
    "print('This morning took a sudden turn for the better!')\n",
    "time.sleep(2)\n",
    "print(\"Now if only you could figure out how to pick these items up...\")"
   ]
  },
  {
   "cell_type": "code",
   "execution_count": 45,
   "id": "46d48508",
   "metadata": {
    "deletable": false,
    "nbgrader": {
     "cell_type": "code",
     "checksum": "f88780405a1879e322885da18fe4e4da",
     "grade": false,
     "grade_id": "cell-32d0bf37d9a9da4c",
     "locked": false,
     "schema_version": 3,
     "solution": true,
     "task": false
    },
    "tags": []
   },
   "outputs": [],
   "source": [
    "\"\"\"Write your asnwer here. \"\"\"\n",
    "\n",
    "# we need to pass items_in_chest and items_in_backpack to the pick_up_item function in order to use them.\n",
    "# functions only have access to objects that you hand them.\n",
    "\n",
    "def pick_up_item(items_in_chest, items_in_backpack): # creates function pick_up_item\n",
    "    print('In the corner of the room you see the following items in a treasure chest:')\n",
    "\n",
    "    while len(items_in_backpack) < 3:\n",
    "        print(f'\\nYou see the following items in a treasure chest: {items_in_chest}') # presents user with options of what to pick up\n",
    "        message = input('What would you like to pick up?\\t') #asks for user input\n",
    "\n",
    "        if (message in items_in_chest) and (message not in items_in_backpack): #if item is in just and not yet in backpack, it can be picked up and added to backpack\n",
    "            items_in_backpack[message] = items_in_chest[message]\n",
    "            del items_in_chest[message]\n",
    "            print(f'You chose {message} and added it to your backpack. The following items are still avaialble to pick up: {items_in_chest}')\n",
    "        elif message in items_in_backpack: # doesn't allow user to pick up item already in backpack\n",
    "            print(\"You've already picked up that item. Please choose a different one.\")\n",
    "        else: #doesn't allow user to pick up items not in the chest\n",
    "                print(f'The item is not available, try again')\n",
    "\n",
    "        print (f\"You picked up the following items: {items_in_backpack}\")\n",
    "    return items_in_backpack\n",
    "\n",
    "\n",
    " "
   ]
  },
  {
   "cell_type": "code",
   "execution_count": 1185,
   "id": "3b14a615",
   "metadata": {
    "deletable": false,
    "editable": false,
    "nbgrader": {
     "cell_type": "code",
     "checksum": "6efb7ed041f9decf6b5de98e5bd6fffe",
     "grade": false,
     "grade_id": "cell-0666cad5a7c7323d",
     "locked": true,
     "schema_version": 3,
     "solution": false,
     "task": false
    },
    "tags": []
   },
   "outputs": [
    {
     "name": "stdout",
     "output_type": "stream",
     "text": [
      "In the corner of the room you see the following items in a treasure chest:\n",
      "\n",
      "You see the following items in a treasure chest: {'blanket': 3, 'short sword': 35, 'dagger': 5, 'chain mail': 12}\n",
      "The item is not available, try again\n",
      "You picked up the following items: {}\n",
      "\n",
      "You see the following items in a treasure chest: {'blanket': 3, 'short sword': 35, 'dagger': 5, 'chain mail': 12}\n",
      "The item is not available, try again\n",
      "You picked up the following items: {}\n",
      "\n",
      "You see the following items in a treasure chest: {'blanket': 3, 'short sword': 35, 'dagger': 5, 'chain mail': 12}\n"
     ]
    }
   ],
   "source": [
    "# Example\n",
    "items_in_backpack = pick_up_item(items_in_chest, items_in_backpack) # please comment this out before submitting thanks! "
   ]
  },
  {
   "cell_type": "markdown",
   "id": "045aaf51-669c-4798-ac49-09b5e50976d7",
   "metadata": {},
   "source": [
    "### Testing \n",
    "The following code tests your `pick_up_items` code. Please confirm that you can pass all the tests "
   ]
  },
  {
   "cell_type": "code",
   "execution_count": 1186,
   "id": "6e03112c-c7cf-4476-b726-409110169729",
   "metadata": {
    "deletable": false,
    "editable": false,
    "nbgrader": {
     "cell_type": "code",
     "checksum": "bd915e12d498aab98a724f535236855f",
     "grade": false,
     "grade_id": "cell-232d68f389ccf424",
     "locked": true,
     "schema_version": 3,
     "solution": false,
     "task": false
    },
    "tags": []
   },
   "outputs": [],
   "source": [
    "from unittest.mock import patch\n",
    "\n",
    "# Assuming TestPickUpItem and pick_up_item are already defined\n",
    "class TestPickUpItem(unittest.TestCase):\n",
    "    # check that returned value is a dictionary\n",
    "    def test_pick_up_item_returns_dictionary(self):\n",
    "        print('===========\\nTesting that pick_up_item returns a dictionary.\\n===========')\n",
    "        items_in_chest = {'blanket': 3, 'short sword': 35, 'dagger': 5, 'chain mail': 12}\n",
    "        items_in_backpack = {}\n",
    "        \n",
    "        result = pick_up_item(items_in_chest, items_in_backpack)\n",
    "        \n",
    "        self.assertIsInstance(result, dict, \"The function should return a dictionary.\")\n",
    "\n",
    "\n",
    "    def test_pick_up_only_three_items(self):\n",
    "        print('===========\\nTesting that you can only pick up 3 items.\\n===========')\n",
    "        items_in_chest = {'blanket': 3, 'short sword': 35, 'dagger': 5, 'chain mail': 12}\n",
    "        items_in_backpack = {}\n",
    "        \n",
    "        result = pick_up_item(items_in_chest, items_in_backpack)\n",
    "        \n",
    "        if len(result) != 3:\n",
    "            self.fail(\"You should only be able to pick up 3 items.\")\n",
    "            \n",
    "        self.assertEqual(result, {'blanket': 3, 'short sword': 35, 'dagger': 5}, \"The items in the backpack are incorrect.\")\n",
    "\n",
    "    # try to pick up nonexistent item, then pick up 3 items\n",
    "    def test_pick_up_nonexistent_item(self):\n",
    "        print('===========\\nTesting that you reprompt user if they try to pick up a nonexistent item.\\n===========')\n",
    "        items_in_chest = {'blanket': 3, 'short sword': 35, 'dagger': 5, 'chain mail': 12}\n",
    "        items_in_backpack = {}\n",
    "        \n",
    "        result = pick_up_item(items_in_chest, items_in_backpack)\n",
    "        \n",
    "        if len(result) != 3:\n",
    "            self.fail(\"You should continue to prompt the user if they try to pick up a nonexistent item.\")\n",
    "        \n",
    "        self.assertEqual(result, {'blanket': 3, 'short sword': 35,'chain mail': 12}, \"The items in the backpack are incorrect.\")\n",
    "\n",
    "# Manually create an instance of TestPickUpItem\n",
    "test_case_instance = TestPickUpItem()"
   ]
  },
  {
   "cell_type": "code",
   "execution_count": 1187,
   "id": "cc96317a-7e53-471a-a31a-93cdc1f41379",
   "metadata": {
    "deletable": false,
    "editable": false,
    "nbgrader": {
     "cell_type": "code",
     "checksum": "5c3b8eaf25d160beef5804345bef8fa0",
     "grade": false,
     "grade_id": "cell-232d68f33242124",
     "locked": true,
     "schema_version": 3,
     "solution": false,
     "task": false
    },
    "tags": []
   },
   "outputs": [
    {
     "name": "stdout",
     "output_type": "stream",
     "text": [
      "===========\n",
      "Testing that pick_up_item returns a dictionary.\n",
      "===========\n",
      "In the corner of the room you see the following items in a treasure chest:\n",
      "\n",
      "You see the following items in a treasure chest: {'blanket': 3, 'short sword': 35, 'dagger': 5, 'chain mail': 12}\n",
      "You chose blanket and added it to your backpack. The following items are still avaialble to pick up: {'short sword': 35, 'dagger': 5, 'chain mail': 12}\n",
      "You picked up the following items: {'blanket': 3}\n",
      "\n",
      "You see the following items in a treasure chest: {'short sword': 35, 'dagger': 5, 'chain mail': 12}\n",
      "You chose short sword and added it to your backpack. The following items are still avaialble to pick up: {'dagger': 5, 'chain mail': 12}\n",
      "You picked up the following items: {'blanket': 3, 'short sword': 35}\n",
      "\n",
      "You see the following items in a treasure chest: {'dagger': 5, 'chain mail': 12}\n",
      "You chose dagger and added it to your backpack. The following items are still avaialble to pick up: {'chain mail': 12}\n",
      "You picked up the following items: {'blanket': 3, 'short sword': 35, 'dagger': 5}\n"
     ]
    }
   ],
   "source": [
    "# Side effects are passed as if they were user input\n",
    "with patch('builtins.input', side_effect=['blanket', 'short sword', 'dagger']):\n",
    "    test_case_instance.test_pick_up_item_returns_dictionary()"
   ]
  },
  {
   "cell_type": "code",
   "execution_count": 1188,
   "id": "743878d9",
   "metadata": {
    "deletable": false,
    "editable": false,
    "nbgrader": {
     "cell_type": "code",
     "checksum": "f6097798f10d5a30ef5e5942f7f182ad",
     "grade": false,
     "grade_id": "cell-2d82ae0dfc0df1db",
     "locked": true,
     "schema_version": 3,
     "solution": false,
     "task": false
    },
    "tags": []
   },
   "outputs": [
    {
     "name": "stdout",
     "output_type": "stream",
     "text": [
      "===========\n",
      "Testing that you can only pick up 3 items.\n",
      "===========\n",
      "In the corner of the room you see the following items in a treasure chest:\n",
      "\n",
      "You see the following items in a treasure chest: {'blanket': 3, 'short sword': 35, 'dagger': 5, 'chain mail': 12}\n",
      "You chose blanket and added it to your backpack. The following items are still avaialble to pick up: {'short sword': 35, 'dagger': 5, 'chain mail': 12}\n",
      "You picked up the following items: {'blanket': 3}\n",
      "\n",
      "You see the following items in a treasure chest: {'short sword': 35, 'dagger': 5, 'chain mail': 12}\n",
      "You chose short sword and added it to your backpack. The following items are still avaialble to pick up: {'dagger': 5, 'chain mail': 12}\n",
      "You picked up the following items: {'blanket': 3, 'short sword': 35}\n",
      "\n",
      "You see the following items in a treasure chest: {'dagger': 5, 'chain mail': 12}\n",
      "You chose dagger and added it to your backpack. The following items are still avaialble to pick up: {'chain mail': 12}\n",
      "You picked up the following items: {'blanket': 3, 'short sword': 35, 'dagger': 5}\n"
     ]
    }
   ],
   "source": [
    "# Side effects are passed as if they were user input\n",
    "with patch('builtins.input', side_effect=['blanket', 'short sword', 'dagger']):\n",
    "    test_case_instance.test_pick_up_only_three_items()"
   ]
  },
  {
   "cell_type": "code",
   "execution_count": 1189,
   "id": "b46d7a8b",
   "metadata": {
    "deletable": false,
    "editable": false,
    "nbgrader": {
     "cell_type": "code",
     "checksum": "d3501ad2384b0c592527e88cdc3b25e2",
     "grade": false,
     "grade_id": "cell-770405d4b23b8385",
     "locked": true,
     "schema_version": 3,
     "solution": false,
     "task": false
    },
    "tags": []
   },
   "outputs": [
    {
     "name": "stdout",
     "output_type": "stream",
     "text": [
      "===========\n",
      "Testing that you reprompt user if they try to pick up a nonexistent item.\n",
      "===========\n",
      "In the corner of the room you see the following items in a treasure chest:\n",
      "\n",
      "You see the following items in a treasure chest: {'blanket': 3, 'short sword': 35, 'dagger': 5, 'chain mail': 12}\n",
      "The item is not available, try again\n",
      "You picked up the following items: {}\n",
      "\n",
      "You see the following items in a treasure chest: {'blanket': 3, 'short sword': 35, 'dagger': 5, 'chain mail': 12}\n",
      "You chose blanket and added it to your backpack. The following items are still avaialble to pick up: {'short sword': 35, 'dagger': 5, 'chain mail': 12}\n",
      "You picked up the following items: {'blanket': 3}\n",
      "\n",
      "You see the following items in a treasure chest: {'short sword': 35, 'dagger': 5, 'chain mail': 12}\n",
      "You chose short sword and added it to your backpack. The following items are still avaialble to pick up: {'dagger': 5, 'chain mail': 12}\n",
      "You picked up the following items: {'blanket': 3, 'short sword': 35}\n",
      "\n",
      "You see the following items in a treasure chest: {'dagger': 5, 'chain mail': 12}\n",
      "You chose chain mail and added it to your backpack. The following items are still avaialble to pick up: {'dagger': 5}\n",
      "You picked up the following items: {'blanket': 3, 'short sword': 35, 'chain mail': 12}\n"
     ]
    }
   ],
   "source": [
    "# Side effects are passed as if they were user input\n",
    "with patch('builtins.input', side_effect=['non-existant item','blanket', 'short sword', 'chain mail']):\n",
    "    test_case_instance.test_pick_up_nonexistent_item()"
   ]
  },
  {
   "cell_type": "code",
   "execution_count": 1190,
   "id": "8dc062cc-6356-4bbb-92ec-dd9703b325fd",
   "metadata": {
    "deletable": false,
    "editable": false,
    "nbgrader": {
     "cell_type": "code",
     "checksum": "9f10c6aab7b47ccbb54bfa6829a1225c",
     "grade": true,
     "grade_id": "cell-3bd5e9ac4cf52b40",
     "locked": true,
     "points": 1,
     "schema_version": 3,
     "solution": false,
     "task": false
    },
    "tags": []
   },
   "outputs": [
    {
     "data": {
      "text/plain": [
       "' Hidden tests - These tests mirror the tests above - you will not see any additional feedback '"
      ]
     },
     "execution_count": 1190,
     "metadata": {},
     "output_type": "execute_result"
    }
   ],
   "source": [
    "\"\"\" Hidden tests - These tests mirror the tests above - you will not see any additional feedback \"\"\""
   ]
  },
  {
   "cell_type": "code",
   "execution_count": 1191,
   "id": "e178286f-315e-452f-874e-ccee634c6766",
   "metadata": {
    "deletable": false,
    "editable": false,
    "nbgrader": {
     "cell_type": "code",
     "checksum": "1cb59d8fb6d010a59af04f16de61ccda",
     "grade": true,
     "grade_id": "cell-68d2aa057277b19c",
     "locked": true,
     "points": 1,
     "schema_version": 3,
     "solution": false,
     "task": false
    },
    "tags": []
   },
   "outputs": [
    {
     "data": {
      "text/plain": [
       "' Hidden tests - These tests mirror the tests above - you will not see any additional feedback '"
      ]
     },
     "execution_count": 1191,
     "metadata": {},
     "output_type": "execute_result"
    }
   ],
   "source": [
    "\"\"\" Hidden tests - These tests mirror the tests above - you will not see any additional feedback \"\"\""
   ]
  },
  {
   "cell_type": "code",
   "execution_count": 1192,
   "id": "6dfac860-d523-4a51-8ac6-bddb2d506872",
   "metadata": {
    "deletable": false,
    "editable": false,
    "nbgrader": {
     "cell_type": "code",
     "checksum": "80356b1098562889e0c6cae8a79f0dd7",
     "grade": true,
     "grade_id": "cell-bcb8abfb3ac6b2c2",
     "locked": true,
     "points": 1,
     "schema_version": 3,
     "solution": false,
     "task": false
    },
    "tags": []
   },
   "outputs": [
    {
     "data": {
      "text/plain": [
       "' Hidden tests - These tests mirror the tests above - you will not see any additional feedback '"
      ]
     },
     "execution_count": 1192,
     "metadata": {},
     "output_type": "execute_result"
    }
   ],
   "source": [
    "\"\"\" Hidden tests - These tests mirror the tests above - you will not see any additional feedback \"\"\""
   ]
  }
 ],
 "metadata": {
  "kernelspec": {
   "display_name": "Python 3 (ipykernel)",
   "language": "python",
   "name": "python3"
  },
  "language_info": {
   "codemirror_mode": {
    "name": "ipython",
    "version": 3
   },
   "file_extension": ".py",
   "mimetype": "text/x-python",
   "name": "python",
   "nbconvert_exporter": "python",
   "pygments_lexer": "ipython3",
   "version": "3.9.6"
  }
 },
 "nbformat": 4,
 "nbformat_minor": 5
}
