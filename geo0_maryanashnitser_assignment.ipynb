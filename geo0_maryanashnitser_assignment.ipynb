{
 "cells": [
  {
   "cell_type": "markdown",
   "metadata": {},
   "source": [
    "Before you turn this problem in, make sure everything runs as expected. First, **restart the kernel** (in the menubar, select Kernel$\\rightarrow$Restart) and then **run all cells** (in the menubar, select Cell$\\rightarrow$Run All).\n",
    "\n",
    "Make sure you fill in any place that says `YOUR CODE HERE` or \"YOUR ANSWER HERE\", as well as your name and collaborators below:"
   ]
  },
  {
   "cell_type": "code",
   "execution_count": null,
   "metadata": {},
   "outputs": [],
   "source": [
    "NAME = \"\"\n",
    "COLLABORATORS = \"\""
   ]
  },
  {
   "cell_type": "markdown",
   "metadata": {},
   "source": [
    "---"
   ]
  },
  {
   "cell_type": "markdown",
   "metadata": {},
   "source": [
    "# Assignment: notebooktutorial\n",
    "\n",
    "**Few Important Things:**\n",
    " - Save this file as **geo0_emailusername_assignment (e.g. geo0_mmann1123_notebooktutorial.ipynb)**\n",
    "     - You will loose points if you don't rename your file correctly. Please don't forget. \n",
    " - Before submitting make sure to go to Cell > Run All and confirm there are no errors thrown.\n",
    " - If you can't figure something out, that is ok, do your best, feel free to post a specific question on the blackboard Q&A discussion board. \n",
    "\n",
    "## How these assignments will work\n",
    "\n",
    "**For detailed instructions on how to complete these exercises please read the following #[tutorial](https://mmann1123.github.io/GEOG6308/)**. "
   ]
  },
  {
   "cell_type": "markdown",
   "metadata": {
    "deletable": false,
    "editable": false,
    "nbgrader": {
     "cell_type": "markdown",
     "checksum": "4feba915eff1ade694c031461513a876",
     "grade": false,
     "grade_id": "cell-e370ef36064dbd3b",
     "locked": true,
     "schema_version": 3,
     "solution": false,
     "task": false
    }
   },
   "source": [
    "# Welcome to Jupyter Notebooks!\n",
    "\n",
    "If you want to learn how to use this tool you've come to the right place. This article will teach you all you need to know to use Jupyter Notebooks effectively. You only need to go through Section 1 to learn the basics and you can go into Section 2 if you want to further increase your productivity.\n",
    "\n",
    "You might be reading this tutorial in a web page (maybe Github or the course's webpage). We strongly suggest to read this tutorial in a (yes, you guessed it) Jupyter Notebook. This way you will be able to actually *try* the different commands we will introduce here.\n",
    "\n",
    "Although this tutorial will walk you through .ipynb use its often helpful to watch a tutorial\n",
    "\n",
    "[If you haven't already please watch this tutorial before you start](https://youtu.be/lsSYNGcQQ8k)"
   ]
  },
  {
   "cell_type": "markdown",
   "metadata": {
    "deletable": false,
    "editable": false,
    "nbgrader": {
     "cell_type": "markdown",
     "checksum": "33b32c521eb7449b15b2b0a5fca27341",
     "grade": false,
     "grade_id": "cell-42f6c4de5eeec9fe",
     "locked": true,
     "schema_version": 3,
     "solution": false,
     "task": false
    }
   },
   "source": [
    "## Section 1: Need to Know\n",
    "\n",
    "### Introduction\n",
    "\n",
    "Let's build up from the basics, what is a Jupyter Notebook? Well, you are reading one. It is a document made of cells. You can write like I am writing now (markdown cells) or you can perform calculations in Python (code cells) and run them like this:\n",
    "\n",
    "select the cell below and hit the \"Run\" button above or hit \"shift+enter\" on your keyboard"
   ]
  },
  {
   "cell_type": "code",
   "execution_count": null,
   "metadata": {},
   "outputs": [],
   "source": [
    "1+1"
   ]
  },
  {
   "cell_type": "markdown",
   "metadata": {
    "deletable": false,
    "editable": false,
    "nbgrader": {
     "cell_type": "markdown",
     "checksum": "4b647dd28628bd1b422cf30763aed605",
     "grade": false,
     "grade_id": "cell-8ce7caf043cdafab",
     "locked": true,
     "schema_version": 3,
     "solution": false,
     "task": false
    }
   },
   "source": [
    "Cool huh? This combination of prose and code makes Jupyter Notebook ideal for experimentation: we can see the rationale for each experiment, the code and the results in one comprehensive document. In fast.ai, each lesson is documented in a notebook and you can later use that notebook to experiment yourself. \n",
    "\n",
    "Other renowned institutions in academy and industry use Jupyter Notebook: Google, Microsoft, IBM, Bloomberg, Berkeley and NASA among others. Even Nobel-winning economists [use Jupyter Notebooks](https://paulromer.net/jupyter-mathematica-and-the-future-of-the-research-paper/)  for their experiments and some suggest that Jupyter Notebooks will be the [new format for research papers](https://www.theatlantic.com/science/archive/2018/04/the-scientific-paper-is-obsolete/556676/)."
   ]
  },
  {
   "attachments": {
    "code_markdown.png": {
     "image/png": "[encoded data removed]"
    }
   },
   "cell_type": "markdown",
   "metadata": {
    "deletable": false,
    "editable": false,
    "nbgrader": {
     "cell_type": "markdown",
     "checksum": "9d0d6fd29ee8c5cf40d6aa272ca8c28c",
     "grade": false,
     "grade_id": "cell-9825c5d368e4a2b3",
     "locked": true,
     "schema_version": 3,
     "solution": false,
     "task": false
    }
   },
   "source": [
    "### Writing\n",
    "\n",
    "A type of cell in which you can write like this is called _Markdown_. [_Markdown_](https://en.wikipedia.org/wiki/Markdown) is a very popular word processing language. To specify that a cell is _Markdown_ you need to click in the drop-down menu in the toolbar and select _Markdown_.\n",
    "\n",
    "Click on the _+ Markdown_ from the toolbar.\n",
    "\n",
    "![code_markdown.png](attachment:code_markdown.png)\n",
    "\n",
    "Now you can type your first _Markdown_ cell. Write 'My first markdown cell' and press run.\n",
    "\n",
    "You should see something like this:"
   ]
  },
  {
   "cell_type": "markdown",
   "metadata": {},
   "source": [
    "My first markdown cell"
   ]
  },
  {
   "cell_type": "markdown",
   "metadata": {
    "deletable": false,
    "editable": false,
    "nbgrader": {
     "cell_type": "markdown",
     "checksum": "e5ef5b8ff04130b04619a2eb9805f6ca",
     "grade": false,
     "grade_id": "cell-a80abfbf31abfdcc",
     "locked": true,
     "schema_version": 3,
     "solution": false,
     "task": false
    }
   },
   "source": [
    "Now try making your first _Code_ cell: click on _+ Code_. Type something like 3/2, then Run it. You should see '1.5' as output."
   ]
  },
  {
   "cell_type": "code",
   "execution_count": null,
   "metadata": {},
   "outputs": [],
   "source": []
  },
  {
   "cell_type": "markdown",
   "metadata": {},
   "source": [
    "### Modes\n",
    "\n",
    "If you made a mistake in your *Markdown* cell and you have already ran it, you will notice that you cannot edit it just by clicking on it. This is because you are in **Command Mode**. Jupyter Notebooks have two distinct modes:\n",
    "\n",
    "1. **Edit Mode**: Allows you to edit a cell's content.\n",
    "\n",
    "2. **Command Mode**: Allows you to edit the notebook as a whole and use keyboard shortcuts but not edit a cell's content. \n",
    "\n",
    "You can toggle between these two by either pressing <kbd>ESC</kbd> and <kbd>Enter</kbd> or clicking outside a cell or inside it (you need to double click if its a Markdown cell). You can always know which mode you're on since the current cell has a green border if in **Edit Mode** and a blue border in **Command Mode**. Try it!"
   ]
  },
  {
   "cell_type": "markdown",
   "metadata": {},
   "source": [
    "### Other Important Considerations\n",
    "\n",
    "1. Your notebook is autosaved every 120 seconds. If you want to manually save it hit CTR+S\n",
    "\n",
    "2. To know if your kernel is computing or not you can check the dot in your upper right corner. If the dot is full, it means that the kernel is working. If not, it is idle. You can place the mouse on it and see the state of the kernel be displayed."
   ]
  },
  {
   "attachments": {
    "sleep.png": {
     "image/png": "[encoded data removed]"
    }
   },
   "cell_type": "markdown",
   "metadata": {},
   "source": [
    "![sleep.png](attachment:sleep.png)"
   ]
  },
  {
   "cell_type": "markdown",
   "metadata": {},
   "source": [
    "3. There are a couple of shortcuts you must know about which we use **all** the time (always in **Command Mode**). These are:\n",
    "\n",
    "<kbd>Shift</kbd>+<kbd>Enter</kbd>: Runs the code or markdown on a cell\n",
    "\n",
    "<kbd>Up Arrow</kbd>+<kbd>Down Arrow</kbd>: Toggle across cells\n",
    "\n",
    "<kbd>b</kbd>: Create new cell\n",
    "\n",
    "<kbd>0</kbd>+<kbd>0</kbd>: Reset Kernel\n",
    "\n",
    "You can find more shortcuts in the Shortcuts section below."
   ]
  },
  {
   "attachments": {
    "conda_install.png": {
     "image/png": "[encoded data removed]"
    },
    "terminal.png": {
     "image/png": "[encoded data removed]"
    }
   },
   "cell_type": "markdown",
   "metadata": {},
   "source": [
    "4. You may need to use a terminal in a Jupyter Notebook environment  \n",
    "\n",
    "In VScode we simply go to Terminal > New Terminal at the top:\n",
    "\n",
    "![terminal.png](attachment:terminal.png)\n",
    "\n",
    "From there you can install new functionality with `conda` or pull a repository from github. \n",
    "\n",
    "![conda_install.png](attachment:conda_install.png)"
   ]
  },
  {
   "cell_type": "markdown",
   "metadata": {},
   "source": [
    "That's it. This is all you need to know to use Jupyter Notebooks. That said, we have more tips and tricks below ↓↓↓"
   ]
  },
  {
   "cell_type": "markdown",
   "metadata": {},
   "source": [
    "## Section 2: Going deeper\n",
    "\n",
    "### Markdown formatting\n",
    "\n",
    "#### Italics, Bold, Strikethrough, Inline, Blockquotes and Links\n",
    "\n",
    "The five most important concepts to format your code appropriately when using markdown are:\n",
    "    \n",
    "1. *Italics*: Surround your text with '\\_' or '\\*'\n",
    "2. **Bold**: Surround your text with '\\__' or '\\**'\n",
    "3. `inline`: Surround your text with '\\`'\n",
    "4.  > blockquote: Place '\\>' before your text.\n",
    "5.  [Links](https://course.fast.ai/): Surround the text you want to link with '\\[\\]' and place the link adjacent to the text, surrounded with '()'\n"
   ]
  },
  {
   "cell_type": "markdown",
   "metadata": {},
   "source": [
    "#### Headings\n",
    "\n",
    "Notice that including a hashtag before the text in a markdown cell makes the text a heading. The number of hashtags you include will determine the priority of the header ('#' is level one, '##' is level two, '###' is level three and '####' is level four). We will add three new cells with the '+' button on the left to see how every level of heading looks.\n",
    "\n",
    "Double click on some headings and find out what level they are!"
   ]
  },
  {
   "cell_type": "markdown",
   "metadata": {},
   "source": [
    "#### Lists\n",
    "\n",
    "There are three types of lists in markdown."
   ]
  },
  {
   "cell_type": "markdown",
   "metadata": {},
   "source": [
    "Ordered list:\n",
    "\n",
    "1. Step 1\n",
    "    2. Step 1B\n",
    "3. Step 3"
   ]
  },
  {
   "cell_type": "markdown",
   "metadata": {},
   "source": [
    "Unordered list\n",
    "\n",
    "* learning rate\n",
    "* cycle length\n",
    "* weight decay"
   ]
  },
  {
   "cell_type": "markdown",
   "metadata": {},
   "source": [
    "Task list\n",
    "\n",
    "- [x] Learn Jupyter Notebooks\n",
    "    - [x] Writing\n",
    "    - [x] Modes\n",
    "    - [x] Other Considerations\n",
    "- [ ] Change the world"
   ]
  },
  {
   "cell_type": "markdown",
   "metadata": {},
   "source": [
    "Double click on each to see how they are built, and hit run to see how it is rendered."
   ]
  },
  {
   "cell_type": "markdown",
   "metadata": {},
   "source": [
    "### Code Capabilities\n",
    "\n",
    "**Code** cells are different than **Markdown** cells in that they have an output cell. This means that we can _keep_ the results of our code within the notebook and share them. Let's say we want to show a graph that explains the result of an experiment. We can just run the necessary cells and save the notebook. The output will be there when we open it again! Try it out by running the next four cells."
   ]
  },
  {
   "cell_type": "code",
   "execution_count": null,
   "metadata": {},
   "outputs": [],
   "source": [
    "# Import necessary libraries\n",
    "import matplotlib.pyplot as plt"
   ]
  },
  {
   "cell_type": "code",
   "execution_count": null,
   "metadata": {},
   "outputs": [],
   "source": [
    "from PIL import Image"
   ]
  },
  {
   "cell_type": "code",
   "execution_count": null,
   "metadata": {},
   "outputs": [],
   "source": [
    "a = 1\n",
    "b = a + 1\n",
    "c = b + a + 1\n",
    "d = c + b + a + 1\n",
    "a, b, c ,d"
   ]
  },
  {
   "cell_type": "code",
   "execution_count": null,
   "metadata": {},
   "outputs": [],
   "source": [
    "plt.plot([a,b,c,d])\n",
    "plt.show()"
   ]
  },
  {
   "cell_type": "markdown",
   "metadata": {},
   "source": [
    "### Running the app locally\n",
    "\n",
    "You may be running Jupyter Notebook from an interactive coding environment like Gradient, Sagemaker or Salamander. You can also run a Jupyter Notebook server from your local computer. What's more, if you have installed Anaconda you don't even need to install Jupyter (if not, just `pip install jupyter`).\n",
    "\n",
    "You just need to run `jupyter notebook` in your terminal. Remember to run it from a folder that contains all the folders/files you will want to access. You will be able to open, view and edit files located within the directory in which you run this command but not files in parent directories.\n",
    "\n",
    "If a browser tab does not open automatically once you run the command, you should CTRL+CLICK the link starting with 'https://localhost:' and this will open a new tab in your default browser."
   ]
  },
  {
   "cell_type": "markdown",
   "metadata": {},
   "source": [
    "### Creating a notebook"
   ]
  },
  {
   "attachments": {
    "change_kernel.png": {
     "image/png": "[encoded data removed]"
    },
    "new_file.png": {
     "image/png": "[encoded data removed]"
    },
    "select_kernel.png": {
     "image/png": "[encoded data removed]"
    }
   },
   "cell_type": "markdown",
   "metadata": {},
   "source": [
    "In the main window click File > New File, click on .ipynb.\n",
    "![new_file.png](attachment:new_file.png)\n",
    "\n",
    "We also need to choose the 'Kernel' (we are going to use a [Python kernel](https://github.com/ipython/ipython) for all our experiments). \n",
    "\n",
    "To select the kernel click on the 'Kernel' or 'Environment' name in the upper right hand corner, the name might vary but it looks something like this:\n",
    "\n",
    "![change_kernel.png](attachment:change_kernel.png)\n",
    "\n",
    "In this case we will start with the `base` kernel:\n",
    "\n",
    "![select_kernel.png](attachment:select_kernel.png)\n",
    "NOTE: You will sometimes hear people talking about the Notebook 'kernel'. The 'kernel' is just the conda \"sandbox\" or \"environment\" that has the python modules you need installed in it. "
   ]
  },
  {
   "cell_type": "markdown",
   "metadata": {},
   "source": [
    "### Shortcuts and tricks\n",
    "\n",
    "#### Command Mode Shortcuts\n",
    "\n",
    "There are a couple of useful keyboard shortcuts in `Command Mode` that you can leverage to make Jupyter Notebook faster to use. Remember that to switch back and forth between `Command Mode` and `Edit Mode` with <kbd>Esc</kbd> and <kbd>Enter</kbd>."
   ]
  },
  {
   "cell_type": "markdown",
   "metadata": {},
   "source": [
    "<kbd>m</kbd>: Convert cell to Markdown"
   ]
  },
  {
   "cell_type": "markdown",
   "metadata": {},
   "source": [
    "<kbd>y</kbd>: Convert cell to Code"
   ]
  },
  {
   "cell_type": "markdown",
   "metadata": {},
   "source": [
    "<kbd>D</kbd>+<kbd>D</kbd>: Delete the cell(if it's not the only cell) or delete the content of the cell and reset cell to Code(if only one cell left)"
   ]
  },
  {
   "cell_type": "markdown",
   "metadata": {},
   "source": [
    "<kbd>o</kbd>: Toggle between hide or show output"
   ]
  },
  {
   "cell_type": "markdown",
   "metadata": {},
   "source": [
    "<kbd>Shift</kbd>+<kbd>Arrow up/Arrow down</kbd>: Selects multiple cells. Once you have selected them you can operate on them like a batch (run, copy, paste etc)."
   ]
  },
  {
   "cell_type": "markdown",
   "metadata": {},
   "source": [
    "<kbd>Shift</kbd>+<kbd>M</kbd>: Merge selected cells."
   ]
  },
  {
   "cell_type": "markdown",
   "metadata": {},
   "source": [
    "<kbd>Shift</kbd>+<kbd>Tab</kbd>: [press these two buttons at the same time, once] Tells you which parameters to pass on a function\n",
    "\n",
    "<kbd>Shift</kbd>+<kbd>Tab</kbd>: [press these two buttons at the same time, three times] Gives additional information on the method"
   ]
  },
  {
   "cell_type": "markdown",
   "metadata": {},
   "source": [
    "#### Cell Tricks"
   ]
  },
  {
   "cell_type": "code",
   "execution_count": null,
   "metadata": {},
   "outputs": [],
   "source": [
    "# import all functions from geopandas\n",
    "from pandas import *"
   ]
  },
  {
   "cell_type": "markdown",
   "metadata": {},
   "source": [
    "There are also some tricks that you can code into a cell."
   ]
  },
  {
   "cell_type": "markdown",
   "metadata": {},
   "source": [
    "`?function-name`: Shows the definition and docstring for that function"
   ]
  },
  {
   "cell_type": "code",
   "execution_count": null,
   "metadata": {},
   "outputs": [],
   "source": [
    "?read_csv"
   ]
  },
  {
   "cell_type": "markdown",
   "metadata": {},
   "source": [
    "`??function-name`: Shows the source code for that function"
   ]
  },
  {
   "cell_type": "code",
   "execution_count": null,
   "metadata": {},
   "outputs": [],
   "source": [
    "??read_csv"
   ]
  },
  {
   "cell_type": "markdown",
   "metadata": {},
   "source": [
    "-----------------"
   ]
  },
  {
   "cell_type": "markdown",
   "metadata": {
    "deletable": false,
    "editable": false,
    "nbgrader": {
     "cell_type": "markdown",
     "checksum": "0c6aa9353672abcacaf7044bc2708283",
     "grade": false,
     "grade_id": "cell-7d85a135f0869f7c",
     "locked": true,
     "schema_version": 3,
     "solution": false,
     "task": false
    }
   },
   "source": [
    "# Notebook Tutorial Homework\n",
    "\n",
    "Just to make this 'homeworky' let's try a miniture assignment to get an easy 100% on the books! Complete the following exercises and submit your answers to Blackboard. Make sure to read the notes below before you get started\n",
    "\n",
    "\n",
    "**Few Important Things:**\n",
    " - Save this file as geo0_emailusername_assignment (e.g. geo0_mmann1123_notebooktutorial.ipynb), in VScode go to > 'Save As'\n",
    " \n",
    " - If you can't figure something out, that is ok, do your best, feel free to post a specific question on the blackboard Q&A discussion board. \n"
   ]
  },
  {
   "cell_type": "markdown",
   "metadata": {
    "deletable": false,
    "editable": false,
    "nbgrader": {
     "cell_type": "markdown",
     "checksum": "4715724d158651d3833fabaefa57391e",
     "grade": false,
     "grade_id": "cell-18223f730852caaa",
     "locked": true,
     "schema_version": 3,
     "solution": false,
     "task": false
    }
   },
   "source": [
    "## How to do your homework!\n",
    "\n",
    "Please read the following tutorial!! It's important! It will explain what is going on! I hope!\n",
    "\n",
    "https://mmann1123.github.io/GEOG6308/\n",
    "\n",
    "---------------"
   ]
  },
  {
   "cell_type": "code",
   "execution_count": null,
   "metadata": {},
   "outputs": [],
   "source": [
    "# enter you name here and anyone you are working with - its ok to work with others... this crap can be hard. \n",
    "NAME = \"\"\n",
    "COLLABORATORS = \"\""
   ]
  },
  {
   "cell_type": "markdown",
   "metadata": {
    "deletable": false,
    "editable": false,
    "nbgrader": {
     "cell_type": "markdown",
     "checksum": "8be84591ea77d6e34bc190646f2d4404",
     "grade": false,
     "grade_id": "cell-b5c969a60c081821",
     "locked": true,
     "schema_version": 3,
     "solution": false,
     "task": false
    }
   },
   "source": [
    "## Part A (5 points)\n",
    "\n",
    "Let's try this out! In the cell below below where is says `# YOUR CODE HERE` erase the line `raise NoteImplementedError()`.\n",
    "\n",
    "Then create a variable called `a_variable` and set it equal to `5`. Note I will often provide hints or get you started"
   ]
  },
  {
   "cell_type": "code",
   "execution_count": null,
   "metadata": {
    "deletable": false,
    "nbgrader": {
     "cell_type": "code",
     "checksum": "67f86dfeb8e2c6b83db602311860b1d3",
     "grade": false,
     "grade_id": "cell-79c3152396db0f23",
     "locked": false,
     "schema_version": 3,
     "solution": true,
     "task": false
    }
   },
   "outputs": [],
   "source": [
    "# a_variable =\n",
    "\n",
    "# YOUR CODE HERE\n",
    "raise NotImplementedError()"
   ]
  },
  {
   "cell_type": "markdown",
   "metadata": {
    "deletable": false,
    "editable": false,
    "nbgrader": {
     "cell_type": "markdown",
     "checksum": "e57680056178cd779946c8372c113df1",
     "grade": false,
     "grade_id": "cell-d616b9b3c5092998",
     "locked": true,
     "schema_version": 3,
     "solution": false,
     "task": false
    }
   },
   "source": [
    "Make sure to execute your code by hiting Shift+Enter. Now your `a_variable` should now contain the value `5`"
   ]
  },
  {
   "cell_type": "code",
   "execution_count": null,
   "metadata": {
    "deletable": false,
    "editable": false,
    "nbgrader": {
     "cell_type": "code",
     "checksum": "53981faf3a4ad847e53fa58664a5549f",
     "grade": false,
     "grade_id": "cell-fa4e53337d57ac0d",
     "locked": true,
     "schema_version": 3,
     "solution": false,
     "task": false
    }
   },
   "outputs": [],
   "source": [
    "a_variable"
   ]
  },
  {
   "cell_type": "markdown",
   "metadata": {},
   "source": [
    "In the next cell I am going to tell the autograder to check to see if you did everything correctly. I am going to check 1) that a_variable exists, 2) it's datatype, which should be integer, and 3) that it is set to hold the value 5. \n",
    "\n",
    "If you get an error here, please read the error carefully, you will see I will tell you what is wrong.\n",
    "\n",
    "If you don't get an error, great! You just got your 100% on a homework! Just make sure to submit it to me!"
   ]
  },
  {
   "cell_type": "code",
   "execution_count": null,
   "metadata": {
    "deletable": false,
    "editable": false,
    "nbgrader": {
     "cell_type": "code",
     "checksum": "062e643348e7bb4fbee28bfa3d6e32eb",
     "grade": true,
     "grade_id": "cell-1176d71ba46e7913",
     "locked": true,
     "points": 5,
     "schema_version": 3,
     "solution": false,
     "task": false
    }
   },
   "outputs": [],
   "source": [
    "\"\"\"Check that you code create the correct output\"\"\"\n",
    "try:\n",
    "    assert 'a_variable' in locals()\n",
    "except AssertionError:\n",
    "    raise AssertionError(\"a_variable doesn't exist in memory. Make sure you run your code cell.\")\n",
    "try:\n",
    "    assert isinstance(a_variable,int) \n",
    "except AssertionError:\n",
    "    raise AssertionError(\"This is not an integer\")\n",
    "try:\n",
    "    assert a_variable == 5 \n",
    "except AssertionError:\n",
    "    raise AssertionError(\"a_variable is not set equal to 5\")"
   ]
  },
  {
   "cell_type": "markdown",
   "metadata": {
    "deletable": false,
    "editable": false,
    "nbgrader": {
     "cell_type": "markdown",
     "checksum": "200a59a05666ecde87ef7da95cbbdf99",
     "grade": false,
     "grade_id": "cell-362c3b515c03f824",
     "locked": true,
     "schema_version": 3,
     "solution": false,
     "task": false
    }
   },
   "source": [
    "Before you turn this problem in, make sure everything runs as expected. First, **restart the kernel** (in the menubar, select Kernel$\\rightarrow$Restart) and then **run all cells** (in the menubar, select Cell$\\rightarrow$Run All).\n",
    "\n",
    "If you have any errors from the tutorial above the homework, please fix the errors or delete the problem code. \n"
   ]
  },
  {
   "cell_type": "markdown",
   "metadata": {},
   "source": [
    "## Again reminder of how to do your homework!\n",
    "\n",
    "Please read the following tutorial!! It's important! It will explain what is going on! I hope!\n",
    "\n",
    "https://mmann1123.github.io/GEOG6308/\n"
   ]
  },
  {
   "cell_type": "code",
   "execution_count": null,
   "metadata": {},
   "outputs": [],
   "source": []
  }
 ],
 "metadata": {
  "kernelspec": {
   "display_name": "Python 3 (ipykernel)",
   "language": "python",
   "name": "python3"
  },
  "language_info": {
   "codemirror_mode": {
    "name": "ipython",
    "version": 3
   },
   "file_extension": ".py",
   "mimetype": "text/x-python",
   "name": "python",
   "nbconvert_exporter": "python",
   "pygments_lexer": "ipython3",
   "version": "3.8.15"
  }
 },
 "nbformat": 4,
 "nbformat_minor": 4
}
