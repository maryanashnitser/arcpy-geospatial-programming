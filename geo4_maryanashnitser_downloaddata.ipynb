{
 "cells": [
  {
   "cell_type": "markdown",
   "id": "26a48b92",
   "metadata": {
    "deletable": false,
    "editable": false,
    "nbgrader": {
     "cell_type": "markdown",
     "checksum": "5b9ef059fee4a025337621ae0fe69699",
     "grade": false,
     "grade_id": "cell-34043f52cdfs189adb8",
     "locked": true,
     "schema_version": 3,
     "solution": false,
     "task": false
    },
    "tags": []
   },
   "source": [
    "# Assignment: downloaddata\n",
    "\n",
    "**Few Important Things:**\n",
    " - Rename this file as **geo4_emailusername_assignment (e.g. geo4_mmann1123_downloaddata.ipynb)**\n",
    " - Before submitting make sure to go to Cell > Run All and confirm there are no errors thrown.\n",
    " - If you can't figure something out, that is ok, do your best, feel free to post a specific question on the blackboard Q&A discuession board. \n",
    "\n",
    "\n",
    "**How these assignments will work: For detailed instructions on how to complete these exercises please read the following [tutorial](https://mmann1123.github.io/GEOG6308/)**. "
   ]
  },
  {
   "cell_type": "markdown",
   "id": "99c1f09a",
   "metadata": {
    "deletable": false,
    "editable": false,
    "nbgrader": {
     "cell_type": "markdown",
     "checksum": "fc74dca5e29e99c46ed78f4c10fed483",
     "grade": false,
     "grade_id": "cell-b7e1828cdfe2071b5d",
     "locked": true,
     "schema_version": 3,
     "solution": false,
     "task": false
    },
    "tags": []
   },
   "source": [
    "In this assignment, we will delve into the world of data analysis using Python. We will learn to read data from CSV files, manipulate data, and visualize data through plots. Our data set contains weather information for Sitka in 2014, including details such as temperature, humidity, and wind speed.\n",
    "\n",
    "### Learning Objectives\n",
    "- Understand how to read data from CSV files using csv.reader().\n",
    "- Learn to manipulate data to extract necessary information.\n",
    "- Visualize data using Python libraries to create insightful plots."
   ]
  },
  {
   "cell_type": "markdown",
   "id": "f4200de0",
   "metadata": {
    "deletable": false,
    "editable": false,
    "nbgrader": {
     "cell_type": "markdown",
     "checksum": "eb1102dab2982b7d8734bae85d31a629",
     "grade": false,
     "grade_id": "cell-417a6f30dfsef44639d",
     "locked": true,
     "schema_version": 3,
     "solution": false,
     "task": false
    },
    "tags": []
   },
   "source": [
    "----\n",
    "## Problem 1: Reading and Understanding the CSV File\n",
    "\n",
    "In the first part of our assignment, we embark on the journey of reading data from a CSV file using the `csv.reader()` function. Before we proceed, let's delve deeper into two different ways of handling files in Python - using `with` and without using `with`, and understand the advantages of using the `with` statement.\n",
    "\n",
    "### Without Using \"With\" Statement\n",
    "\n",
    "In this approach, you open the file using the `open()` function and close it manually using the `close()` method. Here’s how it typically looks:\n",
    "``` python \n",
    "file = open('sitka_weather_2014.csv', 'r')\n",
    "reader = csv.reader(file)\n",
    "a_row = next(reader)\n",
    "print(\"A row of data:\", a_row)\n",
    "file.close()\n",
    "```\n",
    "In this case, you need to remember to close the file using `file.close()` to release the resources. If an error occurs between the open and close statements, the file remains open, potentially leading to resource leaks.\n",
    "\n",
    "### Using \"With\" Statement\n",
    "\n",
    "Contrastingly, when using the `with` statement, the file is **automatically closed** once the nested block of code is executed, even if an error is encountered within the block. Here’s how it is done:\n",
    "\n",
    "``` python \n",
    "with open('sitka_weather_2014.csv', 'r') as file:\n",
    "    reader = csv.reader(file)\n",
    "    a_row = next(reader) # This extracts the column names in the first row\n",
    "    print(\"A row of data:\", a_row)\n",
    "```\n",
    "\n",
    "This method is preferred as it handles resource management efficiently, ensures that the file is closed properly, and keeps the code clean and readable.\n",
    "\n",
    "### Opening CSV Files Using the CSV Module\n",
    "The csv module is one of the modules in Python that provides classes for reading and writing tabular information in CSV file format.\n",
    "\n",
    "At first, the CSV file is opened using the ``open()`` method in ``‘r’`` mode (specifies read mode while opening a file) which returns the file object. Then it is read using the ``reader()`` method of the csv module that returns the reader object that iterates throughout the lines in the specified CSV document. [See more on opening CSV files](https://www.geeksforgeeks.org/working-csv-files-python/)\n",
    "\n",
    "\n",
    "Now, with a deeper understanding of file management in Python, let’s proceed to read our CSV file and extract column names and data for further analysis."
   ]
  },
  {
   "cell_type": "markdown",
   "id": "24795cbc-2629-4988-96aa-7abb3934ed4f",
   "metadata": {
    "deletable": false,
    "editable": false,
    "nbgrader": {
     "cell_type": "markdown",
     "checksum": "87600956bd0579cdbac1b874d0c15636",
     "grade": false,
     "grade_id": "cell-b7d86968d0cfe933",
     "locked": true,
     "schema_version": 3,
     "solution": false,
     "task": false
    },
    "tags": []
   },
   "source": [
    "### Tasks (3 points)\n",
    "1) Use the above code with the `with` statement to read the data from `sitka_weather_2014.csv` and store `as file` (like example above)\n",
    "2) Create a list of the column names called `column_names`."
   ]
  },
  {
   "cell_type": "code",
   "execution_count": 178,
   "id": "70e84dcc",
   "metadata": {},
   "outputs": [
    {
     "name": "stdout",
     "output_type": "stream",
     "text": [
      "Defaulting to user installation because normal site-packages is not writeable\n",
      "Requirement already satisfied: matplotlib in /Users/maryanashnitser/Library/Python/3.9/lib/python/site-packages (3.9.2)\n",
      "Requirement already satisfied: packaging>=20.0 in /Users/maryanashnitser/Library/Python/3.9/lib/python/site-packages (from matplotlib) (24.1)\n",
      "Requirement already satisfied: kiwisolver>=1.3.1 in /Users/maryanashnitser/Library/Python/3.9/lib/python/site-packages (from matplotlib) (1.4.7)\n",
      "Requirement already satisfied: numpy>=1.23 in /Users/maryanashnitser/Library/Python/3.9/lib/python/site-packages (from matplotlib) (2.0.2)\n",
      "Requirement already satisfied: pillow>=8 in /Users/maryanashnitser/Library/Python/3.9/lib/python/site-packages (from matplotlib) (10.4.0)\n",
      "Requirement already satisfied: pyparsing>=2.3.1 in /Users/maryanashnitser/Library/Python/3.9/lib/python/site-packages (from matplotlib) (3.1.4)\n",
      "Requirement already satisfied: contourpy>=1.0.1 in /Users/maryanashnitser/Library/Python/3.9/lib/python/site-packages (from matplotlib) (1.3.0)\n",
      "Requirement already satisfied: python-dateutil>=2.7 in /Users/maryanashnitser/Library/Python/3.9/lib/python/site-packages (from matplotlib) (2.9.0.post0)\n",
      "Requirement already satisfied: fonttools>=4.22.0 in /Users/maryanashnitser/Library/Python/3.9/lib/python/site-packages (from matplotlib) (4.54.1)\n",
      "Requirement already satisfied: cycler>=0.10 in /Users/maryanashnitser/Library/Python/3.9/lib/python/site-packages (from matplotlib) (0.12.1)\n",
      "Requirement already satisfied: importlib-resources>=3.2.0 in /Users/maryanashnitser/Library/Python/3.9/lib/python/site-packages (from matplotlib) (6.4.5)\n",
      "Requirement already satisfied: zipp>=3.1.0 in /Users/maryanashnitser/Library/Python/3.9/lib/python/site-packages (from importlib-resources>=3.2.0->matplotlib) (3.20.2)\n",
      "Requirement already satisfied: six>=1.5 in /Library/Developer/CommandLineTools/Library/Frameworks/Python3.framework/Versions/3.9/lib/python3.9/site-packages (from python-dateutil>=2.7->matplotlib) (1.15.0)\n",
      "\u001b[33mWARNING: You are using pip version 21.2.4; however, version 24.2 is available.\n",
      "You should consider upgrading via the '/Library/Developer/CommandLineTools/usr/bin/python3 -m pip install --upgrade pip' command.\u001b[0m\n",
      "Note: you may need to restart the kernel to use updated packages.\n"
     ]
    }
   ],
   "source": [
    "pip install matplotlib"
   ]
  },
  {
   "cell_type": "code",
   "execution_count": 179,
   "id": "b3f5cb5d",
   "metadata": {
    "deletable": false,
    "nbgrader": {
     "cell_type": "code",
     "checksum": "c75c0595b6b3f7b5d0a59cc4afda81da",
     "grade": false,
     "grade_id": "cell-4d1189dd77d38bca",
     "locked": false,
     "schema_version": 3,
     "solution": true,
     "task": false
    }
   },
   "outputs": [
    {
     "name": "stdout",
     "output_type": "stream",
     "text": [
      "A row of data: ['AKST', 'Max TemperatureF', 'Mean TemperatureF', 'Min TemperatureF', 'Max Dew PointF', 'MeanDew PointF', 'Min DewpointF', 'Max Humidity', ' Mean Humidity', ' Min Humidity', ' Max Sea Level PressureIn', ' Mean Sea Level PressureIn', ' Min Sea Level PressureIn', ' Max VisibilityMiles', ' Mean VisibilityMiles', ' Min VisibilityMiles', ' Max Wind SpeedMPH', ' Mean Wind SpeedMPH', ' Max Gust SpeedMPH', 'PrecipitationIn', ' CloudCover', ' Events', ' WindDirDegrees']\n"
     ]
    }
   ],
   "source": [
    "import csv\n",
    "from datetime import datetime\n",
    "import matplotlib.pyplot as plt\n",
    "\n",
    "# YOUR CODE HERE\n",
    "with open ('/Users/maryanashnitser/Downloads/sitka_weather_2014.csv', 'r') as file:\n",
    "    reader = csv.reader(file)\n",
    "    column_names = next(reader)\n",
    "    print('A row of data:', column_names)\n"
   ]
  },
  {
   "cell_type": "code",
   "execution_count": 180,
   "id": "ffd0a60f-c423-4ac5-a5e3-1ac717b87df3",
   "metadata": {
    "deletable": false,
    "editable": false,
    "nbgrader": {
     "cell_type": "code",
     "checksum": "0468f78bb8c5ab07a9b77a0695bf9d41",
     "grade": false,
     "grade_id": "cell-06c876f0694580a0",
     "locked": true,
     "schema_version": 3,
     "solution": false,
     "task": false
    },
    "tags": []
   },
   "outputs": [],
   "source": [
    "try:\n",
    "    assert column_names[0] == 'AKST'\n",
    "except AssertionError:\n",
    "    raise AssertionError(\"The first column name should be 'AKST'.\")\n",
    "try:\n",
    "    assert column_names[16] == ' Max Wind SpeedMPH'\n",
    "except AssertionError:\n",
    "    raise AssertionError(\"Find the column number of ' Max Wind SpeedMPH'.\")\n",
    "try:\n",
    "    assert file.closed == True\n",
    "except AssertionError:\n",
    "    raise AssertionError(\"The file has not been closed properly, use `with`.\")"
   ]
  },
  {
   "cell_type": "code",
   "execution_count": 181,
   "id": "06245227-ad78-4632-b4ca-11d4a32141c9",
   "metadata": {
    "deletable": false,
    "editable": false,
    "nbgrader": {
     "cell_type": "code",
     "checksum": "498f68c9be907840c5f52e64ba1f8789",
     "grade": true,
     "grade_id": "cell-d97212a463ec1632",
     "locked": true,
     "points": 1,
     "schema_version": 3,
     "solution": false,
     "task": false
    },
    "tags": []
   },
   "outputs": [
    {
     "data": {
      "text/plain": [
       "' Hidden tests - These tests mirror the tests above - you will not see any additional feedback '"
      ]
     },
     "execution_count": 181,
     "metadata": {},
     "output_type": "execute_result"
    }
   ],
   "source": [
    "\"\"\" Hidden tests - These tests mirror the tests above - you will not see any additional feedback \"\"\""
   ]
  },
  {
   "cell_type": "code",
   "execution_count": 182,
   "id": "a3f8ba39-5079-4da2-8697-87c66a9381fe",
   "metadata": {
    "deletable": false,
    "editable": false,
    "nbgrader": {
     "cell_type": "code",
     "checksum": "9e2f5f6d2c46905d473315986ba796be",
     "grade": true,
     "grade_id": "cell-60c46ad1136671cc",
     "locked": true,
     "points": 1,
     "schema_version": 3,
     "solution": false,
     "task": false
    },
    "tags": []
   },
   "outputs": [
    {
     "data": {
      "text/plain": [
       "' Hidden tests - These tests mirror the tests above - you will not see any additional feedback '"
      ]
     },
     "execution_count": 182,
     "metadata": {},
     "output_type": "execute_result"
    }
   ],
   "source": [
    "\"\"\" Hidden tests - These tests mirror the tests above - you will not see any additional feedback \"\"\""
   ]
  },
  {
   "cell_type": "code",
   "execution_count": 183,
   "id": "049e27ad-3e86-40b5-b869-57e9ab75bbfc",
   "metadata": {
    "deletable": false,
    "editable": false,
    "nbgrader": {
     "cell_type": "code",
     "checksum": "f9f12614712eaa6c2025ac5d5f4ff70a",
     "grade": true,
     "grade_id": "cell-9290e8b8b627c35e",
     "locked": true,
     "points": 1,
     "schema_version": 3,
     "solution": false,
     "task": false
    },
    "tags": []
   },
   "outputs": [
    {
     "data": {
      "text/plain": [
       "' Hidden tests - These tests mirror the tests above - you will not see any additional feedback '"
      ]
     },
     "execution_count": 183,
     "metadata": {},
     "output_type": "execute_result"
    }
   ],
   "source": [
    "\"\"\" Hidden tests - These tests mirror the tests above - you will not see any additional feedback \"\"\""
   ]
  },
  {
   "cell_type": "markdown",
   "id": "4083f3e9-0aee-4033-90d3-29d49430f77f",
   "metadata": {
    "deletable": false,
    "editable": false,
    "nbgrader": {
     "cell_type": "markdown",
     "checksum": "808eae28bfe959fcf4bbc5e58091ee9b",
     "grade": false,
     "grade_id": "cell-b80eff1bb015416e",
     "locked": true,
     "schema_version": 3,
     "solution": false,
     "task": false
    },
    "tags": []
   },
   "source": [
    "## Problem 2: Plotting Wind Speed Over Time\n",
    "\n",
    "Building on what we learned in the first problem, we will now extract necessary data to plot the wind speed over time. This will help us understand any patterns or trends in the wind speed throughout the year.\n",
    "\n",
    "#### Task 1 (2 points)\n",
    "1) Use the above code to extract the date and maximum wind speed data from the `sitka_weather_2014.csv` and store them in two separate lists named `dates` and `wind_speeds`."
   ]
  },
  {
   "cell_type": "code",
   "execution_count": 184,
   "id": "0053c1f9-5e1e-494c-86be-9a357bb53151",
   "metadata": {
    "deletable": false,
    "nbgrader": {
     "cell_type": "code",
     "checksum": "8137f470ee05a890f6e52d66b7de7d61",
     "grade": false,
     "grade_id": "cell-53fdc97b46fcf639",
     "locked": false,
     "schema_version": 3,
     "solution": true,
     "task": false
    },
    "tags": []
   },
   "outputs": [
    {
     "name": "stdout",
     "output_type": "stream",
     "text": [
      "A row of data: ['AKST', 'Max TemperatureF', 'Mean TemperatureF', 'Min TemperatureF', 'Max Dew PointF', 'MeanDew PointF', 'Min DewpointF', 'Max Humidity', ' Mean Humidity', ' Min Humidity', ' Max Sea Level PressureIn', ' Mean Sea Level PressureIn', ' Min Sea Level PressureIn', ' Max VisibilityMiles', ' Mean VisibilityMiles', ' Min VisibilityMiles', ' Max Wind SpeedMPH', ' Mean Wind SpeedMPH', ' Max Gust SpeedMPH', 'PrecipitationIn', ' CloudCover', ' Events', ' WindDirDegrees']\n"
     ]
    }
   ],
   "source": [
    "# Task 1: Extracting dates and wind speeds\n",
    "\n",
    "dates = []\n",
    "wind_speeds = []\n",
    "# YOUR CODE HERE\n",
    "with open ('/Users/maryanashnitser/Downloads/sitka_weather_2014.csv', 'r') as file:\n",
    "    reader = csv.reader(file)\n",
    "    column_names = next(reader) #gets the headers to find index od dates and wind speeds \n",
    "    print('A row of data:', column_names)\n",
    "    date_index = column_names.index('AKST') #finds the index of dates column\n",
    "    wind_index = column_names.index(' Max Wind SpeedMPH') #finds the index of wind speeds column\n",
    "    for row in reader: #loops through rows to get values\n",
    "        dates.append(row[date_index]) #adds dates to list\n",
    "        wind_speeds.append(float(row[wind_index])) #adds max wind speeds to list\n"
   ]
  },
  {
   "cell_type": "code",
   "execution_count": 185,
   "id": "35094f21-e489-4681-9d7e-6517fa2af827",
   "metadata": {
    "deletable": false,
    "editable": false,
    "nbgrader": {
     "cell_type": "code",
     "checksum": "e7b1c914f650f3e06e177b85ed7c2181",
     "grade": false,
     "grade_id": "cell-5034303dad71a5e5",
     "locked": true,
     "schema_version": 3,
     "solution": false,
     "task": false
    },
    "tags": []
   },
   "outputs": [
    {
     "name": "stdout",
     "output_type": "stream",
     "text": [
      "dates:['2014-1-1', '2014-1-2', '2014-1-3']\n"
     ]
    }
   ],
   "source": [
    "print(f'dates:{dates[0:3]}')"
   ]
  },
  {
   "cell_type": "code",
   "execution_count": 186,
   "id": "385a3bff-faf6-415c-b009-4ad469bf509d",
   "metadata": {
    "deletable": false,
    "editable": false,
    "nbgrader": {
     "cell_type": "code",
     "checksum": "dd58089e75ea176bbb4882a9dfac51fe",
     "grade": false,
     "grade_id": "cell-207b2f2f93f87331",
     "locked": true,
     "schema_version": 3,
     "solution": false,
     "task": false
    },
    "tags": []
   },
   "outputs": [
    {
     "name": "stdout",
     "output_type": "stream",
     "text": [
      "wind_speeds:[25.0, 14.0, 8.0]\n"
     ]
    }
   ],
   "source": [
    "print(f'wind_speeds:{wind_speeds[0:3]}')"
   ]
  },
  {
   "cell_type": "code",
   "execution_count": 187,
   "id": "e5f0cbc7-ca71-4fd6-b0d1-b9b5e822b315",
   "metadata": {
    "deletable": false,
    "editable": false,
    "nbgrader": {
     "cell_type": "code",
     "checksum": "9fc5e703f6eadff5ec42ab26dce1b99d",
     "grade": false,
     "grade_id": "cell-2432f7e46c75a72d",
     "locked": true,
     "schema_version": 3,
     "solution": false,
     "task": false
    },
    "tags": []
   },
   "outputs": [],
   "source": [
    "try:\n",
    "    assert dates[0] == '2014-1-1'\n",
    "except AssertionError:\n",
    "    raise AssertionError(\"The first date in the 'dates' list should be '2014-1-1'.\")"
   ]
  },
  {
   "cell_type": "code",
   "execution_count": 188,
   "id": "cce902f1-e347-42bd-ac13-1634ced4a581",
   "metadata": {
    "deletable": false,
    "editable": false,
    "nbgrader": {
     "cell_type": "code",
     "checksum": "7a2ed5331ef690fcbd82b0a569df9e49",
     "grade": false,
     "grade_id": "cell-88d7238a059e0d5e",
     "locked": true,
     "schema_version": 3,
     "solution": false,
     "task": false
    },
    "tags": []
   },
   "outputs": [],
   "source": [
    "try:\n",
    "    assert isinstance(dates, list)\n",
    "except AssertionError:\n",
    "    raise AssertionError(\"The 'dates' variable should be a list.\")"
   ]
  },
  {
   "cell_type": "code",
   "execution_count": 189,
   "id": "ea567314-5091-403e-8e90-bb3a7c0725f1",
   "metadata": {
    "deletable": false,
    "editable": false,
    "nbgrader": {
     "cell_type": "code",
     "checksum": "878391e0a15ce9f55abd292ac02c5b19",
     "grade": false,
     "grade_id": "cell-04761f10fc7635a9",
     "locked": true,
     "schema_version": 3,
     "solution": false,
     "task": false
    },
    "tags": []
   },
   "outputs": [],
   "source": [
    "try:\n",
    "    assert isinstance(wind_speeds, list)\n",
    "except AssertionError:\n",
    "    raise AssertionError(\"The 'wind_speeds' variable should be a list.\")"
   ]
  },
  {
   "cell_type": "code",
   "execution_count": 190,
   "id": "be9e2b85-1886-4b89-92a9-935cb3181265",
   "metadata": {
    "deletable": false,
    "editable": false,
    "nbgrader": {
     "cell_type": "code",
     "checksum": "2c4dbc4cd7d63fed0641ffb3ba050b9a",
     "grade": false,
     "grade_id": "cell-321e2dbb171adaae",
     "locked": true,
     "schema_version": 3,
     "solution": false,
     "task": false
    },
    "tags": []
   },
   "outputs": [],
   "source": [
    "try:\n",
    "    assert wind_speeds[0:3] == [25, 14, 8]\n",
    "except AssertionError:\n",
    "    raise AssertionError(\"The 'wind_speeds' should contain the maximum wind speed data, please check your column index\")"
   ]
  },
  {
   "cell_type": "code",
   "execution_count": 191,
   "id": "65a75c59-7523-4296-be7e-97d308c25d0e",
   "metadata": {
    "deletable": false,
    "editable": false,
    "nbgrader": {
     "cell_type": "code",
     "checksum": "d625912d1e871104303e7dadfa139a84",
     "grade": true,
     "grade_id": "cell-c514e5a7fc146bf4",
     "locked": true,
     "points": 0.5,
     "schema_version": 3,
     "solution": false,
     "task": false
    },
    "tags": []
   },
   "outputs": [
    {
     "data": {
      "text/plain": [
       "' Hidden tests - These tests mirror the tests above - you will not see any additional feedback '"
      ]
     },
     "execution_count": 191,
     "metadata": {},
     "output_type": "execute_result"
    }
   ],
   "source": [
    "\"\"\" Hidden tests - These tests mirror the tests above - you will not see any additional feedback \"\"\""
   ]
  },
  {
   "cell_type": "code",
   "execution_count": 192,
   "id": "e43791e4-b183-4048-90d1-e046c1ed7f2f",
   "metadata": {
    "deletable": false,
    "editable": false,
    "nbgrader": {
     "cell_type": "code",
     "checksum": "3d9b83119c5247092a43c02640b7fd60",
     "grade": true,
     "grade_id": "cell-c36125f27e4213cb",
     "locked": true,
     "points": 0.5,
     "schema_version": 3,
     "solution": false,
     "task": false
    },
    "tags": []
   },
   "outputs": [
    {
     "data": {
      "text/plain": [
       "' Hidden tests - These tests mirror the tests above - you will not see any additional feedback '"
      ]
     },
     "execution_count": 192,
     "metadata": {},
     "output_type": "execute_result"
    }
   ],
   "source": [
    "\"\"\" Hidden tests - These tests mirror the tests above - you will not see any additional feedback \"\"\""
   ]
  },
  {
   "cell_type": "code",
   "execution_count": 193,
   "id": "289f6d71-22e3-4592-a81a-3688b1f32b4a",
   "metadata": {
    "deletable": false,
    "editable": false,
    "nbgrader": {
     "cell_type": "code",
     "checksum": "b4f7a9fd5ec626c09a3db01414e61ebc",
     "grade": true,
     "grade_id": "cell-274796695999b448",
     "locked": true,
     "points": 0.5,
     "schema_version": 3,
     "solution": false,
     "task": false
    },
    "tags": []
   },
   "outputs": [
    {
     "data": {
      "text/plain": [
       "' Hidden tests - These tests mirror the tests above - you will not see any additional feedback '"
      ]
     },
     "execution_count": 193,
     "metadata": {},
     "output_type": "execute_result"
    }
   ],
   "source": [
    "\"\"\" Hidden tests - These tests mirror the tests above - you will not see any additional feedback \"\"\""
   ]
  },
  {
   "cell_type": "code",
   "execution_count": 194,
   "id": "7f9ccb45-0a26-4197-9009-9b7aa49869d8",
   "metadata": {
    "deletable": false,
    "editable": false,
    "nbgrader": {
     "cell_type": "code",
     "checksum": "095f91f3f91ef7c87742d8f5fa353a3b",
     "grade": true,
     "grade_id": "cell-59defd7ff494794c",
     "locked": true,
     "points": 0.5,
     "schema_version": 3,
     "solution": false,
     "task": false
    },
    "tags": []
   },
   "outputs": [
    {
     "data": {
      "text/plain": [
       "' Hidden tests - These tests mirror the tests above - you will not see any additional feedback '"
      ]
     },
     "execution_count": 194,
     "metadata": {},
     "output_type": "execute_result"
    }
   ],
   "source": [
    "\"\"\" Hidden tests - These tests mirror the tests above - you will not see any additional feedback \"\"\""
   ]
  },
  {
   "cell_type": "markdown",
   "id": "81c6455b-24d4-4439-9b53-af982d7b1c34",
   "metadata": {
    "deletable": false,
    "editable": false,
    "nbgrader": {
     "cell_type": "markdown",
     "checksum": "540e9c2fe9b03af06d959e08e718cff9",
     "grade": false,
     "grade_id": "cell-54de1306ad328320",
     "locked": true,
     "schema_version": 3,
     "solution": false,
     "task": false
    },
    "tags": []
   },
   "source": [
    "## Brief Tutorial: Plotting a Time Series with Matplotlib \n",
    "\n",
    "You can plot a time series in Matplotlib using simple Python lists. Here’s how you can create a line chart, add a title, and label the axes.\n",
    "\n",
    "#### Step 1: Import Matplotlib\n",
    "\n",
    "First, make sure you have Matplotlib installed. If not, install it using `conda install matplotlib` into the conda environment.\n",
    "\n",
    "```python\n",
    "import matplotlib.pyplot as plt\n",
    "```\n",
    "\n",
    "#### Step 2: Create Your Time Series Data\n",
    "\n",
    "You can represent your time series data as two lists: one for the time (e.g., days) and one for the values.\n",
    "\n",
    "```python\n",
    "# Example data\n",
    "values = [3, 5, 2, 8, 7, 6, 4, 5, 9, 11]\n",
    "```\n",
    "\n",
    "#### Step 3: Plot the Time Series\n",
    "\n",
    "Now, use Matplotlib to create the line chart.\n",
    "\n",
    "```python\n",
    "# Create the plot\n",
    "fig, ax = plt.subplots()\n",
    "ax.plot(values)\n",
    "\n",
    "# Add a title and axis labels\n",
    "ax.set_xlabel('Day of month')\n",
    "ax.set_ylabel('Value')\n",
    "ax.set_title('Time Series Plot')\n",
    "```\n",
    "\n",
    "#### Explanation:\n",
    "- **`fig, ax = plt.subplots()`**: A Matplotlib function that creates a new figure and a set of subplots (axes).\n",
    "- **`ax.plot`**: Plots values\n",
    "- **`ax.set_title`**: Adds a title to the chart.\n",
    "- **`ax.set_xlabel` and `ax.set_ylabel`**: Label the x-axis as \"Date\" and the y-axis as \"Value.\"\n",
    "\n",
    "\n",
    "### Final Result\n",
    "Running the code will produce a line chart with dates on the x-axis and corresponding numerical values on the y-axis, complete with a title and labeled axes."
   ]
  },
  {
   "cell_type": "code",
   "execution_count": 195,
   "id": "3a47a9ce-7460-4b9f-87d7-909c3fcb43a6",
   "metadata": {},
   "outputs": [
    {
     "data": {
      "image/png": "[encoded data removed]",
      "text/plain": [
       "<Figure size 640x480 with 1 Axes>"
      ]
     },
     "metadata": {},
     "output_type": "display_data"
    }
   ],
   "source": [
    "import matplotlib.pyplot as plt\n",
    "\n",
    "values = [3, 5, 2, 8, 7, 6, 4, 5, 9, 11]\n",
    "\n",
    "fig, ax = plt.subplots()  #creates a new figure and set of subplots\n",
    "ax.plot(values) # plots values\n",
    "\n",
    "# Create the plot\n",
    "plt.plot(values, marker='o')\n",
    "\n",
    "# Add a title and axis labels\n",
    "plt.title(\"Time Series Plot\")\n",
    "plt.xlabel(\"Day of month\")\n",
    "plt.ylabel(\"Value\")\n",
    "\n",
    "# Display the plot\n",
    "plt.show()"
   ]
  },
  {
   "cell_type": "markdown",
   "id": "92326884-1280-47fe-81b9-817eae520714",
   "metadata": {
    "deletable": false,
    "editable": false,
    "nbgrader": {
     "cell_type": "markdown",
     "checksum": "9348c32db5356b1357b633ab43582fb2",
     "grade": false,
     "grade_id": "cell-42f231da0bcadcbf",
     "locked": true,
     "schema_version": 3,
     "solution": false,
     "task": false
    },
    "tags": []
   },
   "source": [
    "#### Task 2 (4 points)\n",
    "2) Modify the code to plot the mean wind speed instead of the maximum wind speed. Make sure to store the mean wind speed data in a list named `mean_wind_speeds`.\n",
    "\n",
    "Your figure should have:\n",
    "- The mean windspeed on the y axis\n",
    "- The row index (matches day of the year) on the x axis\n",
    "- Title `Mean Wind Speed Over Time - 2014`\n",
    "- X axis label `Day of the year`\n",
    "- y axis label `Mean Wind Speed (MPH)`\n",
    "\n",
    "NOTE: Do not worry about labeling the dates yet, just do the time series plot"
   ]
  },
  {
   "cell_type": "code",
   "execution_count": 196,
   "id": "0fa2bd50-51bf-426c-a256-c8e1001ce98f",
   "metadata": {
    "deletable": false,
    "nbgrader": {
     "cell_type": "code",
     "checksum": "77d76dd10afc7f5e6054a9a56c24a9e9",
     "grade": true,
     "grade_id": "cell-ac0e59e44312dd4d",
     "locked": false,
     "points": 2,
     "schema_version": 3,
     "solution": true,
     "task": false
    },
    "tags": []
   },
   "outputs": [
    {
     "ename": "NameError",
     "evalue": "name 'mean_winds' is not defined",
     "output_type": "error",
     "traceback": [
      "\u001b[0;31m---------------------------------------------------------------------------\u001b[0m",
      "\u001b[0;31mNameError\u001b[0m                                 Traceback (most recent call last)",
      "Cell \u001b[0;32mIn[196], line 18\u001b[0m\n\u001b[1;32m     15\u001b[0m ax\u001b[38;5;241m.\u001b[39mplot(mean_wind_speeds) \u001b[38;5;66;03m# plots values\u001b[39;00m\n\u001b[1;32m     17\u001b[0m \u001b[38;5;66;03m# Creates the plot\u001b[39;00m\n\u001b[0;32m---> 18\u001b[0m plt\u001b[38;5;241m.\u001b[39mplot(\u001b[43mmean_winds\u001b[49m, marker\u001b[38;5;241m=\u001b[39m\u001b[38;5;124m'\u001b[39m\u001b[38;5;124mo\u001b[39m\u001b[38;5;124m'\u001b[39m)\n\u001b[1;32m     20\u001b[0m \u001b[38;5;66;03m# Adds title and axis labels\u001b[39;00m\n\u001b[1;32m     21\u001b[0m plt\u001b[38;5;241m.\u001b[39mtitle(\u001b[38;5;124m\"\u001b[39m\u001b[38;5;124mMean Wind Speed Over Time - 2014\u001b[39m\u001b[38;5;124m\"\u001b[39m)\n",
      "\u001b[0;31mNameError\u001b[0m: name 'mean_winds' is not defined"
     ]
    },
    {
     "data": {
      "image/png": "[encoded data removed]",
      "text/plain": [
       "<Figure size 640x480 with 1 Axes>"
      ]
     },
     "metadata": {},
     "output_type": "display_data"
    }
   ],
   "source": [
    "# Task 2: Extracting dates and mean_wind_speeds\n",
    "# YOUR CODE HERE\n",
    "\n",
    "mean_wind_speeds = [] #creates list to store mean wind speeds \n",
    "\n",
    "with open ('/Users/maryanashnitser/Downloads/sitka_weather_2014.csv', 'r') as file:\n",
    "    reader = csv.reader(file)\n",
    "    headers = next(reader) #get the headers to find the index of mean winds column\n",
    "    wind_index = headers.index(' Mean Wind SpeedMPH') #finds the index\n",
    "    for row in reader: #get values from each row in the column \n",
    "        mean_wind_speeds.append(float(row[wind_index])) #converts to float and adds to list\n",
    "\n",
    "\n",
    "fig, ax = plt.subplots()  #creates a new figure and set of subplots\n",
    "ax.plot(mean_wind_speeds) # plots values\n",
    "\n",
    "# Creates the plot\n",
    "plt.plot(mean_winds, marker='o')\n",
    "\n",
    "# Adds title and axis labels\n",
    "plt.title(\"Mean Wind Speed Over Time - 2014\")\n",
    "plt.xlabel(\"Day of the year\")\n",
    "plt.ylabel(\"Mean Wind Speed (MPH)\")\n",
    "\n",
    "# Displays the plot\n",
    "plt.show()"
   ]
  },
  {
   "cell_type": "code",
   "execution_count": 178,
   "id": "f8b0afd2-52ed-4f05-b85a-a29074e94398",
   "metadata": {
    "deletable": false,
    "editable": false,
    "nbgrader": {
     "cell_type": "code",
     "checksum": "bbe0d95c2bf1b9a5be15a23850e30ee5",
     "grade": false,
     "grade_id": "cell-c4aa0d950dda1407",
     "locked": true,
     "schema_version": 3,
     "solution": false,
     "task": false
    },
    "tags": []
   },
   "outputs": [],
   "source": [
    "try:\n",
    "    assert mean_wind_speeds[0:3] == [14,7,3]\n",
    "except AssertionError:\n",
    "    raise AssertionError(\"The 'mean_wind_speeds' should contain the mean wind speed data, please check your column index\")"
   ]
  },
  {
   "cell_type": "code",
   "execution_count": 179,
   "id": "70f7b8cc-f3f2-4baf-b590-b16ce80f9c6f",
   "metadata": {
    "deletable": false,
    "editable": false,
    "nbgrader": {
     "cell_type": "code",
     "checksum": "67ad9ca9b0bc0c544bea4f0de38fd562",
     "grade": false,
     "grade_id": "cell-3a179b75eedebb8a",
     "locked": true,
     "schema_version": 3,
     "solution": false,
     "task": false
    },
    "tags": []
   },
   "outputs": [],
   "source": [
    "def test_matplotlib_chart_title(plt, ax, expected_x_data, expected_y_data):\n",
    "    # Check the chart title\n",
    "    assert ax.get_title() == \"Mean Wind Speed Over Time - 2014\", \"Chart title is incorrect.\"\n",
    "\n",
    "def test_matplotlib_chart_axis(plt, ax, expected_x_data, expected_y_data):\n",
    "\n",
    "    # Check the x-axis label\n",
    "    assert ax.get_xlabel() == \"Day of the year\", \"X-axis label is incorrect.\"\n",
    "    \n",
    "    # Check the y-axis label\n",
    "    assert ax.get_ylabel() == \"Mean Wind Speed (MPH)\", \"Y-axis label is incorrect.\"\n",
    "\n",
    "def test_matplotlib_chart_data(plt, ax, expected_x_data, expected_y_data):\n",
    "    # Check the data in the first line\n",
    "    line = ax.lines[0]\n",
    "    assert [int(i) for i in line.get_xdata().tolist()] == expected_x_data, \"X data is incorrect.\"\n",
    "    assert line.get_ydata().tolist() == expected_y_data, \"Y data is incorrect.\"\n",
    "    \n",
    "test_matplotlib_chart_title(fig, ax, list(range(len(mean_wind_speeds))), mean_wind_speeds)\n",
    "test_matplotlib_chart_axis(fig, ax, list(range(len(mean_wind_speeds))), mean_wind_speeds)\n",
    "test_matplotlib_chart_data(fig, ax, list(range(len(mean_wind_speeds))), mean_wind_speeds)\n"
   ]
  },
  {
   "cell_type": "code",
   "execution_count": 180,
   "id": "ca127554-294b-4f4e-addd-73e1b563ad30",
   "metadata": {
    "deletable": false,
    "editable": false,
    "nbgrader": {
     "cell_type": "code",
     "checksum": "1dbc52776c1f6672780526c980328517",
     "grade": true,
     "grade_id": "cell-15b4ce5d15842b41",
     "locked": true,
     "points": 1,
     "schema_version": 3,
     "solution": false,
     "task": false
    },
    "tags": []
   },
   "outputs": [
    {
     "data": {
      "text/plain": [
       "' Hidden tests - These tests mirror the tests above - you will not see any additional feedback '"
      ]
     },
     "execution_count": 180,
     "metadata": {},
     "output_type": "execute_result"
    }
   ],
   "source": [
    "\"\"\" Hidden tests - These tests mirror the tests above - you will not see any additional feedback \"\"\""
   ]
  },
  {
   "cell_type": "code",
   "execution_count": 181,
   "id": "39d1b74f-012a-4501-84c6-cf4222309496",
   "metadata": {
    "deletable": false,
    "editable": false,
    "nbgrader": {
     "cell_type": "code",
     "checksum": "5ae664d9fa156c05fca60d91bb890676",
     "grade": true,
     "grade_id": "cell-fb75ee510ca1e6ed",
     "locked": true,
     "points": 1,
     "schema_version": 3,
     "solution": false,
     "task": false
    },
    "tags": []
   },
   "outputs": [
    {
     "data": {
      "text/plain": [
       "' Hidden tests - These tests mirror the tests above - you will not see any additional feedback '"
      ]
     },
     "execution_count": 181,
     "metadata": {},
     "output_type": "execute_result"
    }
   ],
   "source": [
    "\"\"\" Hidden tests - These tests mirror the tests above - you will not see any additional feedback \"\"\""
   ]
  },
  {
   "cell_type": "code",
   "execution_count": 182,
   "id": "1957e6f7-1a49-49c6-861a-a88375a783a4",
   "metadata": {
    "deletable": false,
    "editable": false,
    "nbgrader": {
     "cell_type": "code",
     "checksum": "866cc531ab38478a7cd5d8bde2df0f7a",
     "grade": true,
     "grade_id": "cell-21f0f6c8d6f40991",
     "locked": true,
     "points": 1,
     "schema_version": 3,
     "solution": false,
     "task": false
    },
    "tags": []
   },
   "outputs": [
    {
     "data": {
      "text/plain": [
       "' Hidden tests - These tests mirror the tests above - you will not see any additional feedback '"
      ]
     },
     "execution_count": 182,
     "metadata": {},
     "output_type": "execute_result"
    }
   ],
   "source": [
    "\"\"\" Hidden tests - These tests mirror the tests above - you will not see any additional feedback \"\"\""
   ]
  },
  {
   "cell_type": "code",
   "execution_count": 183,
   "id": "2371a8e9-570f-4a55-80c1-599a3c600170",
   "metadata": {
    "deletable": false,
    "editable": false,
    "nbgrader": {
     "cell_type": "code",
     "checksum": "6024ba3fdc57e42eae6f888245fce2d1",
     "grade": true,
     "grade_id": "cell-4d04a3003992d036",
     "locked": true,
     "points": 1,
     "schema_version": 3,
     "solution": false,
     "task": false
    },
    "tags": []
   },
   "outputs": [
    {
     "data": {
      "text/plain": [
       "' Hidden tests - These tests mirror the tests above - you will not see any additional feedback '"
      ]
     },
     "execution_count": 183,
     "metadata": {},
     "output_type": "execute_result"
    }
   ],
   "source": [
    "\"\"\" Hidden tests - These tests mirror the tests above - you will not see any additional feedback \"\"\""
   ]
  },
  {
   "cell_type": "markdown",
   "id": "7ee0a4df-b100-4b8d-abbe-c6aaaf08a142",
   "metadata": {
    "deletable": false,
    "editable": false,
    "nbgrader": {
     "cell_type": "markdown",
     "checksum": "080d91b55186c36fce1d243fd8c56123",
     "grade": false,
     "grade_id": "cell-a4d543340e02683b",
     "locked": true,
     "schema_version": 3,
     "solution": false,
     "task": false
    },
    "tags": []
   },
   "source": [
    "## Problem 3: Working with Datetimes and Updating the Plot\n",
    "\n",
    "In the final part of our assignment, we will be enhancing our data visualization skills by incorporating more detailed time data into our plot.\n",
    "\n",
    "First, we will familiarize ourselves with two important methods from the datetime module: strptime and strftime.\n",
    "\n",
    "`datetime.strptime`: This method allows us to convert strings representing time into datetime objects. The method takes two arguments: the string representing the date and a format code corresponding to the date format in the string. For example, `datetime.strptime('2014-1-1', '%Y-%m-%d')` converts the string `'2014-1-1'` to a datetime object representing January 1, 2014.\n",
    "\n",
    "`datetime.strftime`: This method converts datetime objects back into strings, but with the flexibility of formatting the date in any way we want. For instance, `datetime.strftime('%Y-%m')` will give us the year and month in the `'YYYY-MM'` format.\n",
    "\n"
   ]
  },
  {
   "cell_type": "markdown",
   "id": "fa036f0c-949e-4ab3-8e1d-0c6a16a62731",
   "metadata": {
    "deletable": false,
    "editable": false,
    "nbgrader": {
     "cell_type": "markdown",
     "checksum": "d732964c4922cf565c37e8b0482d3193",
     "grade": false,
     "grade_id": "cell-5af5623f2f69b97c",
     "locked": true,
     "schema_version": 3,
     "solution": false,
     "task": false
    },
    "tags": []
   },
   "source": [
    "#### Task 1 - create datetimes (3 points)\n",
    "Use the above code to convert the date strings in the `dates` list to datetime objects stored in a list called `datetimes`. \n"
   ]
  },
  {
   "cell_type": "code",
   "execution_count": 91,
   "id": "b203113e-1da7-4b1e-bc6a-706b002451e6",
   "metadata": {
    "deletable": false,
    "nbgrader": {
     "cell_type": "code",
     "checksum": "6032078579652d46da44166b6ccfa00c",
     "grade": false,
     "grade_id": "cell-850bdbc4ef0bf039",
     "locked": false,
     "schema_version": 3,
     "solution": true,
     "task": false
    },
    "tags": []
   },
   "outputs": [
    {
     "name": "stdout",
     "output_type": "stream",
     "text": [
      "['2014-1-1', '2014-1-2', '2014-1-3', '2014-1-4', '2014-1-5', '2014-1-6', '2014-1-7', '2014-1-8', '2014-1-9', '2014-1-10', '2014-1-11', '2014-1-12', '2014-1-13', '2014-1-14', '2014-1-15', '2014-1-16', '2014-1-17', '2014-1-18', '2014-1-19', '2014-1-20', '2014-1-21', '2014-1-22', '2014-1-23', '2014-1-24', '2014-1-25', '2014-1-26', '2014-1-27', '2014-1-28', '2014-1-29', '2014-1-30', '2014-1-31', '2014-2-1', '2014-2-2', '2014-2-3', '2014-2-4', '2014-2-5', '2014-2-6', '2014-2-7', '2014-2-8', '2014-2-9', '2014-2-10', '2014-2-11', '2014-2-12', '2014-2-13', '2014-2-14', '2014-2-15', '2014-2-16', '2014-2-17', '2014-2-18', '2014-2-19', '2014-2-20', '2014-2-21', '2014-2-22', '2014-2-23', '2014-2-24', '2014-2-25', '2014-2-26', '2014-2-27', '2014-2-28', '2014-3-1', '2014-3-2', '2014-3-3', '2014-3-4', '2014-3-5', '2014-3-6', '2014-3-7', '2014-3-8', '2014-3-9', '2014-3-10', '2014-3-11', '2014-3-12', '2014-3-13', '2014-3-14', '2014-3-15', '2014-3-16', '2014-3-17', '2014-3-18', '2014-3-19', '2014-3-20', '2014-3-21', '2014-3-22', '2014-3-23', '2014-3-24', '2014-3-25', '2014-3-26', '2014-3-27', '2014-3-28', '2014-3-29', '2014-3-30', '2014-3-31', '2014-4-1', '2014-4-2', '2014-4-3', '2014-4-4', '2014-4-5', '2014-4-6', '2014-4-7', '2014-4-8', '2014-4-9', '2014-4-10', '2014-4-11', '2014-4-12', '2014-4-13', '2014-4-14', '2014-4-15', '2014-4-16', '2014-4-17', '2014-4-18', '2014-4-19', '2014-4-20', '2014-4-21', '2014-4-22', '2014-4-23', '2014-4-24', '2014-4-25', '2014-4-26', '2014-4-27', '2014-4-28', '2014-4-29', '2014-4-30', '2014-5-1', '2014-5-2', '2014-5-3', '2014-5-4', '2014-5-5', '2014-5-6', '2014-5-7', '2014-5-8', '2014-5-9', '2014-5-10', '2014-5-11', '2014-5-12', '2014-5-13', '2014-5-14', '2014-5-15', '2014-5-16', '2014-5-17', '2014-5-18', '2014-5-19', '2014-5-20', '2014-5-21', '2014-5-22', '2014-5-23', '2014-5-24', '2014-5-25', '2014-5-26', '2014-5-27', '2014-5-28', '2014-5-29', '2014-5-30', '2014-5-31', '2014-6-1', '2014-6-2', '2014-6-3', '2014-6-4', '2014-6-5', '2014-6-6', '2014-6-7', '2014-6-8', '2014-6-9', '2014-6-10', '2014-6-11', '2014-6-12', '2014-6-13', '2014-6-14', '2014-6-15', '2014-6-16', '2014-6-17', '2014-6-18', '2014-6-19', '2014-6-20', '2014-6-21', '2014-6-22', '2014-6-23', '2014-6-24', '2014-6-25', '2014-6-26', '2014-6-27', '2014-6-28', '2014-6-29', '2014-6-30', '2014-7-1', '2014-7-2', '2014-7-3', '2014-7-4', '2014-7-5', '2014-7-6', '2014-7-7', '2014-7-8', '2014-7-9', '2014-7-10', '2014-7-11', '2014-7-12', '2014-7-13', '2014-7-14', '2014-7-15', '2014-7-16', '2014-7-17', '2014-7-18', '2014-7-19', '2014-7-20', '2014-7-21', '2014-7-22', '2014-7-23', '2014-7-24', '2014-7-25', '2014-7-26', '2014-7-27', '2014-7-28', '2014-7-29', '2014-7-30', '2014-7-31', '2014-8-1', '2014-8-2', '2014-8-3', '2014-8-4', '2014-8-5', '2014-8-6', '2014-8-7', '2014-8-8', '2014-8-9', '2014-8-10', '2014-8-11', '2014-8-12', '2014-8-13', '2014-8-14', '2014-8-15', '2014-8-16', '2014-8-17', '2014-8-18', '2014-8-19', '2014-8-20', '2014-8-21', '2014-8-22', '2014-8-23', '2014-8-24', '2014-8-25', '2014-8-26', '2014-8-27', '2014-8-28', '2014-8-29', '2014-8-30', '2014-8-31', '2014-9-1', '2014-9-2', '2014-9-3', '2014-9-4', '2014-9-5', '2014-9-6', '2014-9-7', '2014-9-8', '2014-9-9', '2014-9-10', '2014-9-11', '2014-9-12', '2014-9-13', '2014-9-14', '2014-9-15', '2014-9-16', '2014-9-17', '2014-9-18', '2014-9-19', '2014-9-20', '2014-9-21', '2014-9-22', '2014-9-23', '2014-9-24', '2014-9-25', '2014-9-26', '2014-9-27', '2014-9-28', '2014-9-29', '2014-9-30', '2014-10-1', '2014-10-2', '2014-10-3', '2014-10-4', '2014-10-5', '2014-10-6', '2014-10-7', '2014-10-8', '2014-10-9', '2014-10-10', '2014-10-11', '2014-10-12', '2014-10-13', '2014-10-14', '2014-10-15', '2014-10-16', '2014-10-17', '2014-10-18', '2014-10-19', '2014-10-20', '2014-10-21', '2014-10-22', '2014-10-23', '2014-10-24', '2014-10-25', '2014-10-26', '2014-10-27', '2014-10-28', '2014-10-29', '2014-10-30', '2014-10-31', '2014-11-1', '2014-11-2', '2014-11-3', '2014-11-4', '2014-11-5', '2014-11-6', '2014-11-7', '2014-11-8', '2014-11-9', '2014-11-10', '2014-11-11', '2014-11-12', '2014-11-13', '2014-11-14', '2014-11-15', '2014-11-16', '2014-11-17', '2014-11-18', '2014-11-19', '2014-11-20', '2014-11-21', '2014-11-22', '2014-11-23', '2014-11-24', '2014-11-25', '2014-11-26', '2014-11-27', '2014-11-28', '2014-11-29', '2014-11-30', '2014-12-1', '2014-12-2', '2014-12-3', '2014-12-4', '2014-12-5', '2014-12-6', '2014-12-7', '2014-12-8', '2014-12-9', '2014-12-10', '2014-12-11', '2014-12-12', '2014-12-13', '2014-12-14', '2014-12-15', '2014-12-16', '2014-12-17', '2014-12-18', '2014-12-19', '2014-12-20', '2014-12-21', '2014-12-22']\n"
     ]
    }
   ],
   "source": [
    "\n",
    "# YOUR CODE HERE\n",
    "import csv\n",
    "from datetime import datetime\n",
    "\n",
    "date = [] \n",
    "\n",
    "with open ('/Users/maryanashnitser/Downloads/sitka_weather_2014.csv', 'r') as file:\n",
    "    reader = csv.reader(file)\n",
    "    column_names = next(reader)\n",
    "    date_index = column_names.index('AKST') #finds the index of dates column\n",
    "    for row in reader: #loops through rows to get values\n",
    "        date.append(row[date_index]) #adds dates to list\n",
    "print (date)\n",
    "datetimes = [datetime.strptime(date, '%Y-%m-%d') for date in date]\n",
    "\n",
    "\n"
   ]
  },
  {
   "cell_type": "code",
   "execution_count": 92,
   "id": "e389cfea-9bfb-4617-ab33-c8ae90458528",
   "metadata": {
    "deletable": false,
    "editable": false,
    "nbgrader": {
     "cell_type": "code",
     "checksum": "d56e3e6f8f655830a497d924b9332892",
     "grade": false,
     "grade_id": "cell-ca850022702d5317",
     "locked": true,
     "schema_version": 3,
     "solution": false,
     "task": false
    },
    "tags": []
   },
   "outputs": [],
   "source": [
    "try:\n",
    "    assert all(isinstance(date, datetime) for date in datetimes), \"All elements in the 'datetimes' list should be datetime objects.\"\n",
    "except AssertionError as e:\n",
    "    raise AssertionError(str(e))"
   ]
  },
  {
   "cell_type": "code",
   "execution_count": 93,
   "id": "660d3cab-b70c-4bd2-824d-e9f589f2d809",
   "metadata": {
    "deletable": false,
    "editable": false,
    "nbgrader": {
     "cell_type": "code",
     "checksum": "0def0c4ebdb3f38c2ddfefa412473aa5",
     "grade": false,
     "grade_id": "cell-884da7eb05aae580",
     "locked": true,
     "schema_version": 3,
     "solution": false,
     "task": false
    },
    "tags": []
   },
   "outputs": [],
   "source": [
    "# Assertion tests to validate the 'datetimes' list\n",
    "try:\n",
    "    assert isinstance(datetimes, list), \"The 'datetimes' variable should be a list.\"\n",
    "except AssertionError as e:\n",
    "    raise AssertionError(str(e))\n",
    "\n",
    "try:\n",
    "    assert len(datetimes) == len(dates), \"The 'datetimes' list should have the same number of elements as the 'dates' list.\"\n",
    "except AssertionError as e:\n",
    "    raise AssertionError(str(e))\n",
    "    "
   ]
  },
  {
   "cell_type": "code",
   "execution_count": 187,
   "id": "88bca885-dca8-4eba-a0f1-5e91635d8f5a",
   "metadata": {
    "deletable": false,
    "editable": false,
    "nbgrader": {
     "cell_type": "code",
     "checksum": "b53e430038608240bd5207d644f2a735",
     "grade": false,
     "grade_id": "cell-eafe33c4b3c80b46",
     "locked": true,
     "schema_version": 3,
     "solution": false,
     "task": false
    },
    "tags": []
   },
   "outputs": [],
   "source": [
    "try:\n",
    "    assert datetimes[0] == datetime(2014, 1, 1), \"The first date in the 'datetimes' list should be January 1, 2014 as a datetime object.\"\n",
    "except AssertionError as e:\n",
    "    raise AssertionError(str(e))\n",
    "\n",
    "try:\n",
    "    assert datetimes[-1] == datetime(2014, 12, 22), \"The last date in the 'datetimes' list should be December 31, 2014 as a datetime object.\"\n",
    "except AssertionError as e:\n",
    "    raise AssertionError(str(e))"
   ]
  },
  {
   "cell_type": "code",
   "execution_count": 188,
   "id": "60ff1c62-3c8b-47c2-bc88-8253a37f3889",
   "metadata": {
    "deletable": false,
    "editable": false,
    "nbgrader": {
     "cell_type": "code",
     "checksum": "c1d97317e82bf3c73acfa34b5239fa42",
     "grade": true,
     "grade_id": "cell-761b736c5eeff3fd",
     "locked": true,
     "points": 1,
     "schema_version": 3,
     "solution": false,
     "task": false
    },
    "tags": []
   },
   "outputs": [
    {
     "data": {
      "text/plain": [
       "' Hidden tests - These tests mirror the tests above - you will not see any additional feedback '"
      ]
     },
     "execution_count": 188,
     "metadata": {},
     "output_type": "execute_result"
    }
   ],
   "source": [
    "\"\"\" Hidden tests - These tests mirror the tests above - you will not see any additional feedback \"\"\""
   ]
  },
  {
   "cell_type": "code",
   "execution_count": 189,
   "id": "9601a7ee-bfc1-47a4-b722-751a6395ba44",
   "metadata": {
    "deletable": false,
    "editable": false,
    "nbgrader": {
     "cell_type": "code",
     "checksum": "761a23c1659b3b569de0cf8306a93f44",
     "grade": true,
     "grade_id": "cell-e23dac980ad4478d",
     "locked": true,
     "points": 1,
     "schema_version": 3,
     "solution": false,
     "task": false
    },
    "tags": []
   },
   "outputs": [
    {
     "data": {
      "text/plain": [
       "' Hidden tests - These tests mirror the tests above - you will not see any additional feedback '"
      ]
     },
     "execution_count": 189,
     "metadata": {},
     "output_type": "execute_result"
    }
   ],
   "source": [
    "\"\"\" Hidden tests - These tests mirror the tests above - you will not see any additional feedback \"\"\""
   ]
  },
  {
   "cell_type": "code",
   "execution_count": 190,
   "id": "5b943d72-7ab9-4da8-aba8-543efaf76b3c",
   "metadata": {
    "deletable": false,
    "editable": false,
    "nbgrader": {
     "cell_type": "code",
     "checksum": "5a0a39242878168989bcc7692081c5de",
     "grade": true,
     "grade_id": "cell-ff3d4a79e4668c80",
     "locked": true,
     "points": 1,
     "schema_version": 3,
     "solution": false,
     "task": false
    },
    "tags": []
   },
   "outputs": [
    {
     "data": {
      "text/plain": [
       "' Hidden tests - These tests mirror the tests above - you will not see any additional feedback '"
      ]
     },
     "execution_count": 190,
     "metadata": {},
     "output_type": "execute_result"
    }
   ],
   "source": [
    "\"\"\" Hidden tests - These tests mirror the tests above - you will not see any additional feedback \"\"\""
   ]
  },
  {
   "cell_type": "markdown",
   "id": "e6f5dba1-332d-4fca-878e-487c33950b75",
   "metadata": {
    "deletable": false,
    "editable": false,
    "nbgrader": {
     "cell_type": "markdown",
     "checksum": "ca32e0a5a92e917300971a12b117129f",
     "grade": false,
     "grade_id": "cell-04eaafa020b3500b",
     "locked": true,
     "schema_version": 3,
     "solution": false,
     "task": false
    },
    "tags": []
   },
   "source": [
    "#### Task 2 - create up_dates (2 points)\n",
    "Then reformat `datetimes` to `'Year-Month'` (eg `2024-03`) format using `strftime`. Store these new formatted dates in a list named `up_dates`.\n"
   ]
  },
  {
   "cell_type": "code",
   "execution_count": 94,
   "id": "91ad14dc-f8c3-45e2-af00-820d38d58f82",
   "metadata": {
    "deletable": false,
    "nbgrader": {
     "cell_type": "code",
     "checksum": "b8e7bbd43480efd573978593e1086057",
     "grade": false,
     "grade_id": "cell-8113583396da2f2f",
     "locked": false,
     "schema_version": 3,
     "solution": true,
     "task": false
    },
    "tags": []
   },
   "outputs": [
    {
     "name": "stdout",
     "output_type": "stream",
     "text": [
      "['2014-1-1', '2014-1-2', '2014-1-3', '2014-1-4', '2014-1-5', '2014-1-6', '2014-1-7', '2014-1-8', '2014-1-9', '2014-1-10', '2014-1-11', '2014-1-12', '2014-1-13', '2014-1-14', '2014-1-15', '2014-1-16', '2014-1-17', '2014-1-18', '2014-1-19', '2014-1-20', '2014-1-21', '2014-1-22', '2014-1-23', '2014-1-24', '2014-1-25', '2014-1-26', '2014-1-27', '2014-1-28', '2014-1-29', '2014-1-30', '2014-1-31', '2014-2-1', '2014-2-2', '2014-2-3', '2014-2-4', '2014-2-5', '2014-2-6', '2014-2-7', '2014-2-8', '2014-2-9', '2014-2-10', '2014-2-11', '2014-2-12', '2014-2-13', '2014-2-14', '2014-2-15', '2014-2-16', '2014-2-17', '2014-2-18', '2014-2-19', '2014-2-20', '2014-2-21', '2014-2-22', '2014-2-23', '2014-2-24', '2014-2-25', '2014-2-26', '2014-2-27', '2014-2-28', '2014-3-1', '2014-3-2', '2014-3-3', '2014-3-4', '2014-3-5', '2014-3-6', '2014-3-7', '2014-3-8', '2014-3-9', '2014-3-10', '2014-3-11', '2014-3-12', '2014-3-13', '2014-3-14', '2014-3-15', '2014-3-16', '2014-3-17', '2014-3-18', '2014-3-19', '2014-3-20', '2014-3-21', '2014-3-22', '2014-3-23', '2014-3-24', '2014-3-25', '2014-3-26', '2014-3-27', '2014-3-28', '2014-3-29', '2014-3-30', '2014-3-31', '2014-4-1', '2014-4-2', '2014-4-3', '2014-4-4', '2014-4-5', '2014-4-6', '2014-4-7', '2014-4-8', '2014-4-9', '2014-4-10', '2014-4-11', '2014-4-12', '2014-4-13', '2014-4-14', '2014-4-15', '2014-4-16', '2014-4-17', '2014-4-18', '2014-4-19', '2014-4-20', '2014-4-21', '2014-4-22', '2014-4-23', '2014-4-24', '2014-4-25', '2014-4-26', '2014-4-27', '2014-4-28', '2014-4-29', '2014-4-30', '2014-5-1', '2014-5-2', '2014-5-3', '2014-5-4', '2014-5-5', '2014-5-6', '2014-5-7', '2014-5-8', '2014-5-9', '2014-5-10', '2014-5-11', '2014-5-12', '2014-5-13', '2014-5-14', '2014-5-15', '2014-5-16', '2014-5-17', '2014-5-18', '2014-5-19', '2014-5-20', '2014-5-21', '2014-5-22', '2014-5-23', '2014-5-24', '2014-5-25', '2014-5-26', '2014-5-27', '2014-5-28', '2014-5-29', '2014-5-30', '2014-5-31', '2014-6-1', '2014-6-2', '2014-6-3', '2014-6-4', '2014-6-5', '2014-6-6', '2014-6-7', '2014-6-8', '2014-6-9', '2014-6-10', '2014-6-11', '2014-6-12', '2014-6-13', '2014-6-14', '2014-6-15', '2014-6-16', '2014-6-17', '2014-6-18', '2014-6-19', '2014-6-20', '2014-6-21', '2014-6-22', '2014-6-23', '2014-6-24', '2014-6-25', '2014-6-26', '2014-6-27', '2014-6-28', '2014-6-29', '2014-6-30', '2014-7-1', '2014-7-2', '2014-7-3', '2014-7-4', '2014-7-5', '2014-7-6', '2014-7-7', '2014-7-8', '2014-7-9', '2014-7-10', '2014-7-11', '2014-7-12', '2014-7-13', '2014-7-14', '2014-7-15', '2014-7-16', '2014-7-17', '2014-7-18', '2014-7-19', '2014-7-20', '2014-7-21', '2014-7-22', '2014-7-23', '2014-7-24', '2014-7-25', '2014-7-26', '2014-7-27', '2014-7-28', '2014-7-29', '2014-7-30', '2014-7-31', '2014-8-1', '2014-8-2', '2014-8-3', '2014-8-4', '2014-8-5', '2014-8-6', '2014-8-7', '2014-8-8', '2014-8-9', '2014-8-10', '2014-8-11', '2014-8-12', '2014-8-13', '2014-8-14', '2014-8-15', '2014-8-16', '2014-8-17', '2014-8-18', '2014-8-19', '2014-8-20', '2014-8-21', '2014-8-22', '2014-8-23', '2014-8-24', '2014-8-25', '2014-8-26', '2014-8-27', '2014-8-28', '2014-8-29', '2014-8-30', '2014-8-31', '2014-9-1', '2014-9-2', '2014-9-3', '2014-9-4', '2014-9-5', '2014-9-6', '2014-9-7', '2014-9-8', '2014-9-9', '2014-9-10', '2014-9-11', '2014-9-12', '2014-9-13', '2014-9-14', '2014-9-15', '2014-9-16', '2014-9-17', '2014-9-18', '2014-9-19', '2014-9-20', '2014-9-21', '2014-9-22', '2014-9-23', '2014-9-24', '2014-9-25', '2014-9-26', '2014-9-27', '2014-9-28', '2014-9-29', '2014-9-30', '2014-10-1', '2014-10-2', '2014-10-3', '2014-10-4', '2014-10-5', '2014-10-6', '2014-10-7', '2014-10-8', '2014-10-9', '2014-10-10', '2014-10-11', '2014-10-12', '2014-10-13', '2014-10-14', '2014-10-15', '2014-10-16', '2014-10-17', '2014-10-18', '2014-10-19', '2014-10-20', '2014-10-21', '2014-10-22', '2014-10-23', '2014-10-24', '2014-10-25', '2014-10-26', '2014-10-27', '2014-10-28', '2014-10-29', '2014-10-30', '2014-10-31', '2014-11-1', '2014-11-2', '2014-11-3', '2014-11-4', '2014-11-5', '2014-11-6', '2014-11-7', '2014-11-8', '2014-11-9', '2014-11-10', '2014-11-11', '2014-11-12', '2014-11-13', '2014-11-14', '2014-11-15', '2014-11-16', '2014-11-17', '2014-11-18', '2014-11-19', '2014-11-20', '2014-11-21', '2014-11-22', '2014-11-23', '2014-11-24', '2014-11-25', '2014-11-26', '2014-11-27', '2014-11-28', '2014-11-29', '2014-11-30', '2014-12-1', '2014-12-2', '2014-12-3', '2014-12-4', '2014-12-5', '2014-12-6', '2014-12-7', '2014-12-8', '2014-12-9', '2014-12-10', '2014-12-11', '2014-12-12', '2014-12-13', '2014-12-14', '2014-12-15', '2014-12-16', '2014-12-17', '2014-12-18', '2014-12-19', '2014-12-20', '2014-12-21', '2014-12-22']\n"
     ]
    }
   ],
   "source": [
    "# YOUR CODE HERE\n",
    "import csv\n",
    "from datetime import datetime\n",
    "\n",
    "date = [] \n",
    "\n",
    "with open ('/Users/maryanashnitser/Downloads/sitka_weather_2014.csv', 'r') as file:\n",
    "    reader = csv.reader(file)\n",
    "    column_names = next(reader)\n",
    "    date_index = column_names.index('AKST') #finds the index of dates column\n",
    "    for row in reader: #loops through rows to get values\n",
    "        date.append(row[date_index]) #adds dates to list\n",
    "print (date)\n",
    "datetimes = [datetime.strptime(date, '%Y-%m-%d') for date in date]\n",
    "up_dates =[datetime.strftime('%Y-%m')for datetime in datetimes]\n"
   ]
  },
  {
   "cell_type": "code",
   "execution_count": 192,
   "id": "cb8f6d44-266d-47b2-9cfe-8c65f4251a6c",
   "metadata": {
    "deletable": false,
    "editable": false,
    "nbgrader": {
     "cell_type": "code",
     "checksum": "a095779293260c3f5093d8288105ef40",
     "grade": false,
     "grade_id": "cell-cbb09d5481f0e2c9",
     "locked": true,
     "schema_version": 3,
     "solution": false,
     "task": false
    },
    "tags": []
   },
   "outputs": [],
   "source": [
    "# Assertion tests to validate the 'up_dates' list\n",
    "try:\n",
    "    assert isinstance(up_dates, list), \"The 'up_dates' variable should be a list.\"\n",
    "except AssertionError as e:\n",
    "    raise AssertionError(str(e))\n",
    "\n",
    "try:\n",
    "    assert all(isinstance(date, str) for date in up_dates), \"All elements in the 'up_dates' list should be strings.\"\n",
    "except AssertionError as e:\n",
    "    raise AssertionError(str(e))"
   ]
  },
  {
   "cell_type": "code",
   "execution_count": 193,
   "id": "a3c595a4-3abe-4a4d-8004-1f30198b0697",
   "metadata": {
    "deletable": false,
    "editable": false,
    "nbgrader": {
     "cell_type": "code",
     "checksum": "9072b1b41b11f5abf0de6f15b0f6096a",
     "grade": false,
     "grade_id": "cell-9f115307202c3795",
     "locked": true,
     "schema_version": 3,
     "solution": false,
     "task": false
    },
    "tags": []
   },
   "outputs": [],
   "source": [
    "try:\n",
    "    assert up_dates[0] == '2014-01', \"The first date in the 'up_dates' list should be formatted as '2014-01'.\"\n",
    "except AssertionError as e:\n",
    "    raise AssertionError(str(e))\n",
    "\n",
    "try:\n",
    "    assert len(up_dates) == len(dates), \"The 'up_dates' list should have the same number of elements as the 'dates' list.\"\n",
    "except AssertionError as e:\n",
    "    raise AssertionError(str(e))"
   ]
  },
  {
   "cell_type": "code",
   "execution_count": 194,
   "id": "b2f77288-bdfd-49e4-818b-60c3cfc6771a",
   "metadata": {
    "deletable": false,
    "editable": false,
    "nbgrader": {
     "cell_type": "code",
     "checksum": "a7f53cfc5054574dc7340ba0c137f650",
     "grade": true,
     "grade_id": "cell-1d70108325ba66fa",
     "locked": true,
     "points": 1,
     "schema_version": 3,
     "solution": false,
     "task": false
    },
    "tags": []
   },
   "outputs": [
    {
     "data": {
      "text/plain": [
       "' Hidden tests - These tests mirror the tests above - you will not see any additional feedback '"
      ]
     },
     "execution_count": 194,
     "metadata": {},
     "output_type": "execute_result"
    }
   ],
   "source": [
    "\"\"\" Hidden tests - These tests mirror the tests above - you will not see any additional feedback \"\"\""
   ]
  },
  {
   "cell_type": "markdown",
   "id": "ee311259-740e-43ca-9036-0a05de9b7dea",
   "metadata": {
    "deletable": false,
    "editable": false,
    "nbgrader": {
     "cell_type": "markdown",
     "checksum": "f098bbda3b634d7c9aa33b44573f3321",
     "grade": false,
     "grade_id": "cell-7d9a7d5277d995ea",
     "locked": true,
     "schema_version": 3,
     "solution": false,
     "task": false
    },
    "tags": []
   },
   "source": [
    "#### Task 4 - Plotting done for you\n",
    "In this script, the `ticker` and `mdates` modules from the `matplotlib` library are used to customize the x-axis of the plot. Specifically, `mdates.DayLocator(interval=30)` is used to place ticks on the x-axis at an interval of 30 days, and `mdates.DateFormatter('%Y,%m,%d')` is employed to format these tick labels to display the date in the `'Year,Month,Day'` format. This ensures the x-axis is not cluttered and the plot remains readable, even when displaying data over a long period."
   ]
  },
  {
   "cell_type": "code",
   "execution_count": 195,
   "id": "03337a71-0ba7-4e18-8658-00ecd2bc7327",
   "metadata": {
    "deletable": false,
    "editable": false,
    "nbgrader": {
     "cell_type": "code",
     "checksum": "75748eb6c5e57872e50e0235984b134a",
     "grade": false,
     "grade_id": "cell-dfb6a80cf80dcd26",
     "locked": true,
     "schema_version": 3,
     "solution": false,
     "task": false
    },
    "tags": []
   },
   "outputs": [
    {
     "data": {
      "image/png": "[encoded data removed]",
      "text/plain": [
       "<Figure size 800x550 with 1 Axes>"
      ]
     },
     "metadata": {},
     "output_type": "display_data"
    }
   ],
   "source": [
    "from matplotlib import ticker\n",
    "import matplotlib.dates as mdates\n",
    "\n",
    "# Create the plot using subplots\n",
    "fig, ax = plt.subplots()\n",
    "plt.style.use('seaborn-v0_8')\n",
    "\n",
    "# Plot the data\n",
    "ax.plot(datetimes, mean_wind_speeds)\n",
    "\n",
    "# Set labels and title\n",
    "ax.set_xlabel('Date')\n",
    "ax.set_ylabel('Mean Wind Speed (MPH)')\n",
    "ax.set_title('Mean Wind Speed Over Time')\n",
    "\n",
    "# Setting x-axis to only show a label every 30 days\n",
    "ax.xaxis.set_major_locator(mdates.DayLocator(interval=30))\n",
    "ax.xaxis.set_major_formatter(mdates.DateFormatter('%Y,%m,%d'))\n",
    "\n",
    "# Rotate x-axis labels for better readability\n",
    "plt.xticks(rotation=45)\n",
    "\n",
    "# Adjust layout and show grid\n",
    "plt.tight_layout()\n",
    "ax.grid(True)\n",
    "\n",
    "# Show the plot\n",
    "plt.show()\n",
    "\n"
   ]
  },
  {
   "attachments": {
    "293e3da1-afd6-46c4-8d6a-ff5837281de4.png": {
     "image/png": "[encoded data removed]"
    }
   },
   "cell_type": "markdown",
   "id": "0f92e9b6-3c92-4e5a-9639-0aa57637408d",
   "metadata": {
    "deletable": false,
    "editable": false,
    "nbgrader": {
     "cell_type": "markdown",
     "checksum": "ab91b796894f2a327abf1ced14b433a4",
     "grade": false,
     "grade_id": "cell-f2ef5aa98c5f06c5",
     "locked": true,
     "schema_version": 3,
     "solution": false,
     "task": false
    },
    "tags": []
   },
   "source": [
    "### Problem 4: Spatial Data \n",
    "\n",
    "Using the dataset provided, you are required to create a geographical scatter plot to visualize the locations of fires around the world. You should use Plotly's scattergeo module to plot the latitude and longitude of the fire locations on a world map. Additionally, use the layout module to customize the appearance of the plot.\n",
    "\n",
    " \n",
    "#### Tasks 1 (5 points)\n",
    "1) Import needed modules and, use csv.reader to read data from the 'world_fires_1_day.csv' file.\n",
    "2) Extract and store the `latitude`, `longitude`, and `brightness` values in separate lists: \n",
    "\n",
    "\n",
    "**Note:** If you get the following error `ModuleNotFoundError: No module named 'plotly'` you need to install plotly in your conda environment. \n",
    "- In jupyterlab > click ![+.png](attachment:293e3da1-afd6-46c4-8d6a-ff5837281de4.png) > Under `Other` click `Terminal` > \n",
    "- In vscode > click `terminal` tab > `New Terminal`\n",
    "Then in the terminal type `conda install plotly -y`. \n",
    "If that throws an error try `pip install plotly`. Then go back to you homework and click the tab `kernel` > `restart kernel`"
   ]
  },
  {
   "cell_type": "code",
   "execution_count": 95,
   "id": "85026168",
   "metadata": {},
   "outputs": [
    {
     "name": "stdout",
     "output_type": "stream",
     "text": [
      "Defaulting to user installation because normal site-packages is not writeable\n",
      "Requirement already satisfied: plotly in /Users/maryanashnitser/Library/Python/3.9/lib/python/site-packages (5.24.1)\n",
      "Requirement already satisfied: tenacity>=6.2.0 in /Users/maryanashnitser/Library/Python/3.9/lib/python/site-packages (from plotly) (9.0.0)\n",
      "Requirement already satisfied: packaging in /Users/maryanashnitser/Library/Python/3.9/lib/python/site-packages (from plotly) (24.1)\n",
      "\u001b[33mWARNING: You are using pip version 21.2.4; however, version 24.2 is available.\n",
      "You should consider upgrading via the '/Library/Developer/CommandLineTools/usr/bin/python3 -m pip install --upgrade pip' command.\u001b[0m\n",
      "Note: you may need to restart the kernel to use updated packages.\n"
     ]
    }
   ],
   "source": [
    "pip install plotly"
   ]
  },
  {
   "cell_type": "code",
   "execution_count": 96,
   "id": "e38d4661-9b9e-4c00-8f3b-3d868a3c4516",
   "metadata": {
    "deletable": false,
    "nbgrader": {
     "cell_type": "code",
     "checksum": "70ecec770c5aa2c76581a39d967aa93d",
     "grade": false,
     "grade_id": "cell-a1ef9fcb2823710e",
     "locked": false,
     "schema_version": 3,
     "solution": true,
     "task": false
    },
    "tags": []
   },
   "outputs": [
    {
     "name": "stdout",
     "output_type": "stream",
     "text": [
      "A row of data: ['latitude', 'longitude', 'brightness', 'scan', 'track', 'acq_date', 'acq_time', 'satellite', 'confidence', 'version', 'bright_t31', 'frp', 'daynight']\n"
     ]
    }
   ],
   "source": [
    "# YOUR CODE HERE\n",
    "latitude = [] \n",
    "longitude =[]\n",
    "brightness = []\n",
    "\n",
    "with open ('/Users/maryanashnitser/Downloads/world_fires_1_day.csv', 'r') as file:\n",
    "    reader = csv.reader(file)\n",
    "    column_names = next(reader)\n",
    "    print('A row of data:', column_names)\n",
    "    latitude_index = column_names.index('latitude') #finds the index of latitude column\n",
    "    longitude_index = column_names.index('longitude') #finds the index of longitude column\n",
    "    brightness_index = column_names.index('brightness')\n",
    "    for row in reader: #loops through rows to get values\n",
    "        latitude.append(float(row[latitude_index])) #adds latitude values to list\n",
    "        longitude.append(float(row[latitude_index])) #adds max wind speeds to list\n",
    "        brightness.append(float(row[brightness_index]))\n",
    "\n"
   ]
  },
  {
   "cell_type": "code",
   "execution_count": 38,
   "id": "2cf1c009-aad3-4469-8b52-2f31f01ca8e9",
   "metadata": {
    "deletable": false,
    "editable": false,
    "nbgrader": {
     "cell_type": "code",
     "checksum": "28e5ccddca0dfe9d6349de7fcb8f4ec5",
     "grade": false,
     "grade_id": "cell-83f98af75628e58b",
     "locked": true,
     "schema_version": 3,
     "solution": false,
     "task": false
    },
    "tags": []
   },
   "outputs": [],
   "source": [
    "try:\n",
    "    assert isinstance(latitude, list), \"Latitude should be a list\"\n",
    "except AssertionError as e:\n",
    "    raise AssertionError(str(e))\n",
    "\n",
    "try:\n",
    "    assert isinstance(longitude, list), \"longitude should be a list\"\n",
    "except AssertionError as e:\n",
    "    raise AssertionError(str(e))\n",
    "    \n",
    "try:\n",
    "    assert len(latitude)==1499, \"Latitude should be a list of length 1499\"\n",
    "except AssertionError as e:\n",
    "    raise AssertionError(str(e))\n",
    "\n",
    "try:\n",
    "    assert isinstance(latitude[0], float), \"Latitude list should contain float values\"\n",
    "except AssertionError as e:\n",
    "    raise AssertionError(str(e))\n",
    "\n",
    "try:\n",
    "    assert isinstance(longitude[0], float), \"Longitude list should contain float values\"\n",
    "except AssertionError as e:\n",
    "    raise AssertionError(str(e))\n",
    "\n",
    "try:\n",
    "    assert isinstance(brightness[0], float), \"Brightness list should contain float values\"\n",
    "except AssertionError as e:\n",
    "    raise AssertionError(str(e))"
   ]
  },
  {
   "cell_type": "code",
   "execution_count": 27,
   "id": "0e040d24-3174-491f-b93d-61f3f9f1c3c7",
   "metadata": {
    "deletable": false,
    "editable": false,
    "nbgrader": {
     "cell_type": "code",
     "checksum": "bdd0ed9f201c3bf83538c699251d2112",
     "grade": true,
     "grade_id": "cell-ac6c2d48a7b11c5f",
     "locked": true,
     "points": 2,
     "schema_version": 3,
     "solution": false,
     "task": false
    },
    "tags": []
   },
   "outputs": [
    {
     "data": {
      "text/plain": [
       "'Hidden tests'"
      ]
     },
     "execution_count": 27,
     "metadata": {},
     "output_type": "execute_result"
    }
   ],
   "source": [
    "\"\"\"Hidden tests\"\"\""
   ]
  },
  {
   "cell_type": "code",
   "execution_count": 28,
   "id": "1194336c-7db2-4467-b5a3-d7be31929e7f",
   "metadata": {
    "deletable": false,
    "editable": false,
    "nbgrader": {
     "cell_type": "code",
     "checksum": "8d370b82d11aa650a557e80c83790f9a",
     "grade": true,
     "grade_id": "cell-d332a1f982b217c0",
     "locked": true,
     "points": 3,
     "schema_version": 3,
     "solution": false,
     "task": false
    },
    "tags": []
   },
   "outputs": [
    {
     "data": {
      "text/plain": [
       "'Hidden tests'"
      ]
     },
     "execution_count": 28,
     "metadata": {},
     "output_type": "execute_result"
    }
   ],
   "source": [
    "\"\"\"Hidden tests\"\"\""
   ]
  },
  {
   "cell_type": "markdown",
   "id": "0a3ee903-c354-4a02-87ce-4820adf79795",
   "metadata": {
    "deletable": false,
    "editable": false,
    "nbgrader": {
     "cell_type": "markdown",
     "checksum": "8a933abf3e3d625ef0558d05a918d919",
     "grade": false,
     "grade_id": "cell-b90be0d482ae9a99",
     "locked": true,
     "schema_version": 3,
     "solution": false,
     "task": false
    },
    "tags": []
   },
   "source": [
    "#### Tasks 2 (3 points)\n",
    "\n",
    "1) Create a `px.scatter_geo` object named `trace` with the extracted data. See [docs here](https://plotly.com/python-api-reference/generated/plotly.express.scatter_geo.html)\n",
    "2) Use `latitude` for the lat attribute, `longitude` for the lon attribute, and `brightness` for the `text` argument of the scattergeo object.\n",
    "3) Set the title to `World Fires 4/3/22`"
   ]
  },
  {
   "cell_type": "code",
   "execution_count": 134,
   "id": "402068c0-8d6d-490f-ba7a-2eb5ed6e8391",
   "metadata": {
    "deletable": false,
    "nbgrader": {
     "cell_type": "code",
     "checksum": "ac585265c8a103eb54974cf40cafbe86",
     "grade": false,
     "grade_id": "cell-46b83a9802798bbc",
     "locked": false,
     "schema_version": 3,
     "solution": true,
     "task": false
    },
    "tags": []
   },
   "outputs": [],
   "source": [
    "# Step 2: Create a scattergeo object\n",
    "from plotly.offline import plot\n",
    "import plotly.express as px\n",
    "\n",
    "trace = px.scatter_geo(\n",
    "    lat = latitude,\n",
    "    lon = longitude,\n",
    "    text = brightness,\n",
    "    title = 'World Fires 4/3/22'\n",
    ")\n",
    "#trace.show()"
   ]
  },
  {
   "cell_type": "markdown",
   "id": "a648876e-82b8-4987-8c2c-6b3c3c0370f9",
   "metadata": {
    "deletable": false,
    "editable": false,
    "nbgrader": {
     "cell_type": "markdown",
     "checksum": "0c2d40a2faa92fc2a6e04fcee0fd5615",
     "grade": false,
     "grade_id": "cell-bf86e9bd70096628",
     "locked": true,
     "schema_version": 3,
     "solution": false,
     "task": false
    },
    "tags": []
   },
   "source": [
    "Now let's plot what we got... Not so pretty"
   ]
  },
  {
   "cell_type": "code",
   "execution_count": 135,
   "id": "ec602acb-36eb-400e-9a74-c5535692cb17",
   "metadata": {
    "deletable": false,
    "editable": false,
    "nbgrader": {
     "cell_type": "code",
     "checksum": "0de78d616b015389e6edf448818a4f53",
     "grade": false,
     "grade_id": "cell-88326d14a5ccc13a",
     "locked": true,
     "schema_version": 3,
     "solution": false,
     "task": false
    },
    "tags": []
   },
   "outputs": [
    {
     "data": {
      "text/plain": [
       "'global_fire_locations.html'"
      ]
     },
     "execution_count": 135,
     "metadata": {},
     "output_type": "execute_result"
    }
   ],
   "source": [
    "plot(trace, filename='global_fire_locations.html')"
   ]
  },
  {
   "cell_type": "code",
   "execution_count": 136,
   "id": "fe5770c3-d2be-4616-8eca-afa57f956712",
   "metadata": {
    "deletable": false,
    "editable": false,
    "nbgrader": {
     "cell_type": "code",
     "checksum": "d31ddf03f471587889530ef81bc79b30",
     "grade": false,
     "grade_id": "cell-538c9eb9dd390dc7",
     "locked": true,
     "schema_version": 3,
     "solution": false,
     "task": false
    },
    "tags": []
   },
   "outputs": [],
   "source": [
    "try:\n",
    "    assert all(trace.data[0]['lon'] == longitude), \"Longitude data in scattergeo object does not match the data list\"\n",
    "except AssertionError as e:\n",
    "    raise AssertionError(str(e))\n",
    "\n",
    "try:\n",
    "    assert all(trace.data[0]['lat'] == latitude), \"Latitude data in scattergeo object does not match the data list\"\n",
    "except AssertionError as e:\n",
    "    raise AssertionError(str(e))\n",
    "\n",
    "try:\n",
    "    assert all(trace.data[0]['text'] == brightness), \"Brightness data in scattergeo object does not match the data list\"\n",
    "except AssertionError as e:\n",
    "    raise AssertionError(str(e))\n",
    "\n",
    "try:\n",
    "    assert trace.layout.title.text == 'World Fires 4/3/22', \"The plot title does not match the expected title 'World Fires 4/3/22'\"\n",
    "except AssertionError as e:\n",
    "    raise AssertionError(str(e))\n"
   ]
  },
  {
   "cell_type": "code",
   "execution_count": 137,
   "id": "fd680964-f10a-45ad-ab70-bb225146e024",
   "metadata": {
    "deletable": false,
    "editable": false,
    "nbgrader": {
     "cell_type": "code",
     "checksum": "7fd6b9af2a67a3973182dcdb4489f4fc",
     "grade": true,
     "grade_id": "cell-032ad06aa2c83679",
     "locked": true,
     "points": 1,
     "schema_version": 3,
     "solution": false,
     "task": false
    },
    "tags": []
   },
   "outputs": [
    {
     "data": {
      "text/plain": [
       "'Hidden tests '"
      ]
     },
     "execution_count": 137,
     "metadata": {},
     "output_type": "execute_result"
    }
   ],
   "source": [
    "\"\"\"Hidden tests \"\"\""
   ]
  },
  {
   "cell_type": "code",
   "execution_count": 138,
   "id": "a4ccf8f2-1924-4e7d-99d8-ac46e07a6679",
   "metadata": {
    "deletable": false,
    "editable": false,
    "nbgrader": {
     "cell_type": "code",
     "checksum": "f92482503c681232706ea7787659e2bc",
     "grade": true,
     "grade_id": "cell-9c50521dd2a87001",
     "locked": true,
     "points": 1,
     "schema_version": 3,
     "solution": false,
     "task": false
    },
    "tags": []
   },
   "outputs": [
    {
     "data": {
      "text/plain": [
       "'Hidden tests '"
      ]
     },
     "execution_count": 138,
     "metadata": {},
     "output_type": "execute_result"
    }
   ],
   "source": [
    "\"\"\"Hidden tests \"\"\""
   ]
  },
  {
   "cell_type": "code",
   "execution_count": 139,
   "id": "90c08d6c-af64-452c-bb8f-d9188d290044",
   "metadata": {
    "deletable": false,
    "editable": false,
    "nbgrader": {
     "cell_type": "code",
     "checksum": "1d4288edeb45aaec6254a477f63c82b2",
     "grade": true,
     "grade_id": "cell-426bc9a5ec1fbb8c",
     "locked": true,
     "points": 1,
     "schema_version": 3,
     "solution": false,
     "task": false
    },
    "tags": []
   },
   "outputs": [
    {
     "data": {
      "text/plain": [
       "'Hidden tests '"
      ]
     },
     "execution_count": 139,
     "metadata": {},
     "output_type": "execute_result"
    }
   ],
   "source": [
    "\"\"\"Hidden tests \"\"\""
   ]
  },
  {
   "cell_type": "markdown",
   "id": "ad05beb4-e581-46ad-a8b1-5a971f3e6446",
   "metadata": {
    "deletable": false,
    "editable": false,
    "nbgrader": {
     "cell_type": "markdown",
     "checksum": "ea278dc5dfae79f4e4ef71bc1ae4d702",
     "grade": false,
     "grade_id": "cell-39ebfd50bfa72fe5",
     "locked": true,
     "schema_version": 3,
     "solution": false,
     "task": false
    },
    "tags": []
   },
   "source": [
    "#### Task 3 (4 points)\n",
    "Copy and paste *all* the relevant code above to complete the following:\n",
    "\n",
    "\n",
    "\n",
    "1) Rescale `brightness` to between zero and 1 using min max scaling and store the new list as `brightness_scaled` using the formula below:\n",
    "\n",
    "$X_{\\text{scaled}} = \\frac{X - X_{\\text{min}}}{X_{\\text{max}} - X_{\\text{min}}}$\n",
    "\n",
    "Where:\n",
    "- $X_{\\text{scaled}} $ is the scaled value\n",
    "- $ X $ is the original value\n",
    "- $ X_{\\text{min}} $ is the minimum value in the dataset\n",
    "- $ X_{\\text{max}} $ is the maximum value in the dataset\n",
    "\n",
    "Hint you can use list comprehension and built-in math functions, for example:\n",
    "``` python\n",
    "max( brightness)\n",
    "```"
   ]
  },
  {
   "cell_type": "code",
   "execution_count": 142,
   "id": "b4ab5b95-9947-4b7a-931f-9b20bb466623",
   "metadata": {
    "deletable": false,
    "nbgrader": {
     "cell_type": "code",
     "checksum": "be808377fe0ae20ad3341c6b640f507c",
     "grade": false,
     "grade_id": "cell-d0b281936d8a2ab3",
     "locked": false,
     "schema_version": 3,
     "solution": true,
     "task": false
    },
    "tags": []
   },
   "outputs": [],
   "source": [
    "brightness_scaled = []\n",
    "\n",
    "for value in brightness:\n",
    "   numerator = value - min(brightness)\n",
    "   denominator = max(brightness) - min(brightness)\n",
    "   scaled_value = numerator / denominator\n",
    "   brightness_scaled.append(scaled_value)"
   ]
  },
  {
   "cell_type": "code",
   "execution_count": 143,
   "id": "252b56f3-b4d6-4b96-8906-70be26daa2a9",
   "metadata": {
    "deletable": false,
    "editable": false,
    "nbgrader": {
     "cell_type": "code",
     "checksum": "2bdbcc3175aade16ffa68b091441917a",
     "grade": false,
     "grade_id": "cell-68a044fab5375e98",
     "locked": true,
     "schema_version": 3,
     "solution": false,
     "task": false
    },
    "tags": []
   },
   "outputs": [],
   "source": [
    " try:\n",
    "    assert brightness_scaled, \"The 'brightness_scaled' list is empty\"\n",
    "except AssertionError as e:\n",
    "    raise AssertionError(str(e))"
   ]
  },
  {
   "cell_type": "code",
   "execution_count": 144,
   "id": "54a497e8-65ab-4e0b-8aa3-73dce3d9ee94",
   "metadata": {
    "deletable": false,
    "editable": false,
    "nbgrader": {
     "cell_type": "code",
     "checksum": "d8e1f81728f45e508d4f4e2df2504bf5",
     "grade": false,
     "grade_id": "cell-c529a169640043b0",
     "locked": true,
     "schema_version": 3,
     "solution": false,
     "task": false
    },
    "tags": []
   },
   "outputs": [],
   "source": [
    "try:\n",
    "    assert min(brightness_scaled) == 0, \"The minimum value in the 'brightness_scaled' list is not 0\"\n",
    "except AssertionError as e:\n",
    "    raise AssertionError(str(e))\n",
    "\n",
    "try:\n",
    "    assert max(brightness_scaled) == 1, \"The maximum value in the 'brightness_scaled' list is not 1\"\n",
    "except AssertionError as e:\n",
    "    raise AssertionError(str(e))\n",
    "\n",
    "try:\n",
    "    assert len(brightness_scaled) == len(brightness), \"The length of the 'brightness_scaled' list is not equal to the original 'brightness' list\"\n",
    "except AssertionError as e:\n",
    "    raise AssertionError(str(e))\n",
    "    "
   ]
  },
  {
   "cell_type": "code",
   "execution_count": 145,
   "id": "6ea45616-3508-42ce-af4e-37a57a3a7fd3",
   "metadata": {
    "deletable": false,
    "editable": false,
    "nbgrader": {
     "cell_type": "code",
     "checksum": "37969876335e9d1c532b3e2c3fab8cd7",
     "grade": false,
     "grade_id": "cell-ff10a4f37f6f214e",
     "locked": true,
     "schema_version": 3,
     "solution": false,
     "task": false
    },
    "tags": []
   },
   "outputs": [],
   "source": [
    "import numpy as np\n",
    "try:\n",
    "    assert round(np.mean(brightness_scaled),3) == 0.143, \"The expected mean is not correct, please check your formula\"\n",
    "except AssertionError as e:\n",
    "    raise AssertionError(str(e))"
   ]
  },
  {
   "cell_type": "code",
   "execution_count": 146,
   "id": "156b76c5-3d9d-49b9-97c2-890e681f74f7",
   "metadata": {
    "deletable": false,
    "editable": false,
    "nbgrader": {
     "cell_type": "code",
     "checksum": "29f50e11782564691488efcf6a049305",
     "grade": true,
     "grade_id": "cell-9b53e0175f12a119",
     "locked": true,
     "points": 1,
     "schema_version": 3,
     "solution": false,
     "task": false
    },
    "tags": []
   },
   "outputs": [
    {
     "data": {
      "text/plain": [
       "'Hidden tests '"
      ]
     },
     "execution_count": 146,
     "metadata": {},
     "output_type": "execute_result"
    }
   ],
   "source": [
    "\"\"\"Hidden tests \"\"\""
   ]
  },
  {
   "cell_type": "code",
   "execution_count": 147,
   "id": "6d359cc0-d16d-43cf-9fa4-0a58dadc6664",
   "metadata": {
    "deletable": false,
    "editable": false,
    "nbgrader": {
     "cell_type": "code",
     "checksum": "8622cdaa180b00e4140a959c80e2ec7a",
     "grade": true,
     "grade_id": "cell-27dee5eeabe3c8c1",
     "locked": true,
     "points": 1,
     "schema_version": 3,
     "solution": false,
     "task": false
    },
    "tags": []
   },
   "outputs": [
    {
     "data": {
      "text/plain": [
       "'Hidden tests '"
      ]
     },
     "execution_count": 147,
     "metadata": {},
     "output_type": "execute_result"
    }
   ],
   "source": [
    "\"\"\"Hidden tests \"\"\""
   ]
  },
  {
   "cell_type": "code",
   "execution_count": 148,
   "id": "baa9ab8f-4c36-475e-b007-b7a2ab957b6a",
   "metadata": {
    "deletable": false,
    "editable": false,
    "nbgrader": {
     "cell_type": "code",
     "checksum": "0b6669f712894ef70b08ed36f0cbdd72",
     "grade": true,
     "grade_id": "cell-72facbdf74db953e",
     "locked": true,
     "points": 2,
     "schema_version": 3,
     "solution": false,
     "task": false
    },
    "tags": []
   },
   "outputs": [
    {
     "data": {
      "text/plain": [
       "'Hidden tests '"
      ]
     },
     "execution_count": 148,
     "metadata": {},
     "output_type": "execute_result"
    }
   ],
   "source": [
    "\"\"\"Hidden tests \"\"\""
   ]
  },
  {
   "cell_type": "markdown",
   "id": "f5bbba72-41e2-44f6-97a6-08a5514a7559",
   "metadata": {
    "deletable": false,
    "editable": false,
    "nbgrader": {
     "cell_type": "markdown",
     "checksum": "0a792dbaca4c0aba150c9e20dfdd53ce",
     "grade": false,
     "grade_id": "cell-9fd200d6d0ad6629",
     "locked": true,
     "schema_version": 3,
     "solution": false,
     "task": false
    },
    "tags": []
   },
   "source": [
    "#### Task 4 (5 points)\n",
    "This time we will create a map of points that are scaled by a numeric value. To do this we will be using `size` instead of the `text` argument.  \n",
    "\n",
    "Create `px.scatter_geo` object named `fire_map` that sets the:\n",
    "\n",
    "1) `size` of the points is set to `brightness_scaled * 2`\n",
    "2) this time don't use the `text` argument\n",
    "\n",
    "**Remember** Multiplication of a list ( `[1,2] *2` ) just creates a list `[1, 2, 1, 2]` and doesn't multiply the elements by 2...."
   ]
  },
  {
   "cell_type": "code",
   "execution_count": 174,
   "id": "57f4e0b2-2810-4e5c-bc96-b688459e5340",
   "metadata": {
    "deletable": false,
    "nbgrader": {
     "cell_type": "code",
     "checksum": "8f5a9da8049cefeff91dc87cb1f6d55c",
     "grade": false,
     "grade_id": "cell-acbb10d93a23cd89",
     "locked": false,
     "schema_version": 3,
     "solution": true,
     "task": false
    },
    "tags": []
   },
   "outputs": [
    {
     "name": "stdout",
     "output_type": "stream",
     "text": [
      "A row of data: ['latitude', 'longitude', 'brightness', 'scan', 'track', 'acq_date', 'acq_time', 'satellite', 'confidence', 'version', 'bright_t31', 'frp', 'daynight']\n"
     ]
    },
    {
     "data": {
      "text/plain": [
       "'global_fire_locations_brightness.html'"
      ]
     },
     "execution_count": 174,
     "metadata": {},
     "output_type": "execute_result"
    }
   ],
   "source": [
    "# YOUR CODE HERE\n",
    "\n",
    "latitude = [] \n",
    "longitude =[]\n",
    "brightness = []\n",
    "\n",
    "with open ('/Users/maryanashnitser/Downloads/world_fires_1_day.csv', 'r') as file:\n",
    "    reader = csv.reader(file)\n",
    "    column_names = next(reader)\n",
    "    print('A row of data:', column_names)\n",
    "    latitude_index = column_names.index('latitude') #finds the index of latitude column\n",
    "    longitude_index = column_names.index('longitude') #finds the index of longitude column\n",
    "    brightness_index = column_names.index('brightness')\n",
    "    for row in reader: #loops through rows to get values\n",
    "        latitude.append(float(row[latitude_index])) #adds latitude values to list\n",
    "        longitude.append(float(row[latitude_index])) #adds max wind speeds to list\n",
    "        brightness.append(float(row[brightness_index]))\n",
    "\n",
    "brightness_scaled = []\n",
    "\n",
    "for value in brightness:\n",
    "   numerator = value - min(brightness)\n",
    "   denominator = max(brightness) - min(brightness)\n",
    "   scaled_value = numerator / denominator\n",
    "   brightness_scaled.append(scaled_value)\n",
    "\n",
    "fire_map = px.scatter_geo(\n",
    "    lat = latitude,\n",
    "    lon = longitude,\n",
    "    size = [value * 2 for value in brightness_scaled],\n",
    "    title = 'World Fires 4/3/22'\n",
    ")\n",
    "\n",
    "plot(fire_map, filename ='global_fire_locations_brightness.html')\n"
   ]
  },
  {
   "cell_type": "code",
   "execution_count": 175,
   "id": "fe4df44f-4e00-4d70-8211-ca2fa3df1d5e",
   "metadata": {
    "deletable": false,
    "editable": false,
    "nbgrader": {
     "cell_type": "code",
     "checksum": "8bd27118e38b1e7f9786bd2b2bc97c79",
     "grade": false,
     "grade_id": "cell-eb36ad23da3dd96d",
     "locked": true,
     "schema_version": 3,
     "solution": false,
     "task": false
    },
    "tags": []
   },
   "outputs": [],
   "source": [
    "try:\n",
    "    assert fire_map.data[0]['marker']['size'] is not None, \"The 'size' parameter in the trace object is null\"\n",
    "except AssertionError as e:\n",
    "    raise AssertionError(str(e))\n",
    "try:\n",
    "    assert len(fire_map.data[0]['marker']['size']) == len(brightness_scaled), \"The length of the 'size' parameter array does not match the length of the 'brightness_scaled' list\"\n",
    "except AssertionError as e:\n",
    "    raise AssertionError(str(e))"
   ]
  },
  {
   "cell_type": "code",
   "execution_count": 176,
   "id": "2122c665-8c3a-4957-8ed1-99fe4c570594",
   "metadata": {
    "deletable": false,
    "editable": false,
    "nbgrader": {
     "cell_type": "code",
     "checksum": "338055db615f721a0d07048fb7add3df",
     "grade": true,
     "grade_id": "cell-371589bcad85ff8e",
     "locked": true,
     "points": 3,
     "schema_version": 3,
     "solution": false,
     "task": false
    },
    "tags": []
   },
   "outputs": [
    {
     "data": {
      "text/plain": [
       "'Hidden tests'"
      ]
     },
     "execution_count": 176,
     "metadata": {},
     "output_type": "execute_result"
    }
   ],
   "source": [
    "\"\"\"Hidden tests\"\"\""
   ]
  },
  {
   "cell_type": "code",
   "execution_count": 177,
   "id": "d7b011eb-6b49-4e0a-aa81-4bd10bbb4576",
   "metadata": {
    "deletable": false,
    "editable": false,
    "nbgrader": {
     "cell_type": "code",
     "checksum": "6bc1117ea52bcfdbf61cc1a0707f1664",
     "grade": true,
     "grade_id": "cell-0a5d63b738345bf8",
     "locked": true,
     "points": 2,
     "schema_version": 3,
     "solution": false,
     "task": false
    },
    "tags": []
   },
   "outputs": [
    {
     "data": {
      "text/plain": [
       "'Hidden tests '"
      ]
     },
     "execution_count": 177,
     "metadata": {},
     "output_type": "execute_result"
    }
   ],
   "source": [
    "\"\"\"Hidden tests \"\"\""
   ]
  },
  {
   "cell_type": "code",
   "execution_count": null,
   "id": "6c1ce466-10cd-4097-8633-f283b03babdd",
   "metadata": {},
   "outputs": [],
   "source": []
  }
 ],
 "metadata": {
  "kernelspec": {
   "display_name": "Python 3 (ipykernel)",
   "language": "python",
   "name": "python3"
  },
  "language_info": {
   "codemirror_mode": {
    "name": "ipython",
    "version": 3
   },
   "file_extension": ".py",
   "mimetype": "text/x-python",
   "name": "python",
   "nbconvert_exporter": "python",
   "pygments_lexer": "ipython3",
   "version": "3.9.6"
  }
 },
 "nbformat": 4,
 "nbformat_minor": 5
}
