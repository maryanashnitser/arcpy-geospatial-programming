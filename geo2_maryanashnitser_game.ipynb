{
 "cells": [
  {
   "cell_type": "markdown",
   "id": "f1d7927d",
   "metadata": {},
   "source": [
    "Before you turn this problem in, make sure everything runs as expected. First, **restart the kernel** (in the menubar, select Kernel$\\rightarrow$Restart) and then **run all cells** (in the menubar, select Cell$\\rightarrow$Run All).\n",
    "\n",
    "Make sure you fill in any place that says `YOUR CODE HERE` or \"YOUR ANSWER HERE\", as well as your name and collaborators below:"
   ]
  },
  {
   "cell_type": "code",
   "execution_count": null,
   "id": "dd43b5ff",
   "metadata": {},
   "outputs": [],
   "source": [
    "NAME = \"Maryana Shnitser\"\n",
    "COLLABORATORS = \"Adrianna Celtruda\""
   ]
  },
  {
   "cell_type": "markdown",
   "id": "9cc13221",
   "metadata": {},
   "source": [
    "---"
   ]
  },
  {
   "cell_type": "markdown",
   "id": "14df84b9",
   "metadata": {
    "deletable": false,
    "editable": false,
    "nbgrader": {
     "cell_type": "markdown",
     "checksum": "f458e1a30d1739a0b705b0f3aae67710",
     "grade": false,
     "grade_id": "cell-8d878100ec005fb2",
     "locked": true,
     "schema_version": 3,
     "solution": false,
     "task": false
    }
   },
   "source": [
    "# Assignment: game\n",
    "\n",
    "**Few Important Things:**\n",
    " - Save this file as **geo2_emailusername_assignment (e.g. geo2_mmann1123_game.ipynb)**\n",
    " - Before submitting make sure to go to Cell > Run All and confirm there are no errors thrown.\n",
    " - If you can't figure something out, that is ok, do your best, feel free to post a specific question on the blackboard Q&A discuession board. \n",
    "\n",
    "## How these assignments will work\n",
    "\n",
    "**For detailed instructions on how to complete these exercises please read the following [tutorial](https://mmann1123.github.io/GEOG6308/)**. "
   ]
  },
  {
   "cell_type": "markdown",
   "id": "2e9b1cb9",
   "metadata": {
    "deletable": false,
    "editable": false,
    "nbgrader": {
     "cell_type": "markdown",
     "checksum": "b8837a4558090f326916f09b4fdca51f",
     "grade": false,
     "grade_id": "cell-16ec0a5b818ca8f4",
     "locked": true,
     "schema_version": 3,
     "solution": false,
     "task": false
    }
   },
   "source": [
    "# Text Based Games\n",
    "\n",
    "For this exercise we are going to start making our first video game. This isn't going to be some kind of cool retro side-scroller, it's going to be a game type older than you are.... a text adventure. \n",
    "\n",
    "If you don't know what the hell I am talking about try out [Zork](https://textadventures.co.uk/games/play/5zyoqrsugeopel3ffhz_vq) one of Prof Mann's childhood favorites.  \n",
    "\n",
    "*Hint* try opening the mailbox to get started. "
   ]
  },
  {
   "cell_type": "markdown",
   "id": "6440cfb7",
   "metadata": {
    "deletable": false,
    "editable": false,
    "nbgrader": {
     "cell_type": "markdown",
     "checksum": "2b8c494e53603a0a9d21b9b8e5ee8f6d",
     "grade": false,
     "grade_id": "cell-452832b14d272ae2",
     "locked": true,
     "schema_version": 3,
     "solution": false,
     "task": false
    }
   },
   "source": [
    "## Part A (10 points)\n",
    "\n",
    "The wind suddenly swirls around you, lights are flashing, and you spin upwards into a firey vortex, only to find yourself inside of a phone booth on the corner of a street. After you open the door to the phone booth, you see someone pull out a pager from their belt, they look at it briefly, it reads, \"911\". Pager guy bolts to the phone booth and rudely kicks you out to make an important phone call. On your way out, under a daze of confusion, you ask, \"What year is it?\" \n",
    "\n",
    "\"Brah what do you mean, its 1982 dude. Now get out of my way, somethings going down with pops.\"\n",
    "\n",
    "Totally rad! You traveled back in time! Just in time to.... nope can't stop the bad guys... nope missed all the good concerts too... Instead find your way to the nearest [Commodore 64](https://en.wikipedia.org/wiki/Commodore_64), turn on Olivia Newton-John \\#1 hit [\"Physical\"](https://youtu.be/vWz9VN40nCA) and start coding! "
   ]
  },
  {
   "cell_type": "code",
   "execution_count": 4,
   "id": "2da30c45",
   "metadata": {
    "deletable": false,
    "editable": false,
    "nbgrader": {
     "cell_type": "code",
     "checksum": "6ca51d2a4cb3e49d7d787f7617f7f0cf",
     "grade": false,
     "grade_id": "cell-48d2d1c6b725bd0b",
     "locked": true,
     "schema_version": 3,
     "solution": false,
     "task": false
    }
   },
   "outputs": [],
   "source": [
    "import time\n",
    "\n",
    "def introduction():\n",
    "    name = input(\"What is your name?\\t\")\n",
    "    print(\"Ok, Mike Mann just in case you didn't know, Prof Mann is a lot older than you. He has likely already tried to regail you with stupid stories about his childhood computers, and asked you if you ever owned a pager. But you can't blame him, he's old and it was the 80's.\\n\")\n",
    "    time.sleep(2)\n",
    "    print(\"Get on with it!\\n\")\n",
    "    time.sleep(1)\n",
    "    print(\"Ok GEEEZE!\\n\")\n",
    "    time.sleep(2)\n",
    "    # move to next location\n",
    "    print_rules()\n",
    "\n",
    "def print_rules():\n",
    "    go_on = input(\"Do you want to see what the assignment is?  (Y or N)\")\n",
    "\n",
    "    if (go_on == \"Y\") or (go_on == \"y\"):\n",
    "        print('The point of the exercise is as follows.')\n",
    "        print(\n",
    "        \"\"\"\n",
    "        I want you to set up a text based game with the following characteristics:\n",
    "\n",
    "            - Create at 2 rooms. Where each room is a function like by using def first_room_name():   etc\n",
    "            - I should be able to enter the first room and make some kind of decision, \n",
    "            - then based on this decision, I should be able to move into the last room.\n",
    "            - I should be killed or fail or something in the second room.   \n",
    "        \n",
    "        Remember:\n",
    "            - If you define a function called room_1 you need to call that function to start the game by running\n",
    "            room_1(). \n",
    "            - In room_1 you should have some choices and when you go to move to the next room run room_2 \n",
    "            (assuming you have a function called room_2 defined)\n",
    "            - Use my intro above as a template. \n",
    "        \n",
    "        \"\"\")\n",
    "    else:\n",
    "        print(\"Fine, I did't want to give you a good grade anyways!\")\n",
    "    \n"
   ]
  },
  {
   "cell_type": "code",
   "execution_count": null,
   "id": "9bcb2746",
   "metadata": {
    "deletable": false,
    "editable": false,
    "nbgrader": {
     "cell_type": "code",
     "checksum": "42a1976f615191b0b34e0f332a825411",
     "grade": false,
     "grade_id": "cell-1c4ac4aff9d6886c",
     "locked": true,
     "schema_version": 3,
     "solution": false,
     "task": false
    }
   },
   "outputs": [],
   "source": [
    "# execute my function to start the game\n",
    "# introduction()   # please leave this commented when you submit thanks!"
   ]
  },
  {
   "cell_type": "code",
   "execution_count": 29,
   "id": "a096f63b",
   "metadata": {
    "deletable": false,
    "nbgrader": {
     "cell_type": "code",
     "checksum": "88add1ffd75aa6a322efebc0b76edc60",
     "grade": true,
     "grade_id": "cell-b97eb50c8467ce52",
     "locked": false,
     "points": 10,
     "schema_version": 3,
     "solution": true,
     "task": false
    }
   },
   "outputs": [],
   "source": [
    "import time\n",
    "\n",
    "def room_one(): # creates room one, where the player has to make a decision\n",
    "\n",
    "    window = input(\"You are in a closed room, would you like to open a window? (Y or N) \\t\") #the player makes a decision that moves them into room 2 to make the nect decsion\n",
    "    if (window == 'Y') or (window == 'y'):\n",
    "        print ('10 seagulls just flew in through the window')\n",
    "    elif (window == 'N') or (window == 'n'):\n",
    "        print ('Ok')\n",
    "        time.sleep  (2)\n",
    "        print ('Unfortunately, the window has knocked open by 15 seagulls. They are now in the room with you.')\n",
    "    else:\n",
    "        print ('Invalid response, please try again.')\n",
    "\n",
    "def room_two(): # creates room two where the player makes another decision that will decide their outcome \n",
    "\n",
    "    escape = input(\"The seagulls look angry. You can either run out of the room, stay in the room, jump out of the window. Type run, stay, or jump\\t\") #allows player to make a decision for their next move\n",
    "    if (escape == 'Run') or (escape == 'run'):\n",
    "        print ('There was a set of stairs that you forgot about and you have plummeted to your death.')\n",
    "    elif (escape == 'Stay') or (escape == 'stay'):\n",
    "        print ('The seagulls were hungry and attacked you in an angry swarm. You are dead.')\n",
    "    elif (escape == 'Jump') or (escape == 'jump'):\n",
    "        print ('There were more seagulls outside the window. They attacked you as you fell to your death.')\n",
    "    else:\n",
    "        print ('Invalid response, please try again.')\n",
    "    \n"
   ]
  },
  {
   "cell_type": "code",
   "execution_count": 30,
   "id": "a018839b",
   "metadata": {},
   "outputs": [
    {
     "name": "stdout",
     "output_type": "stream",
     "text": [
      "10 seagulls just flew in through the window\n",
      "There were more seagulls outside the window. They attacked you as you fell to your death.\n"
     ]
    }
   ],
   "source": [
    "room_one()\n",
    "room_two()"
   ]
  },
  {
   "cell_type": "markdown",
   "id": "f6a913ca",
   "metadata": {
    "deletable": false,
    "editable": false,
    "nbgrader": {
     "cell_type": "markdown",
     "checksum": "2f229e76f0ddb7db621e14b1d905de85",
     "grade": false,
     "grade_id": "cell-97a4fa4b9a540277",
     "locked": true,
     "schema_version": 3,
     "solution": false,
     "task": false
    }
   },
   "source": [
    "## Part B (5 points)\n",
    "\n",
    "A common element of text based games is the ability to pickup items and store them for use later. In this section we are going to set up the ability to pick up items using a `while` loop inside a function called `pick_up_item`. \n",
    "\n",
    "We are going to use a `dictionary` to act as the backpack for our character. The backpack has the following properties:\n",
    "- Imagine your character is walking along and runs into a treasure chest filled with items she might want to pick up. Every item *available to be picked up* will be stored in a dictionary called  `items_in_chest`. \n",
    "    - The `items_in_chest` dictionary should store the item name and it's weight as `key : value` pairs.     \n",
    "- We will store the items in our backpack as we pick them up in `items_in_backpack`.\n",
    "- Prompt the user to pick up one of the available items.\n",
    "- We need to prompt the user multiple times to see if they want to pick an item up, to do this we will use a `while` loop.\n",
    "    - As you add items to your backpack you must `del` or `pop` them from the `items_in_chest` to remove them. \n",
    "    - Don't allow the user to pick up items that aren't in the chest or if they have already been picked up\n",
    "    - The backpack can only hold 3 items at any time, to do this we can use the length of `len(items_in_backpack)`, which tells us how many keys are in our dictionary. \n",
    "\n",
    "Hint: a) The `while` loop should run until the backpack is full, therefore the while loop should be based on the len of the backpack dictionary. See section called \"The while Loop in Action\" pg 118,  \n"
   ]
  },
  {
   "cell_type": "code",
   "execution_count": 1,
   "id": "faabafa3",
   "metadata": {
    "deletable": false,
    "editable": false,
    "nbgrader": {
     "cell_type": "code",
     "checksum": "38dfc40b03393271faf9c74b361bec81",
     "grade": false,
     "grade_id": "cell-2355715ca6f588fc",
     "locked": true,
     "schema_version": 3,
     "solution": false,
     "task": false
    }
   },
   "outputs": [],
   "source": [
    "# Items available to pick up\n",
    "items_in_chest = {'blanket':3, 'short sword':15, 'dagger':5, 'chain mail':12 }\n",
    "# Items you are carrying  \n",
    "items_in_backpack = {}"
   ]
  },
  {
   "cell_type": "code",
   "execution_count": 2,
   "id": "0d35c5a5",
   "metadata": {
    "deletable": false,
    "nbgrader": {
     "cell_type": "code",
     "checksum": "c57c0d90f21b2da950736c1d80f09761",
     "grade": false,
     "grade_id": "cell-f5c46819a988094d",
     "locked": false,
     "schema_version": 3,
     "solution": true,
     "task": false
    },
    "tags": []
   },
   "outputs": [],
   "source": [
    "\"\"\" Write your asnwer here. \"\"\"\n",
    "\n",
    "# we need to pass items_in_chest and items_in_backpack to the pick_up_item function in order to use them.\n",
    "# functions only have access to objects that you hand them.\n",
    "\n",
    "\n",
    "def pick_up_item(items_in_chest, items_in_backpack): # creates function pick_up_item\n",
    "    print('In the corner of the room you see the following items in a treasure chest:')\n",
    "\n",
    "    while len(items_in_backpack) < 3:\n",
    "        print(f'\\nYou see the following items in a treasure chest: {items_in_chest}') # presents user with options of what to pick up\n",
    "        message = input('What would you like to pick up?\\t') #asks for user input\n",
    "\n",
    "        if (message in items_in_chest) and (message not in items_in_backpack): #if item is in just and not yet in backpack, it can be picked up and added to backpack\n",
    "            items_in_backpack[message] = items_in_chest[message]\n",
    "            del items_in_chest[message]\n",
    "            print(f'You chose {message} and added it to your backpack. The following items are still avaialble to pick up: {items_in_chest}')\n",
    "        elif message in items_in_backpack: # doesn't allow user to pick up item already in backpack\n",
    "            print(\"You've already picked up that item. Please choose a different one.\")\n",
    "        else: #doesn't allow user to pick up items not in the chest\n",
    "                print(f'The item is not available, try again')\n",
    "\n",
    "        print (f\"You picked up the following items: {items_in_backpack}\")\n",
    "    return items_in_backpack"
   ]
  },
  {
   "cell_type": "markdown",
   "id": "85c9bc58",
   "metadata": {
    "deletable": false,
    "editable": false,
    "nbgrader": {
     "cell_type": "markdown",
     "checksum": "cdb30c70abc3c5cc407a08de38cc5f2d",
     "grade": false,
     "grade_id": "cell-6206ea603789bd01",
     "locked": true,
     "schema_version": 3,
     "solution": false,
     "task": false
    }
   },
   "source": [
    "Make sure you only have 3 items in your backpack. \n",
    "\n",
    "Hint: If you need to 'empty' your backpack to try again, you have to rerun the code `items_in_backpack = {}` above.  "
   ]
  },
  {
   "cell_type": "code",
   "execution_count": 3,
   "id": "8994582c",
   "metadata": {
    "deletable": false,
    "editable": false,
    "nbgrader": {
     "cell_type": "code",
     "checksum": "d223859bbb8877ed5c55ee0e9be47b29",
     "grade": false,
     "grade_id": "cell-82dddd7e6ef978c7",
     "locked": true,
     "schema_version": 3,
     "solution": false,
     "task": false
    }
   },
   "outputs": [],
   "source": [
    "# pick_up_item(items_in_chest=items_in_chest, \n",
    "       #    items_in_backpack=items_in_backpack)    # please leave this commented when you submit thanks!"
   ]
  },
  {
   "cell_type": "markdown",
   "id": "4a48b0b9",
   "metadata": {
    "deletable": false,
    "editable": false,
    "nbgrader": {
     "cell_type": "markdown",
     "checksum": "2f52923a739f25ec42b97fa3ea9be0aa",
     "grade": false,
     "grade_id": "cell-fec431eddad804c6",
     "locked": true,
     "schema_version": 3,
     "solution": false,
     "task": false
    }
   },
   "source": [
    "Here's an example of it in action:\n",
    "``` python\n",
    "backpack = pick_up_item(items_in_chest= items_in_chest, \n",
    "                        items_in_backpack= items_in_backpack)\n",
    "print(backpack)\n",
    "```\n",
    "\n",
    "```\n",
    "In the corner of the room you see the following items in a treasure chest:\n",
    " you see the following items in a treasure chest: blanket, short sword, dagger, chain mail\n",
    "\n",
    "what would you like to pick up?\tblanket\n",
    "The following items are available to pick up: short sword, dagger, chain mail\n",
    "\n",
    "what would you like to pick up?\tchain\n",
    "that item is not available, try again.\n",
    "\n",
    "what would you like to pick up?\tshort sword\n",
    "The following items are available to pick up: dagger, chain mail\n",
    "\n",
    "what would you like to pick up?\tdagger\n",
    "{'blanket': 3, 'short sword': 15, 'dagger': 5}\n",
    "```"
   ]
  },
  {
   "cell_type": "markdown",
   "id": "1c8c2b10",
   "metadata": {
    "deletable": false,
    "editable": false,
    "nbgrader": {
     "cell_type": "markdown",
     "checksum": "0426465195d889e6da773e62daf6451c",
     "grade": false,
     "grade_id": "cell-c7ac5d1f11189e26",
     "locked": true,
     "schema_version": 3,
     "solution": false,
     "task": false
    },
    "tags": []
   },
   "source": [
    " ------------------------------------\n",
    "**Tests**\n",
    "I will be using a bit of code to test your function `pick_up_item`.\n",
    "\n",
    "I will be using `with patch('builtins.input', side_effect=['item1', 'item2', 'item3','item4']):` to simulate user inputs to your function. \n",
    "\n",
    "In the following tests I will be creating `items_in_chest = {'item1': 1, 'item2': 2, 'item3': 3, 'item4': 4}` and an empty backpack `items_in_backpack = {}`\n",
    "\n",
    "I will be checking that:\n",
    "1) A maximum of three items can be picked up\n",
    "2) We can't pick up items that aren't available\n",
    "3) We can't pick up the same item multiple times\n",
    "4) After being picked up, the item is removed from the list"
   ]
  },
  {
   "cell_type": "code",
   "execution_count": 4,
   "id": "08d09a2b",
   "metadata": {
    "deletable": false,
    "editable": false,
    "nbgrader": {
     "cell_type": "code",
     "checksum": "e123e6e103040255df851dbe68a4eb18",
     "grade": false,
     "grade_id": "cell-9d30ec2e43da2b92",
     "locked": true,
     "schema_version": 3,
     "solution": false,
     "task": false
    },
    "tags": []
   },
   "outputs": [],
   "source": [
    "\"\"\"Validation tests - do not edit or remove\"\"\"\n",
    "from unittest.mock import patch\n",
    "import unittest\n",
    "\n",
    "class TestPickUpItem(unittest.TestCase):\n",
    "\n",
    "    def test_three_items_picked(self):\n",
    "        #Testing that exactly three items can be picked up.\n",
    "        items_in_chest = {'item1': 1, 'item2': 2, 'item3': 3, 'item4': 4}\n",
    "        items_in_backpack = {}\n",
    "        result = pick_up_item(items_in_chest, items_in_backpack)\n",
    "        \n",
    "        # Check if exactly three items were picked\n",
    "        self.assertEqual(len(result), 3, \"You should be able to pick up exactly 3 items, I just picked up 4 items.\")\n",
    "\n",
    "    def test_invalid_item_selection(self):\n",
    "        # Testing the scenario where an invalid item is selected.\n",
    "        items_in_chest = {'item1': 1, 'item2': 2, 'item3': 3, 'item4': 4}\n",
    "        items_in_backpack = {}\n",
    "        result = pick_up_item(items_in_chest, items_in_backpack)\n",
    "\n",
    "        # Check if exactly three items were picked despite one invalid selection\n",
    "        self.assertEqual(len(result), 3, \"You should still be able to pick up exactly 3 items despite one invalid selection.\")\n",
    "\n",
    "    def test_duplicate_item_selection(self):\n",
    "        # Testing the scenario where a duplicate item (already in the backpack) is selected.\n",
    "        items_in_chest = {'item1': 1, 'item2': 2, 'item3': 3, 'item4': 4}\n",
    "        items_in_backpack = {}\n",
    "        result = pick_up_item(items_in_chest, items_in_backpack)\n",
    "        \n",
    "        # Check if exactly three items were picked despite one duplicate selection\n",
    "        self.assertEqual(len(result), 3, \"You should still be able to pick up exactly 3 items despite one duplicate selection.\")\n",
    "\n",
    "    def test_items_removed_from_chest(self):\n",
    "        # Testing that items are removed from the chest when picked up.\n",
    "        items_in_chest = {'item1': 1, 'item2': 2, 'item3': 3, 'item4': 4}\n",
    "        items_in_backpack = {}\n",
    "        pick_up_item(items_in_chest, items_in_backpack)\n",
    "        \n",
    "        # Check if items were removed from chest\n",
    "        self.assertEqual(len(items_in_chest), 1, \"Items picked should be removed from the chest.\")\n",
    "\n",
    "# Manually create an instance of TestPickUpItem\n",
    "test_case_instance = TestPickUpItem()"
   ]
  },
  {
   "cell_type": "code",
   "execution_count": 5,
   "id": "d388d065",
   "metadata": {
    "deletable": false,
    "editable": false,
    "nbgrader": {
     "cell_type": "code",
     "checksum": "21a7428cdbdb252cdea5fa1aa5a87304",
     "grade": false,
     "grade_id": "cell-bb0f0ae8304c9b90",
     "locked": true,
     "schema_version": 3,
     "solution": false,
     "task": false
    },
    "tags": []
   },
   "outputs": [
    {
     "name": "stdout",
     "output_type": "stream",
     "text": [
      "#####################\n",
      " Testing that exactly three items can be picked up, no more. \n",
      " #####################.\n",
      "In the corner of the room you see the following items in a treasure chest:\n",
      "\n",
      "You see the following items in a treasure chest: {'item1': 1, 'item2': 2, 'item3': 3, 'item4': 4}\n",
      "You chose item1 and added it to your backpack. The following items are still avaialble to pick up: {'item2': 2, 'item3': 3, 'item4': 4}\n",
      "You picked up the following items: {'item1': 1}\n",
      "\n",
      "You see the following items in a treasure chest: {'item2': 2, 'item3': 3, 'item4': 4}\n",
      "You chose item2 and added it to your backpack. The following items are still avaialble to pick up: {'item3': 3, 'item4': 4}\n",
      "You picked up the following items: {'item1': 1, 'item2': 2}\n",
      "\n",
      "You see the following items in a treasure chest: {'item3': 3, 'item4': 4}\n",
      "You chose item3 and added it to your backpack. The following items are still avaialble to pick up: {'item4': 4}\n",
      "You picked up the following items: {'item1': 1, 'item2': 2, 'item3': 3}\n"
     ]
    }
   ],
   "source": [
    "\"\"\"Executing checks - please read any errors\"\"\"\n",
    "# Side effects are passed as if they were user input\n",
    "\n",
    "with patch('builtins.input', side_effect=['item1', 'item2', 'item3','item4']):\n",
    "    print('#####################\\n Testing that exactly three items can be picked up, no more. \\n #####################.')\n",
    "    test_case_instance.test_three_items_picked()"
   ]
  },
  {
   "cell_type": "code",
   "execution_count": 6,
   "id": "b3c39b4a",
   "metadata": {
    "deletable": false,
    "editable": false,
    "nbgrader": {
     "cell_type": "code",
     "checksum": "a1e6193d9943a75e71f8f206b3ba47fb",
     "grade": false,
     "grade_id": "cell-581d03f07daa3e23",
     "locked": true,
     "schema_version": 3,
     "solution": false,
     "task": false
    },
    "tags": []
   },
   "outputs": [
    {
     "name": "stdout",
     "output_type": "stream",
     "text": [
      "#####################\n",
      " Testing the scenario where an invalid item (not in the chest) is selected. \n",
      " #####################.\n",
      "In the corner of the room you see the following items in a treasure chest:\n",
      "\n",
      "You see the following items in a treasure chest: {'item1': 1, 'item2': 2, 'item3': 3, 'item4': 4}\n",
      "You chose item1 and added it to your backpack. The following items are still avaialble to pick up: {'item2': 2, 'item3': 3, 'item4': 4}\n",
      "You picked up the following items: {'item1': 1}\n",
      "\n",
      "You see the following items in a treasure chest: {'item2': 2, 'item3': 3, 'item4': 4}\n",
      "You chose item2 and added it to your backpack. The following items are still avaialble to pick up: {'item3': 3, 'item4': 4}\n",
      "You picked up the following items: {'item1': 1, 'item2': 2}\n",
      "\n",
      "You see the following items in a treasure chest: {'item3': 3, 'item4': 4}\n",
      "The item is not available, try again\n",
      "You picked up the following items: {'item1': 1, 'item2': 2}\n",
      "\n",
      "You see the following items in a treasure chest: {'item3': 3, 'item4': 4}\n",
      "You chose item3 and added it to your backpack. The following items are still avaialble to pick up: {'item4': 4}\n",
      "You picked up the following items: {'item1': 1, 'item2': 2, 'item3': 3}\n"
     ]
    }
   ],
   "source": [
    "\"\"\"Executing checks - please read any errors\"\"\"\n",
    "with patch('builtins.input', side_effect=['item1', 'item2', 'item5', 'item3']):\n",
    "    print('#####################\\n Testing the scenario where an invalid item (not in the chest) is selected. \\n #####################.')\n",
    "    test_case_instance.test_invalid_item_selection()"
   ]
  },
  {
   "cell_type": "code",
   "execution_count": 7,
   "id": "2f6b5207",
   "metadata": {
    "deletable": false,
    "editable": false,
    "nbgrader": {
     "cell_type": "code",
     "checksum": "3b2adf668378213ac59cd7d4f39a657d",
     "grade": false,
     "grade_id": "cell-03c1d459887e5803",
     "locked": true,
     "schema_version": 3,
     "solution": false,
     "task": false
    },
    "tags": []
   },
   "outputs": [
    {
     "name": "stdout",
     "output_type": "stream",
     "text": [
      "#####################\n",
      " Testing the scenario where a duplicate item (already in the backpack) is selected. \n",
      "#####################.\n",
      "In the corner of the room you see the following items in a treasure chest:\n",
      "\n",
      "You see the following items in a treasure chest: {'item1': 1, 'item2': 2, 'item3': 3, 'item4': 4}\n",
      "You chose item1 and added it to your backpack. The following items are still avaialble to pick up: {'item2': 2, 'item3': 3, 'item4': 4}\n",
      "You picked up the following items: {'item1': 1}\n",
      "\n",
      "You see the following items in a treasure chest: {'item2': 2, 'item3': 3, 'item4': 4}\n",
      "You chose item2 and added it to your backpack. The following items are still avaialble to pick up: {'item3': 3, 'item4': 4}\n",
      "You picked up the following items: {'item1': 1, 'item2': 2}\n",
      "\n",
      "You see the following items in a treasure chest: {'item3': 3, 'item4': 4}\n",
      "You've already picked up that item. Please choose a different one.\n",
      "You picked up the following items: {'item1': 1, 'item2': 2}\n",
      "\n",
      "You see the following items in a treasure chest: {'item3': 3, 'item4': 4}\n",
      "You chose item3 and added it to your backpack. The following items are still avaialble to pick up: {'item4': 4}\n",
      "You picked up the following items: {'item1': 1, 'item2': 2, 'item3': 3}\n"
     ]
    }
   ],
   "source": [
    "\"\"\"Executing checks - please read any errors\"\"\"\n",
    "with patch('builtins.input', side_effect=['item1', 'item2', 'item1', 'item3']):\n",
    "    print('#####################\\n Testing the scenario where a duplicate item (already in the backpack) is selected. \\n#####################.')\n",
    "    test_case_instance.test_duplicate_item_selection()"
   ]
  },
  {
   "cell_type": "code",
   "execution_count": 8,
   "id": "24aebdf2",
   "metadata": {
    "deletable": false,
    "editable": false,
    "nbgrader": {
     "cell_type": "code",
     "checksum": "8545c9b7cdb60c23bc0d82a61f3d9276",
     "grade": false,
     "grade_id": "cell-9e17006a2aeb3ec2",
     "locked": true,
     "schema_version": 3,
     "solution": false,
     "task": false
    },
    "tags": []
   },
   "outputs": [
    {
     "name": "stdout",
     "output_type": "stream",
     "text": [
      "#####################\n",
      " Testing that items are removed from the chest when picked up.\n",
      "#####################.\n",
      "In the corner of the room you see the following items in a treasure chest:\n",
      "\n",
      "You see the following items in a treasure chest: {'item1': 1, 'item2': 2, 'item3': 3, 'item4': 4}\n",
      "You chose item1 and added it to your backpack. The following items are still avaialble to pick up: {'item2': 2, 'item3': 3, 'item4': 4}\n",
      "You picked up the following items: {'item1': 1}\n",
      "\n",
      "You see the following items in a treasure chest: {'item2': 2, 'item3': 3, 'item4': 4}\n",
      "You chose item2 and added it to your backpack. The following items are still avaialble to pick up: {'item3': 3, 'item4': 4}\n",
      "You picked up the following items: {'item1': 1, 'item2': 2}\n",
      "\n",
      "You see the following items in a treasure chest: {'item3': 3, 'item4': 4}\n",
      "You chose item3 and added it to your backpack. The following items are still avaialble to pick up: {'item4': 4}\n",
      "You picked up the following items: {'item1': 1, 'item2': 2, 'item3': 3}\n"
     ]
    }
   ],
   "source": [
    "\"\"\"Executing checks - please read any errors\"\"\"\n",
    "with patch('builtins.input', side_effect=['item1', 'item2', 'item3']):\n",
    "    print('#####################\\n Testing that items are removed from the chest when picked up.\\n#####################.')\n",
    "    test_case_instance.test_items_removed_from_chest()"
   ]
  },
  {
   "cell_type": "code",
   "execution_count": 40,
   "id": "bb6d4404-b0e0-487e-a593-e9672991c0f2",
   "metadata": {
    "deletable": false,
    "editable": false,
    "nbgrader": {
     "cell_type": "code",
     "checksum": "5076cb79cd2b42237d65a5daf981e259",
     "grade": true,
     "grade_id": "cell-c58277afab33bb73",
     "locked": true,
     "points": 2,
     "schema_version": 3,
     "solution": false,
     "task": false
    },
    "tags": []
   },
   "outputs": [
    {
     "data": {
      "text/plain": [
       "' Hidden tests - These tests mirror the tests above - you will not see any additional feedback '"
      ]
     },
     "execution_count": 40,
     "metadata": {},
     "output_type": "execute_result"
    }
   ],
   "source": [
    "\"\"\" Hidden tests - These tests mirror the tests above - you will not see any additional feedback \"\"\""
   ]
  },
  {
   "cell_type": "code",
   "execution_count": 41,
   "id": "dc9aa511-57aa-4978-8113-7dc0403d8916",
   "metadata": {
    "deletable": false,
    "editable": false,
    "nbgrader": {
     "cell_type": "code",
     "checksum": "be89ce51bed8a3aa962d5ce6ab24c17a",
     "grade": true,
     "grade_id": "cell-8a8d95cd03ea8e77",
     "locked": true,
     "points": 1,
     "schema_version": 3,
     "solution": false,
     "task": false
    },
    "tags": []
   },
   "outputs": [
    {
     "data": {
      "text/plain": [
       "' Hidden tests - These tests mirror the tests above - you will not see any additional feedback '"
      ]
     },
     "execution_count": 41,
     "metadata": {},
     "output_type": "execute_result"
    }
   ],
   "source": [
    "\"\"\" Hidden tests - These tests mirror the tests above - you will not see any additional feedback \"\"\""
   ]
  },
  {
   "cell_type": "code",
   "execution_count": null,
   "id": "2a42115a-5e70-4417-9d1f-a1d97f2c7860",
   "metadata": {
    "deletable": false,
    "editable": false,
    "nbgrader": {
     "cell_type": "code",
     "checksum": "a805b1997a655755890f18e533c6fd85",
     "grade": true,
     "grade_id": "cell-4bceac78712ef065",
     "locked": true,
     "points": 1,
     "schema_version": 3,
     "solution": false,
     "task": false
    },
    "tags": []
   },
   "outputs": [],
   "source": []
  },
  {
   "cell_type": "code",
   "execution_count": null,
   "id": "10911c9b-29bc-43b8-95e7-bd394d2e3204",
   "metadata": {
    "deletable": false,
    "editable": false,
    "nbgrader": {
     "cell_type": "code",
     "checksum": "18bba21c44e5572c71d15c67ef586084",
     "grade": true,
     "grade_id": "cell-320bbf590ebe3839",
     "locked": true,
     "points": 1,
     "schema_version": 3,
     "solution": false,
     "task": false
    },
    "tags": []
   },
   "outputs": [],
   "source": []
  },
  {
   "cell_type": "markdown",
   "id": "3800200a",
   "metadata": {
    "deletable": false,
    "editable": false,
    "nbgrader": {
     "cell_type": "markdown",
     "checksum": "691bf628c4d00018c571b19c69653928",
     "grade": false,
     "grade_id": "cell-16ee8fa7d040ce62",
     "locked": true,
     "schema_version": 3,
     "solution": false,
     "task": false
    },
    "tags": []
   },
   "source": [
    "## Important\n",
    "Please remember to comment out any code that requires me to type something in manually - as prompted above. \n",
    "\n",
    "Your notebook should be able to run all cells without stopping. "
   ]
  }
 ],
 "metadata": {
  "kernelspec": {
   "display_name": "Python 3 (ipykernel)",
   "language": "python",
   "name": "python3"
  },
  "language_info": {
   "codemirror_mode": {
    "name": "ipython",
    "version": 3
   },
   "file_extension": ".py",
   "mimetype": "text/x-python",
   "name": "python",
   "nbconvert_exporter": "python",
   "pygments_lexer": "ipython3",
   "version": "3.9.6"
  },
  "vscode": {
   "interpreter": {
    "hash": "916dbcbb3f70747c44a77c7bcd40155683ae19c65e1c03b4aa3499c5328201f1"
   }
  }
 },
 "nbformat": 4,
 "nbformat_minor": 5
}
