{
 "cells": [
  {
   "cell_type": "markdown",
   "metadata": {},
   "source": [
    "Before you turn this problem in, make sure everything runs as expected. First, **restart the kernel** (in the menubar, select Kernel$\\rightarrow$Restart) and then **run all cells** (in the menubar, select Cell$\\rightarrow$Run All).\n",
    "\n",
    "Make sure you fill in any place that says `YOUR CODE HERE` or \"YOUR ANSWER HERE\", as well as your name and collaborators below:"
   ]
  },
  {
   "cell_type": "code",
   "execution_count": 30,
   "metadata": {},
   "outputs": [],
   "source": [
    "NAME = \"Maryana Shnitser\"\n",
    "COLLABORATORS = \"Adrianna Celtruda\""
   ]
  },
  {
   "cell_type": "markdown",
   "metadata": {},
   "source": [
    "---"
   ]
  },
  {
   "cell_type": "markdown",
   "metadata": {
    "deletable": false,
    "editable": false,
    "nbgrader": {
     "cell_type": "markdown",
     "checksum": "2b849768a18737be0c7dde87794f67a3",
     "grade": false,
     "grade_id": "jupyter",
     "locked": true,
     "schema_version": 3,
     "solution": false
    }
   },
   "source": [
    "# Assignment: ifwhiledict\n",
    "\n",
    "**Few Important Things:**\n",
    " - Save this file as **geo2_emailusername_assignment (e.g. geo2_mmann1123_ifwhiledict.ipynb)**\n",
    " - Before submitting make sure to go to Cell > Run All and confirm there are no errors thrown.\n",
    " - If you can't figure something out, that is ok, do your best, feel free to post a specific question on the blackboard Q&A discuession board. \n",
    "\n",
    "## How these assignments will work\n",
    "\n",
    "**For detailed instructions on how to complete these exercises please read the following [tutorial](https://mmann1123.github.io/GEOG6308/)**. \n",
    " \n"
   ]
  },
  {
   "cell_type": "markdown",
   "metadata": {
    "deletable": false,
    "editable": false,
    "nbgrader": {
     "cell_type": "markdown",
     "checksum": "054fa845c030828613c436fd3faaa451",
     "grade": false,
     "grade_id": "cell-b3c60979ec7ee0bc",
     "locked": true,
     "schema_version": 3,
     "solution": false,
     "task": false
    }
   },
   "source": [
    "---\n",
    "## Part A (2 points)\n",
    "In python we can store numbers as a string or as a number. Data types matter! Let's check that a number stored as text is different than one stored as a integer. \n",
    "\n",
    "Use the function `equality`. Assign the expression `'5' == 5` to a variable named, `int_str_test` and return it."
   ]
  },
  {
   "cell_type": "code",
   "execution_count": 31,
   "metadata": {
    "deletable": false,
    "nbgrader": {
     "cell_type": "code",
     "checksum": "5d407a3766e51f95507c588e9c717a3b",
     "grade": false,
     "grade_id": "cell-a82c770fe3a32342sdf",
     "locked": false,
     "schema_version": 3,
     "solution": true,
     "task": false
    }
   },
   "outputs": [],
   "source": [
    "#Check that number stored as text is different than one stored as an integer\n",
    "def equality():\n",
    "    \"\"\"Return the test \"\"\"\n",
    "\n",
    "    int_str_test = '5' == 5\n",
    "    return int_str_test"
   ]
  },
  {
   "cell_type": "markdown",
   "metadata": {
    "deletable": false,
    "editable": false,
    "nbgrader": {
     "cell_type": "markdown",
     "checksum": "13b0017af80e978dc0d81ec21ff895ad",
     "grade": false,
     "grade_id": "cell-9da5d0c9a0fad2fasdf2",
     "locked": true,
     "schema_version": 3,
     "solution": false,
     "task": false
    }
   },
   "source": [
    " You `equality` function should return `False`"
   ]
  },
  {
   "cell_type": "code",
   "execution_count": 32,
   "metadata": {
    "deletable": false,
    "editable": false,
    "nbgrader": {
     "cell_type": "code",
     "checksum": "3935aa6422e58ceef22630e112c4e2d9",
     "grade": false,
     "grade_id": "cell-b98351sadf22f78",
     "locked": true,
     "schema_version": 3,
     "solution": false,
     "task": false
    }
   },
   "outputs": [
    {
     "data": {
      "text/plain": [
       "False"
      ]
     },
     "execution_count": 32,
     "metadata": {},
     "output_type": "execute_result"
    }
   ],
   "source": [
    "equality()"
   ]
  },
  {
   "cell_type": "code",
   "execution_count": 33,
   "metadata": {
    "deletable": false,
    "editable": false,
    "nbgrader": {
     "cell_type": "code",
     "checksum": "4bb9d5f52e7d6f8c13301e1902b530c1",
     "grade": false,
     "grade_id": "cell-287e281fasdfsadf23",
     "locked": true,
     "schema_version": 3,
     "solution": false,
     "task": false
    },
    "tags": []
   },
   "outputs": [],
   "source": [
    "\"\"\"Check that lister returns the correct output\"\"\"\n",
    "try:\n",
    "    assert isinstance(equality(),bool) \n",
    "except AssertionError:\n",
    "    raise AssertionError(\"This is not a boolean True False answer\")\n",
    "try:\n",
    "    assert len([equality()]) == 1 \n",
    "except AssertionError:\n",
    "    raise AssertionError(\"you returned more than one object\")\n",
    "    "
   ]
  },
  {
   "cell_type": "code",
   "execution_count": 34,
   "metadata": {
    "deletable": false,
    "editable": false,
    "nbgrader": {
     "cell_type": "code",
     "checksum": "e35aea9c95fc337f771fc81a8ce6925e",
     "grade": true,
     "grade_id": "cell-2c94a13484ec686c",
     "locked": true,
     "points": 2,
     "schema_version": 3,
     "solution": false,
     "task": false
    },
    "tags": []
   },
   "outputs": [
    {
     "data": {
      "text/plain": [
       "' Hidden tests - These tests mirror the tests above - you will not see any additional feedback '"
      ]
     },
     "execution_count": 34,
     "metadata": {},
     "output_type": "execute_result"
    }
   ],
   "source": [
    "\"\"\" Hidden tests - These tests mirror the tests above - you will not see any additional feedback \"\"\""
   ]
  },
  {
   "cell_type": "markdown",
   "metadata": {
    "deletable": false,
    "editable": false,
    "nbgrader": {
     "cell_type": "markdown",
     "checksum": "444a8c28ab178c64c86dcc3c9fc3eada",
     "grade": false,
     "grade_id": "cell-70ab6670de3d7ecd",
     "locked": true,
     "schema_version": 3,
     "solution": false,
     "task": false
    }
   },
   "source": [
    "---\n",
    "## Part  B (2 points)\n",
    "\n",
    "In python we can test multiple conditions using `and` and `or`, for example `test = (8 > 1) and (7 > 5)` would store the value `False` in the variable `test`. \n",
    "\n",
    "---\n",
    "I set up the function `andor` for you to use, inside the function:\n",
    "\n",
    "Combine these two boolean queries using `and` or `or`, *so that they return False*.\n",
    "- `a > b` \n",
    "- `c > b`\n",
    "\n",
    "For the values:\n",
    "```\n",
    "    a = 1e6\n",
    "    b = 2e-6\n",
    "    c =  1e-3\n",
    "```\n",
    "\n",
    "Store the output of your expression in the variable `two_test` and return it from the function. \n"
   ]
  },
  {
   "cell_type": "code",
   "execution_count": 35,
   "metadata": {
    "deletable": false,
    "nbgrader": {
     "cell_type": "code",
     "checksum": "ed331b1f0cbccda2134d37098ee74d9d",
     "grade": false,
     "grade_id": "cell-dfde0d9c4d3ad118",
     "locked": false,
     "schema_version": 3,
     "solution": true,
     "task": false
    }
   },
   "outputs": [],
   "source": [
    "\"\"\"Use and or or to return the value False from the two conditional statements \"\"\"\n",
    "def andor():\n",
    "    a = 1e6\n",
    "    b = 2e-3\n",
    "    c =  1e-5\n",
    "    \n",
    "#Tests if both of the expressions are true \n",
    "\n",
    "    two_test = (a>b) and (c>b)\n",
    "\n",
    "    return two_test"
   ]
  },
  {
   "cell_type": "markdown",
   "metadata": {
    "deletable": false,
    "editable": false,
    "nbgrader": {
     "cell_type": "markdown",
     "checksum": "a8961490579a05465e7d88a006adb5ae",
     "grade": false,
     "grade_id": "cell-7d62267ec17aa441",
     "locked": true,
     "schema_version": 3,
     "solution": false,
     "task": false
    }
   },
   "source": [
    " Your `andor` function should return `False`"
   ]
  },
  {
   "cell_type": "code",
   "execution_count": 36,
   "metadata": {
    "deletable": false,
    "editable": false,
    "nbgrader": {
     "cell_type": "code",
     "checksum": "9ef819b2199ec8c169e133f61e8f449f",
     "grade": false,
     "grade_id": "cell-9f5c9a0350a100c1",
     "locked": true,
     "schema_version": 3,
     "solution": false,
     "task": false
    }
   },
   "outputs": [
    {
     "data": {
      "text/plain": [
       "False"
      ]
     },
     "execution_count": 36,
     "metadata": {},
     "output_type": "execute_result"
    }
   ],
   "source": [
    "andor()"
   ]
  },
  {
   "cell_type": "code",
   "execution_count": 37,
   "metadata": {
    "deletable": false,
    "editable": false,
    "nbgrader": {
     "cell_type": "code",
     "checksum": "82828bf3f17afbeaa29fd39bb714c447",
     "grade": false,
     "grade_id": "cell-9e003151be8710ef",
     "locked": true,
     "schema_version": 3,
     "solution": false,
     "task": false
    },
    "tags": []
   },
   "outputs": [],
   "source": [
    "\"\"\"Check that equality returns the correct output\"\"\"\n",
    "try:\n",
    "    assert isinstance(andor(),bool) \n",
    "except AssertionError:\n",
    "    raise AssertionError(\"This is not a boolean True False answer\")\n",
    "try:\n",
    "    assert len([andor()]) == 1 \n",
    "except AssertionError:\n",
    "    raise AssertionError(\"you returned more than one object\")\n"
   ]
  },
  {
   "cell_type": "code",
   "execution_count": 38,
   "metadata": {
    "deletable": false,
    "editable": false,
    "nbgrader": {
     "cell_type": "code",
     "checksum": "08e85e567ff0eccbb9aaf57243467148",
     "grade": true,
     "grade_id": "cell-4f9a56b97196c102",
     "locked": true,
     "points": 1,
     "schema_version": 3,
     "solution": false,
     "task": false
    },
    "tags": []
   },
   "outputs": [
    {
     "data": {
      "text/plain": [
       "' Hidden tests - These tests mirror the tests above - you will not see any additional feedback '"
      ]
     },
     "execution_count": 38,
     "metadata": {},
     "output_type": "execute_result"
    }
   ],
   "source": [
    "\"\"\" Hidden tests - These tests mirror the tests above - you will not see any additional feedback \"\"\""
   ]
  },
  {
   "cell_type": "code",
   "execution_count": 39,
   "metadata": {
    "deletable": false,
    "editable": false,
    "nbgrader": {
     "cell_type": "code",
     "checksum": "3453021fa1f4ec5697613d6bba599867",
     "grade": false,
     "grade_id": "cell-25f84f3d6edcacb8",
     "locked": true,
     "schema_version": 3,
     "solution": false,
     "task": false
    },
    "tags": []
   },
   "outputs": [],
   "source": [
    "# checking for the use of 'and' in function\n",
    "import inspect\n",
    "import re\n",
    "\n",
    "def check_and_usage_in_function(func):\n",
    "    source_code = inspect.getsource(func)\n",
    "    \n",
    "    solution_code_pattern = re.compile(r'andor(.*?)return', re.DOTALL)\n",
    "    match = solution_code_pattern.search(source_code)\n",
    "    \n",
    "    if match:\n",
    "        solution_code = match.group(1)\n",
    "        if 'and' in solution_code:\n",
    "            return True\n",
    "    return False\n",
    " \n",
    "\n",
    "# Test the function\n",
    "try:\n",
    "    assert  check_and_usage_in_function(andor) == True\n",
    "except AssertionError: \n",
    "    raise AssertionError(\"Make sure you use 'and' as part of your conditional statement\")\n"
   ]
  },
  {
   "cell_type": "code",
   "execution_count": 40,
   "metadata": {
    "deletable": false,
    "editable": false,
    "nbgrader": {
     "cell_type": "code",
     "checksum": "be4f8f542b30746ef5864afbf733ca1e",
     "grade": true,
     "grade_id": "cell-b0f53e824e1df984",
     "locked": true,
     "points": 1,
     "schema_version": 3,
     "solution": false,
     "task": false
    },
    "tags": []
   },
   "outputs": [
    {
     "data": {
      "text/plain": [
       "' Hidden tests - These tests mirror the tests above - you will not see any additional feedback '"
      ]
     },
     "execution_count": 40,
     "metadata": {},
     "output_type": "execute_result"
    }
   ],
   "source": [
    "\"\"\" Hidden tests - These tests mirror the tests above - you will not see any additional feedback \"\"\""
   ]
  },
  {
   "cell_type": "markdown",
   "metadata": {
    "deletable": false,
    "editable": false,
    "nbgrader": {
     "cell_type": "markdown",
     "checksum": "700eb7403a750e533c28a6363e933826",
     "grade": false,
     "grade_id": "cell-f14c305bfa3000cc",
     "locked": true,
     "schema_version": 3,
     "solution": false,
     "task": false
    },
    "tags": []
   },
   "source": [
    "---\n",
    "## Part  C (2 points)\n",
    " \n",
    "Use the function `andor2`. Use either `and` or `or` to combine the following two boolean queries *so that they return True*.\n",
    "\n",
    "For the values:\n",
    "```\n",
    "    a = 1e6\n",
    "    b = 2e6\n",
    "    c =  1e3\n",
    "```\n",
    "combine these two conditions using `and` or `or`, \n",
    "- `a < b` \n",
    "- `c > b`\n",
    "\n",
    "Store the output of your two conditions in the variable `two_test2` and return it from the function. \n"
   ]
  },
  {
   "cell_type": "code",
   "execution_count": 41,
   "metadata": {
    "deletable": false,
    "nbgrader": {
     "cell_type": "code",
     "checksum": "602239557e8e52cc45bfc2f224a326ae",
     "grade": false,
     "grade_id": "cell-0a3c5f94295c9e73",
     "locked": false,
     "schema_version": 3,
     "solution": true,
     "task": false
    }
   },
   "outputs": [],
   "source": [
    "\"\"\"Use and or or to return the value False from the two conditional statements\"\"\"\n",
    "def andor2():\n",
    "\n",
    "    a = 1e6\n",
    "    b = 2e6\n",
    "    c =  1e3\n",
    "    \n",
    "    #Uses 'or' to test if one or both of the expressions is true\n",
    "\n",
    "    two_test2 = (a<b) or (c>b)\n",
    "    \n",
    "    return two_test2"
   ]
  },
  {
   "cell_type": "markdown",
   "metadata": {
    "deletable": false,
    "editable": false,
    "nbgrader": {
     "cell_type": "markdown",
     "checksum": "b0c36eee7e9ab7b6f688f98b2f662e04",
     "grade": false,
     "grade_id": "cell-9466c20c254413c4",
     "locked": true,
     "schema_version": 3,
     "solution": false,
     "task": false
    }
   },
   "source": [
    " You `andor2` function should return `True`"
   ]
  },
  {
   "cell_type": "code",
   "execution_count": 42,
   "metadata": {
    "deletable": false,
    "editable": false,
    "nbgrader": {
     "cell_type": "code",
     "checksum": "69deeeaad88530c4778bbd9700a173b6",
     "grade": false,
     "grade_id": "cell-8fff224253ed37b5",
     "locked": true,
     "schema_version": 3,
     "solution": false,
     "task": false
    }
   },
   "outputs": [
    {
     "data": {
      "text/plain": [
       "True"
      ]
     },
     "execution_count": 42,
     "metadata": {},
     "output_type": "execute_result"
    }
   ],
   "source": [
    "andor2()"
   ]
  },
  {
   "cell_type": "code",
   "execution_count": 43,
   "metadata": {
    "deletable": false,
    "editable": false,
    "nbgrader": {
     "cell_type": "code",
     "checksum": "abb1e9231b6dd6256c6b7384ddeee350",
     "grade": false,
     "grade_id": "cell-bca613748fae4826",
     "locked": true,
     "schema_version": 3,
     "solution": false,
     "task": false
    },
    "tags": []
   },
   "outputs": [],
   "source": [
    "\"\"\"Check that andor2 returns the correct output\"\"\"\n",
    "try:\n",
    "    assert isinstance(andor2(),bool) \n",
    "except AssertionError:\n",
    "    raise AssertionError(\"This is not a boolean True False answer\")\n",
    "try:\n",
    "    assert len([andor2()]) == 1 \n",
    "except AssertionError:\n",
    "    raise AssertionError(\"you returned more than one object\")\n",
    "try:\n",
    "    assert  andor2() == True\n",
    "except AssertionError: \n",
    "    raise AssertionError(\"wrong answer\")"
   ]
  },
  {
   "cell_type": "code",
   "execution_count": 44,
   "metadata": {
    "deletable": false,
    "editable": false,
    "nbgrader": {
     "cell_type": "code",
     "checksum": "d52b59c7463977d6e57c08cb8b392528",
     "grade": false,
     "grade_id": "cell-e168b74aba30b971",
     "locked": true,
     "schema_version": 3,
     "solution": false,
     "task": false
    },
    "tags": []
   },
   "outputs": [],
   "source": [
    "# checking for the use of 'or' in function\n",
    "import inspect\n",
    "import re\n",
    "\n",
    "def check_and_usage_in_function(func):\n",
    "    source_code = inspect.getsource(func)\n",
    "    \n",
    "    solution_code_pattern = re.compile(r'andor2(.*?)return', re.DOTALL)\n",
    "    match = solution_code_pattern.search(source_code)\n",
    "    \n",
    "    if match:\n",
    "        solution_code = match.group(1)\n",
    "        if 'or' in solution_code:\n",
    "            return True\n",
    "    return False\n",
    " \n",
    "\n",
    "# Test the function\n",
    "try:\n",
    "    assert  check_and_usage_in_function(andor2) == True\n",
    "except AssertionError: \n",
    "    raise AssertionError(\"Make sure you use 'or' as part of your conditional statement\")\n"
   ]
  },
  {
   "cell_type": "code",
   "execution_count": 45,
   "metadata": {
    "deletable": false,
    "editable": false,
    "nbgrader": {
     "cell_type": "code",
     "checksum": "40ced07ff8eda7b45ecb8c844aa94b4c",
     "grade": true,
     "grade_id": "cell-39b54dc5c419fba3",
     "locked": true,
     "points": 1,
     "schema_version": 3,
     "solution": false,
     "task": false
    },
    "tags": []
   },
   "outputs": [
    {
     "data": {
      "text/plain": [
       "' Hidden tests - These tests mirror the tests above - you will not see any additional feedback '"
      ]
     },
     "execution_count": 45,
     "metadata": {},
     "output_type": "execute_result"
    }
   ],
   "source": [
    "\"\"\" Hidden tests - These tests mirror the tests above - you will not see any additional feedback \"\"\""
   ]
  },
  {
   "cell_type": "code",
   "execution_count": 46,
   "metadata": {
    "deletable": false,
    "editable": false,
    "nbgrader": {
     "cell_type": "code",
     "checksum": "06e77b9d8cf83d4b088c16193f3d271d",
     "grade": true,
     "grade_id": "cell-d89f60755c725db5",
     "locked": true,
     "points": 1,
     "schema_version": 3,
     "solution": false,
     "task": false
    },
    "tags": []
   },
   "outputs": [
    {
     "data": {
      "text/plain": [
       "' Hidden tests - These tests mirror the tests above - you will not see any additional feedback '"
      ]
     },
     "execution_count": 46,
     "metadata": {},
     "output_type": "execute_result"
    }
   ],
   "source": [
    "\"\"\" Hidden tests - These tests mirror the tests above - you will not see any additional feedback \"\"\""
   ]
  },
  {
   "cell_type": "markdown",
   "metadata": {
    "deletable": false,
    "editable": false,
    "nbgrader": {
     "cell_type": "markdown",
     "checksum": "47dcb54c54027a22821c4b50cf4ce85c",
     "grade": false,
     "grade_id": "cell-7f8f8031cad56554",
     "locked": true,
     "schema_version": 3,
     "solution": false,
     "task": false
    }
   },
   "source": [
    "---\n",
    "## Part D (2 points)\n",
    "\n",
    "Iteration and branching are two of the most important things we do in programming. We can easily set up loops that interate over elements of an object and make decisions. For instance:\n",
    "\n",
    "\n",
    "``` python\n",
    "    people = ['tarra','jimbo','leonard','johnny']\n",
    "    \n",
    "    for people in people:\n",
    "        if (people == 'tarra') or (people == 'johnny') :\n",
    "            print(f'I like {people}')\n",
    "        elif people == 'jimbo':\n",
    "            print( f'Go home {people}!')    \n",
    "        else:\n",
    "            print(f'{people.title()} welcome!')\n",
    "```\n",
    "will return:\n",
    "\n",
    "```\n",
    "I like tarra\n",
    "Go home jimbo!\n",
    "Leonard welcome!\n",
    "I like johnny\n",
    "```\n",
    "\n",
    "---\n",
    "\n",
    "Use the `for_domestic` function to iterate through the list called `cars` and print out all the domestic car bands using `.title()` and all the foriegn cars with `.upper()`. Make sure to use both `if` and `elif` in your code. \n",
    "\n",
    "DO NOT UPDATE THE VALUES in `cars` manually. \n",
    "\n",
    "Note: this is a 'fruitless' function, nothing will be returned, just print some stuff... \n"
   ]
  },
  {
   "cell_type": "code",
   "execution_count": 47,
   "metadata": {
    "deletable": false,
    "nbgrader": {
     "cell_type": "code",
     "checksum": "2c2c94d6ec641c64b225ec72b0fd90da",
     "grade": false,
     "grade_id": "cell-a48541b31f0210de",
     "locked": false,
     "schema_version": 3,
     "solution": true,
     "task": false
    },
    "tags": []
   },
   "outputs": [],
   "source": [
    "def for_domestic():\n",
    "    \"\"\"Print the car makes as prompted\n",
    "    \n",
    "    \"\"\"\n",
    "    cars = ['jeep','bmw','ford','toyota']\n",
    "\n",
    "    #Iterates through cars in the list 'cars' and prints them with indicated formatting\n",
    "\n",
    "    for car in cars:\n",
    "        if (car == 'jeep') or (car == 'ford'):\n",
    "            print(f'{car.title()}') #Capitalizes first letter \n",
    "        elif (car == 'bmw') or (car == 'toyota'):\n",
    "            print(f'{car.upper()}') #capitalizes all letters\n",
    "        else:\n",
    "            print ('nothing')\n",
    "    \n"
   ]
  },
  {
   "cell_type": "markdown",
   "metadata": {
    "deletable": false,
    "editable": false,
    "nbgrader": {
     "cell_type": "markdown",
     "checksum": "facb253cbd2c09bf9c1576c3f2f6469b",
     "grade": false,
     "grade_id": "cell-bef9b7e60f09629e",
     "locked": true,
     "schema_version": 3,
     "solution": false,
     "task": false
    }
   },
   "source": [
    "Your function should print:\n",
    "```\n",
    "Jeep\n",
    "BMW\n",
    "Ford\n",
    "TOYOTA\n",
    "```"
   ]
  },
  {
   "cell_type": "code",
   "execution_count": 48,
   "metadata": {
    "deletable": false,
    "editable": false,
    "nbgrader": {
     "cell_type": "code",
     "checksum": "a6676734d201185ae85bf27a1fc32174",
     "grade": false,
     "grade_id": "cell-bc7181abdf5b1790",
     "locked": true,
     "schema_version": 3,
     "solution": false,
     "task": false
    }
   },
   "outputs": [
    {
     "name": "stdout",
     "output_type": "stream",
     "text": [
      "Jeep\n",
      "BMW\n",
      "Ford\n",
      "TOYOTA\n"
     ]
    }
   ],
   "source": [
    "for_domestic()"
   ]
  },
  {
   "cell_type": "code",
   "execution_count": 49,
   "metadata": {
    "deletable": false,
    "editable": false,
    "nbgrader": {
     "cell_type": "code",
     "checksum": "d29b5cba29b4a699ea090e18ee909c6e",
     "grade": false,
     "grade_id": "cell-a233cac91b12ec32",
     "locked": true,
     "schema_version": 3,
     "solution": false,
     "task": false
    },
    "tags": []
   },
   "outputs": [
    {
     "name": "stdout",
     "output_type": "stream",
     "text": [
      "Jeep\n",
      "BMW\n",
      "Ford\n",
      "TOYOTA\n",
      "drink and smoke\n",
      "none\n",
      "drink and smoke\n",
      "smoking only\n"
     ]
    }
   ],
   "source": [
    "\"\"\" Tests - do not edit \"\"\"\n",
    "# check printed output from for_domestic\n",
    "def check_function_output(function_def):\n",
    "    import io\n",
    "    import sys\n",
    "\n",
    "    # Test Cases\n",
    "    # Capture the output\n",
    "    captured_output = io.StringIO()\n",
    "    sys.stdout = captured_output\n",
    "    function_def()\n",
    "    sys.stdout = sys.__stdout__  # Reset redirect.\n",
    "    return captured_output.getvalue()\n",
    "# Expected output\n",
    "expected_output = \"Jeep\\nBMW\\nFord\\nTOYOTA\\n\"\n",
    "\n",
    "# Test assertion\n",
    "assert check_function_output(function_def=for_domestic) == expected_output, \"Test failed! The printed output does not match the expected result.\"\n"
   ]
  },
  {
   "cell_type": "code",
   "execution_count": 50,
   "metadata": {
    "deletable": false,
    "editable": false,
    "nbgrader": {
     "cell_type": "code",
     "checksum": "a12af9ae5675dbb05e73c6785bd69d40",
     "grade": true,
     "grade_id": "cell-9867a722de3a38d6",
     "locked": true,
     "points": 2,
     "schema_version": 3,
     "solution": false,
     "task": false
    },
    "tags": []
   },
   "outputs": [
    {
     "data": {
      "text/plain": [
       "' Hidden tests - These tests mirror the tests above - you will not see any additional feedback '"
      ]
     },
     "execution_count": 50,
     "metadata": {},
     "output_type": "execute_result"
    }
   ],
   "source": [
    "\"\"\" Hidden tests - These tests mirror the tests above - you will not see any additional feedback \"\"\""
   ]
  },
  {
   "cell_type": "markdown",
   "metadata": {
    "deletable": false,
    "editable": false,
    "nbgrader": {
     "cell_type": "markdown",
     "checksum": "57a884ee1a203837c53af34805959084",
     "grade": false,
     "grade_id": "cell-53d2c081d4588cb0",
     "locked": true,
     "schema_version": 3,
     "solution": false,
     "task": false
    }
   },
   "source": [
    "---\n",
    "## Part E (2 points)\n",
    "\n",
    "Repeat the same steps as part D for the function `for_or_dom`, but this time use `in` to simplify your if else conditions using lists. \n",
    "\n",
    "When choosing between the use of `if`, `elif` and `else`, make sure that only the listed car brands are printed (e.g. if `cars = ['jeep','bmw','ford','toyota','None']`, `None` should not be formated or printed.)"
   ]
  },
  {
   "cell_type": "code",
   "execution_count": 51,
   "metadata": {
    "deletable": false,
    "nbgrader": {
     "cell_type": "code",
     "checksum": "137d799fce135a759395b4aa66964667",
     "grade": false,
     "grade_id": "cell-37a3d3760320f197",
     "locked": false,
     "schema_version": 3,
     "solution": true,
     "task": false
    },
    "tags": []
   },
   "outputs": [],
   "source": [
    "def for_or_dom():\n",
    "    \"\"\"Print the car makes as prompted\n",
    "    \n",
    "    \"\"\"\n",
    "    #Creates lists for cars, and lists that contain foreign and domestic cars \n",
    "    cars = ['jeep','bmw','ford','toyota']\n",
    "    domestic = ['jeep', 'ford']\n",
    "    foreign =['bmw', 'toyota']\n",
    "    \n",
    "    # Iterates through cars in the list 'cars' and prints them with indicated formatting\n",
    "    for car in cars:\n",
    "        if car in domestic:\n",
    "            print(f'{car.title()}') #Capitalizes first letter\n",
    "        elif car in foreign: \n",
    "            print(f'{car.upper()}') #Capitalizes all letters\n",
    "        else:\n",
    "            print ('None')"
   ]
  },
  {
   "cell_type": "markdown",
   "metadata": {
    "deletable": false,
    "editable": false,
    "nbgrader": {
     "cell_type": "markdown",
     "checksum": "d667537610a9fa26b4eb167f5f1d0b7e",
     "grade": false,
     "grade_id": "cell-c91b766bf37b79e7",
     "locked": true,
     "schema_version": 3,
     "solution": false,
     "task": false
    }
   },
   "source": [
    "Your function should print:\n",
    "```\n",
    "Jeep\n",
    "BMW\n",
    "Ford\n",
    "TOYOTA\n",
    "```"
   ]
  },
  {
   "cell_type": "code",
   "execution_count": 52,
   "metadata": {
    "deletable": false,
    "editable": false,
    "nbgrader": {
     "cell_type": "code",
     "checksum": "ba22bffb1905b49103fbb71eb114545b",
     "grade": false,
     "grade_id": "cell-43a4360e29e55c3b",
     "locked": true,
     "schema_version": 3,
     "solution": false,
     "task": false
    }
   },
   "outputs": [],
   "source": [
    "for_or_dom()"
   ]
  },
  {
   "cell_type": "code",
   "execution_count": 53,
   "metadata": {
    "deletable": false,
    "editable": false,
    "nbgrader": {
     "cell_type": "code",
     "checksum": "6eb350e0c1bba7104a9de6881c221bf4",
     "grade": false,
     "grade_id": "cell-c156787ac72bfc52",
     "locked": true,
     "schema_version": 3,
     "solution": false,
     "task": false
    },
    "tags": []
   },
   "outputs": [],
   "source": [
    "\"\"\" tests do not edit or delete\"\"\"\n",
    "\n",
    "import inspect\n",
    "# custom function to check answers\n",
    "def check_if_elif_else_used(func, check_if=True, check_if_elif=False, check_if_elif_else=False):\n",
    "    \"\"\"\n",
    "    Check if the function contains if, elif, and else statements,\n",
    "    ignoring any lines that are commented out.\n",
    "    \"\"\"\n",
    "    # Get the source code of the function\n",
    "    source = inspect.getsource(func)\n",
    "    \n",
    "    # Split the source into lines and remove comments\n",
    "    uncommented_lines = []\n",
    "    for line in source.splitlines():\n",
    "        # Strip leading and trailing whitespaces\n",
    "        stripped_line = line.strip()\n",
    "        \n",
    "        # Ignore lines that start with a comment\n",
    "        if not stripped_line.startswith(\"#\"):\n",
    "            uncommented_lines.append(stripped_line)\n",
    "    \n",
    "    # Join uncommented lines into a single text\n",
    "    uncommented_source = \" \".join(uncommented_lines)\n",
    "    \n",
    "    # Check for the presence of \"if\", \"elif\", and \"else\"\n",
    "    has_if = \"if \" in uncommented_source\n",
    "    has_elif = \"elif \" in uncommented_source\n",
    "    has_else = \"else:\" in uncommented_source\n",
    "    \n",
    "    if check_if_elif_else:\n",
    "        return has_if and has_elif and has_else\n",
    "    elif check_if_elif:\n",
    "        return has_if and has_elif\n",
    "    elif check_if:\n",
    "        return has_if\n",
    "    else:\n",
    "        return None\n",
    "\n",
    "assert check_if_elif_else_used(for_or_dom, check_if_elif=True) == True, \"Test failed! The function does not contain both if and elif statements.\"\n"
   ]
  },
  {
   "cell_type": "code",
   "execution_count": 54,
   "metadata": {
    "deletable": false,
    "editable": false,
    "nbgrader": {
     "cell_type": "code",
     "checksum": "91bda2490a49c35db28467ea23fbe86f",
     "grade": true,
     "grade_id": "cell-d728e3d99d1f865e",
     "locked": true,
     "points": 1,
     "schema_version": 3,
     "solution": false,
     "task": false
    },
    "tags": []
   },
   "outputs": [
    {
     "data": {
      "text/plain": [
       "' Hidden tests - These tests mirror the tests above - you will not see any additional feedback '"
      ]
     },
     "execution_count": 54,
     "metadata": {},
     "output_type": "execute_result"
    }
   ],
   "source": [
    "\"\"\" Hidden tests - These tests mirror the tests above - you will not see any additional feedback \"\"\""
   ]
  },
  {
   "cell_type": "code",
   "execution_count": 55,
   "metadata": {
    "deletable": false,
    "editable": false,
    "nbgrader": {
     "cell_type": "code",
     "checksum": "237fd45fed4e5ff452bb30613cbef3f0",
     "grade": false,
     "grade_id": "cell-7866e8474604c264",
     "locked": true,
     "schema_version": 3,
     "solution": false,
     "task": false
    },
    "tags": []
   },
   "outputs": [],
   "source": [
    "\"\"\" Test - Do not edit or delete \"\"\"\n",
    "# Expected output\n",
    "expected_output = \"Jeep\\nBMW\\nFord\\nTOYOTA\\n\"\n",
    "\n",
    "# Test assertion\n",
    "assert check_function_output(function_def=for_or_dom) == expected_output, \"Test failed! The printed output does not match the expected result.\""
   ]
  },
  {
   "cell_type": "code",
   "execution_count": 56,
   "metadata": {
    "deletable": false,
    "editable": false,
    "nbgrader": {
     "cell_type": "code",
     "checksum": "be1481fe1e016963bdfbc21f4c4712cc",
     "grade": true,
     "grade_id": "cell-34f1a26a3baf6640",
     "locked": true,
     "points": 1,
     "schema_version": 3,
     "solution": false,
     "task": false
    },
    "tags": []
   },
   "outputs": [
    {
     "data": {
      "text/plain": [
       "' Hidden tests - These tests mirror the tests above - you will not see any additional feedback '"
      ]
     },
     "execution_count": 56,
     "metadata": {},
     "output_type": "execute_result"
    }
   ],
   "source": [
    "\"\"\" Hidden tests - These tests mirror the tests above - you will not see any additional feedback \"\"\""
   ]
  },
  {
   "cell_type": "markdown",
   "metadata": {
    "deletable": false,
    "editable": false,
    "nbgrader": {
     "cell_type": "markdown",
     "checksum": "c91ae2da98cb0508ca67129abdbf03a6",
     "grade": false,
     "grade_id": "cell-79b1602a556810b9",
     "locked": true,
     "schema_version": 3,
     "solution": false,
     "task": false
    }
   },
   "source": [
    "## Part F (2 points)\n",
    "\n",
    "Use the function `old_enough` to do three things:\n",
    "\n",
    "- Use a `for` loop to through `ages`. For each age in the list `ages`, check if they are old enough to smoke (>18 years) or drink (>21 years)\n",
    "- Print `\"smoking only\"` if they are *only* old enough to smoke\n",
    "- Print `\"drink and smoke\"` if they are old enough to drink and smoke\n",
    "- Print \"none\" if both conditions don't apply. \n"
   ]
  },
  {
   "cell_type": "code",
   "execution_count": 57,
   "metadata": {
    "deletable": false,
    "nbgrader": {
     "cell_type": "code",
     "checksum": "7cf205dca274d720f48052afb4d7fc17",
     "grade": false,
     "grade_id": "cell-a96686e31ff2b009",
     "locked": false,
     "schema_version": 3,
     "solution": true,
     "task": false
    },
    "tags": []
   },
   "outputs": [],
   "source": [
    "def old_enough():\n",
    "    \"\"\"Print what they are legally allowed to do\n",
    "    \"\"\"\n",
    "    ages = [21,16,40,19]\n",
    "    \n",
    "    # Iterates through list and prints what the person is legally allowed to do based on their age\n",
    "    for age in ages: \n",
    "        if age >= 21: \n",
    "            print ('drink and smoke')\n",
    "        elif age >= 18:\n",
    "            print ('smoking only')\n",
    "        else:\n",
    "            print ('none')"
   ]
  },
  {
   "cell_type": "markdown",
   "metadata": {
    "deletable": false,
    "editable": false,
    "nbgrader": {
     "cell_type": "markdown",
     "checksum": "8900937ea4b0d561cfb9c8bf1175c52e",
     "grade": false,
     "grade_id": "cell-cd4d88d24f685938",
     "locked": true,
     "schema_version": 3,
     "solution": false,
     "task": false
    }
   },
   "source": [
    "Your function should print:\n",
    "```\n",
    "drink and smoke\n",
    "none\n",
    "drink and smoke\n",
    "smoking only\n",
    "```"
   ]
  },
  {
   "cell_type": "code",
   "execution_count": 58,
   "metadata": {
    "deletable": false,
    "editable": false,
    "nbgrader": {
     "cell_type": "code",
     "checksum": "5c3df78e71276d25c91fd7db78cd46fd",
     "grade": false,
     "grade_id": "cell-9a7cf57dd688ddeb",
     "locked": true,
     "schema_version": 3,
     "solution": false,
     "task": false
    }
   },
   "outputs": [],
   "source": [
    "old_enough()"
   ]
  },
  {
   "cell_type": "code",
   "execution_count": 59,
   "metadata": {
    "deletable": false,
    "editable": false,
    "nbgrader": {
     "cell_type": "code",
     "checksum": "fdacfd5b51effa8f631bc134db716fd4",
     "grade": false,
     "grade_id": "cell-cf4c0ef7e46897dc",
     "locked": true,
     "schema_version": 3,
     "solution": false,
     "task": false
    },
    "tags": []
   },
   "outputs": [],
   "source": [
    "\"\"\" Test - Do not edit or delete \"\"\"\n",
    "# Expected output\n",
    "expected_output = 'drink and smoke\\nnone\\ndrink and smoke\\nsmoking only\\n'\n",
    "\n",
    "# Test assertion\n",
    "assert check_function_output(function_def=old_enough) == expected_output, \"Test failed! The printed output does not match the expected result.\""
   ]
  },
  {
   "cell_type": "code",
   "execution_count": 60,
   "metadata": {
    "deletable": false,
    "editable": false,
    "nbgrader": {
     "cell_type": "code",
     "checksum": "ee0071306a93d615819c269b23c4c802",
     "grade": true,
     "grade_id": "cell-1e222733550824bb",
     "locked": true,
     "points": 1,
     "schema_version": 3,
     "solution": false,
     "task": false
    },
    "tags": []
   },
   "outputs": [
    {
     "data": {
      "text/plain": [
       "' Hidden tests - These tests mirror the tests above - you will not see any additional feedback '"
      ]
     },
     "execution_count": 60,
     "metadata": {},
     "output_type": "execute_result"
    }
   ],
   "source": [
    "\"\"\" Hidden tests - These tests mirror the tests above - you will not see any additional feedback \"\"\""
   ]
  },
  {
   "cell_type": "code",
   "execution_count": 61,
   "metadata": {
    "deletable": false,
    "editable": false,
    "nbgrader": {
     "cell_type": "code",
     "checksum": "c2bace76bdb8e4766fb6623ff61f9499",
     "grade": false,
     "grade_id": "cell-8083b23590b12ec1",
     "locked": true,
     "schema_version": 3,
     "solution": false,
     "task": false
    },
    "tags": []
   },
   "outputs": [],
   "source": [
    "''' Tests do not edit or delete '''\n",
    "assert check_if_elif_else_used(old_enough, check_if_elif_else=True) == True, \"Test failed! The function does not contain both if, elif and else statements.\"\n"
   ]
  },
  {
   "cell_type": "code",
   "execution_count": 62,
   "metadata": {
    "deletable": false,
    "editable": false,
    "nbgrader": {
     "cell_type": "code",
     "checksum": "66da3366dc37661c1cc782f6a25a915d",
     "grade": true,
     "grade_id": "cell-3a66e507d6fcfc14",
     "locked": true,
     "points": 1,
     "schema_version": 3,
     "solution": false,
     "task": false
    },
    "tags": []
   },
   "outputs": [
    {
     "data": {
      "text/plain": [
       "' Hidden tests - These tests mirror the tests above - you will not see any additional feedback '"
      ]
     },
     "execution_count": 62,
     "metadata": {},
     "output_type": "execute_result"
    }
   ],
   "source": [
    "\"\"\" Hidden tests - These tests mirror the tests above - you will not see any additional feedback \"\"\""
   ]
  },
  {
   "cell_type": "markdown",
   "metadata": {
    "deletable": false,
    "editable": false,
    "nbgrader": {
     "cell_type": "markdown",
     "checksum": "dffcf5e4ad1697affc2e7f9f362113f1",
     "grade": false,
     "grade_id": "cell-1b0472dac547b949",
     "locked": true,
     "schema_version": 3,
     "solution": false,
     "task": false
    }
   },
   "source": [
    "## Part G (2 points)\n",
    "\n",
    "Using what we have been practicing, use the function `old_enough_2_count` to:\n",
    "\n",
    "- Use the variable `count_smoke_only` to store the number of legal smokers in `ages`\n",
    "- Use the variable `count_drink` to store the number of legal drinkers in `ages`\n",
    "- Return both of these variables back using `return count_smoke_only, count_drink`"
   ]
  },
  {
   "cell_type": "code",
   "execution_count": 63,
   "metadata": {
    "deletable": false,
    "nbgrader": {
     "cell_type": "code",
     "checksum": "4666c8825f9d5999e38979fd8dd7d1f2",
     "grade": false,
     "grade_id": "cell-062cf1610e06180f",
     "locked": false,
     "schema_version": 3,
     "solution": true,
     "task": false
    }
   },
   "outputs": [],
   "source": [
    "def old_enough_2_count():\n",
    "    \"\"\"Count how many smokers and drinkers\n",
    "    \n",
    "    \"\"\"\n",
    "    # set up your counters and the age list\n",
    "    count_smoke_only = 0\n",
    "    count_drink = 0\n",
    "    ages = [21,16,40,19]\n",
    "    \n",
    "    # counts the number of legal smokers and legal drinkers in the list ages\n",
    "    for age in ages: \n",
    "        if age >= 21: \n",
    "            count_drink += 1\n",
    "        elif age >= 18:\n",
    "            count_smoke_only += 1\n",
    "\n",
    "    return count_smoke_only, count_drink"
   ]
  },
  {
   "cell_type": "markdown",
   "metadata": {
    "deletable": false,
    "editable": false,
    "nbgrader": {
     "cell_type": "markdown",
     "checksum": "0f48d8c8b80c7d7ea5b093b54b63fcd9",
     "grade": false,
     "grade_id": "cell-dbe4fe57bb0ad0ed",
     "locked": true,
     "schema_version": 3,
     "solution": false,
     "task": false
    }
   },
   "source": [
    "Your answer should return the number of smokers and drinkers. \n",
    "\n",
    "For instance if ages = [5,25,20,18], `old_enough_2_count` would return the values 2, 1"
   ]
  },
  {
   "cell_type": "code",
   "execution_count": 64,
   "metadata": {
    "deletable": false,
    "editable": false,
    "nbgrader": {
     "cell_type": "code",
     "checksum": "9d8a793d042087b490599faf5ea7697d",
     "grade": false,
     "grade_id": "cell-283232c2f27dc991",
     "locked": true,
     "schema_version": 3,
     "solution": false,
     "task": false
    }
   },
   "outputs": [
    {
     "data": {
      "text/plain": [
       "(1, 2)"
      ]
     },
     "execution_count": 64,
     "metadata": {},
     "output_type": "execute_result"
    }
   ],
   "source": [
    "old_enough_2_count()"
   ]
  },
  {
   "cell_type": "code",
   "execution_count": 65,
   "metadata": {
    "deletable": false,
    "editable": false,
    "nbgrader": {
     "cell_type": "code",
     "checksum": "15de37fe5990e53f4789e4c99e5c8d34",
     "grade": false,
     "grade_id": "cell-76f94945b8d35cc8",
     "locked": true,
     "schema_version": 3,
     "solution": false,
     "task": false
    },
    "tags": []
   },
   "outputs": [],
   "source": [
    "\"\"\"Check that old_enough_2_count returns the correct output\"\"\"\n",
    "try:\n",
    "    assert isinstance(old_enough_2_count(),tuple) \n",
    "except AssertionError:\n",
    "    raise AssertionError(\"This is not a boolean True False answer\")\n",
    "try:\n",
    "    assert len([old_enough_2_count()]) == 1 \n",
    "except AssertionError:\n",
    "    raise AssertionError(\"answers not returned properly\")\n",
    "try:\n",
    "    assert  old_enough_2_count() == (1,2)\n",
    "except AssertionError: \n",
    "    raise AssertionError(\"wrong answer\")"
   ]
  },
  {
   "cell_type": "code",
   "execution_count": 66,
   "metadata": {
    "deletable": false,
    "editable": false,
    "nbgrader": {
     "cell_type": "code",
     "checksum": "1ba4c4bcedc8281652cd0109cb112219",
     "grade": true,
     "grade_id": "cell-5fd0305b756d7dc2",
     "locked": true,
     "points": 2,
     "schema_version": 3,
     "solution": false,
     "task": false
    },
    "tags": []
   },
   "outputs": [
    {
     "data": {
      "text/plain": [
       "' Hidden tests - These tests mirror the tests above - you will not see any additional feedback '"
      ]
     },
     "execution_count": 66,
     "metadata": {},
     "output_type": "execute_result"
    }
   ],
   "source": [
    "\"\"\" Hidden tests - These tests mirror the tests above - you will not see any additional feedback \"\"\""
   ]
  },
  {
   "cell_type": "markdown",
   "metadata": {
    "deletable": false,
    "editable": false,
    "nbgrader": {
     "cell_type": "markdown",
     "checksum": "6ab04065b3d1091a42f84b11b4ccef9a",
     "grade": false,
     "grade_id": "cell-72084b22677e373a",
     "locked": true,
     "schema_version": 3,
     "solution": false,
     "task": false
    }
   },
   "source": [
    "---\n",
    "## Part H  (2 points)\n",
    "\n",
    "Use the function `first_dict` to create a dictionary that stores the following information in the variable `name_age` and returns it back to the user:\n",
    "\n",
    "| Name | Age|\n",
    "|------------|------------|\n",
    "|John| 40|\n",
    "|Sally|18|\n",
    "|Karen|42|\n",
    "|JimmyBob|29|\n",
    "|Darlene|15|"
   ]
  },
  {
   "cell_type": "code",
   "execution_count": 67,
   "metadata": {
    "deletable": false,
    "nbgrader": {
     "cell_type": "code",
     "checksum": "088568e33a8938992bdc19b769c65193",
     "grade": false,
     "grade_id": "cell-0c7b7a0971dd9abe",
     "locked": false,
     "schema_version": 3,
     "solution": true,
     "task": false
    }
   },
   "outputs": [],
   "source": [
    "def first_dict():\n",
    "    \"\"\"Create a dictionary named name_age\n",
    "    \n",
    "    \"\"\"\n",
    "    #Creates dictionary named name_age of names and ages \n",
    "    name_age = {'John': 40, 'Sally' : 18, 'Karen' : 42, 'JimmyBob' : 29, 'Darlene': 15}\n",
    "\n",
    "\n",
    "    return name_age"
   ]
  },
  {
   "cell_type": "markdown",
   "metadata": {
    "deletable": false,
    "editable": false,
    "nbgrader": {
     "cell_type": "markdown",
     "checksum": "569284d72402f269adad3ab120d3affd",
     "grade": false,
     "grade_id": "cell-a0c907415f4ea482",
     "locked": true,
     "schema_version": 3,
     "solution": false,
     "task": false
    }
   },
   "source": [
    "Your answer should return a dictionary containing all the names and ages, be careful with capitalization etc"
   ]
  },
  {
   "cell_type": "code",
   "execution_count": 68,
   "metadata": {
    "deletable": false,
    "editable": false,
    "nbgrader": {
     "cell_type": "code",
     "checksum": "606debd8a4b9fdff3a4602efcd7c4f8f",
     "grade": false,
     "grade_id": "cell-939364c02310822c",
     "locked": true,
     "schema_version": 3,
     "solution": false,
     "task": false
    }
   },
   "outputs": [
    {
     "data": {
      "text/plain": [
       "{'John': 40, 'Sally': 18, 'Karen': 42, 'JimmyBob': 29, 'Darlene': 15}"
      ]
     },
     "execution_count": 68,
     "metadata": {},
     "output_type": "execute_result"
    }
   ],
   "source": [
    "first_dict()"
   ]
  },
  {
   "cell_type": "code",
   "execution_count": 69,
   "metadata": {
    "deletable": false,
    "editable": false,
    "nbgrader": {
     "cell_type": "code",
     "checksum": "8f97bd5f9d7be37cc6bc57f39e6c48bd",
     "grade": false,
     "grade_id": "cell-bf79f1879d78df42",
     "locked": true,
     "schema_version": 3,
     "solution": false,
     "task": false
    },
    "tags": []
   },
   "outputs": [],
   "source": [
    "\"\"\"Check that first_dict returns the correct output\"\"\"\n",
    "try:\n",
    "    assert isinstance(first_dict(),dict) \n",
    "except AssertionError:\n",
    "    raise AssertionError(\"This is not a dictionary\")\n",
    "try:\n",
    "    assert len(first_dict()) == 5 \n",
    "except AssertionError:\n",
    "    raise AssertionError(\"There should be 5 entries\")\n",
    "try:\n",
    "    assert  all([isinstance(x,int) for x in first_dict().values()])\n",
    "except AssertionError: \n",
    "    raise AssertionError(\"ages should be integers\")\n",
    "try:\n",
    "    assert  all(ele in ['John', 'Sally', 'Karen', 'JimmyBob', 'Darlene'] for ele in [x for x in first_dict().keys()] )\n",
    "except AssertionError: \n",
    "    raise AssertionError(\"Check your spelling\")"
   ]
  },
  {
   "cell_type": "code",
   "execution_count": 70,
   "metadata": {
    "deletable": false,
    "editable": false,
    "nbgrader": {
     "cell_type": "code",
     "checksum": "bca7e93fd325837489986f107249d791",
     "grade": true,
     "grade_id": "cell-9729989ea79b1682",
     "locked": true,
     "points": 2,
     "schema_version": 3,
     "solution": false,
     "task": false
    },
    "tags": []
   },
   "outputs": [
    {
     "data": {
      "text/plain": [
       "' Hidden tests - These tests mirror the tests above - you will not see any additional feedback '"
      ]
     },
     "execution_count": 70,
     "metadata": {},
     "output_type": "execute_result"
    }
   ],
   "source": [
    "\"\"\" Hidden tests - These tests mirror the tests above - you will not see any additional feedback \"\"\""
   ]
  },
  {
   "cell_type": "markdown",
   "metadata": {
    "deletable": false,
    "editable": false,
    "nbgrader": {
     "cell_type": "markdown",
     "checksum": "0e2369c73720c235f68193e8cd8da1d2",
     "grade": false,
     "grade_id": "cell-217a2910bc7f9ae4",
     "locked": true,
     "schema_version": 3,
     "solution": false,
     "task": false
    }
   },
   "source": [
    "---\n",
    "## Part I (2 points)\n",
    "\n",
    "Use `guests = first_dict()` to create a list of guests for dinner tonight.  Unexpectedly, \"Lauren\" who is 22 shows up. Please use the function `new_guest` to add Lauren as a new key-value pair in your `guests` dictionary and return it"
   ]
  },
  {
   "cell_type": "code",
   "execution_count": 71,
   "metadata": {},
   "outputs": [],
   "source": [
    "def first_dict():\n",
    "    \"\"\"Create a dictionary named name_age\n",
    "    \n",
    "    \"\"\"\n",
    "    #Creates dictionary named name_age\n",
    "    name_age = {'John': 40, 'Sally' : 18, 'Karen' : 42, 'JimmyBob' : 29, 'Darlene': 15}\n",
    "\n",
    "\n",
    "    return name_age"
   ]
  },
  {
   "cell_type": "code",
   "execution_count": 72,
   "metadata": {
    "deletable": false,
    "nbgrader": {
     "cell_type": "code",
     "checksum": "b9489cadef5ff2310434d63bcf320965",
     "grade": false,
     "grade_id": "cell-739ef2ccb00fe1cd",
     "locked": false,
     "schema_version": 3,
     "solution": true,
     "task": false
    }
   },
   "outputs": [],
   "source": [
    "def new_guest():\n",
    "    \n",
    "    \"\"\" Add a key value pair \"\"\"\n",
    "    #adds Lauren as a new key-value pair in the guests dictionary\n",
    "    guests = first_dict()\n",
    "    guests ['Lauren'] = 22\n",
    "\n",
    "    return guests"
   ]
  },
  {
   "cell_type": "markdown",
   "metadata": {
    "deletable": false,
    "editable": false,
    "nbgrader": {
     "cell_type": "markdown",
     "checksum": "910179bbcc0ed772fa494bbc9da76675",
     "grade": false,
     "grade_id": "cell-5baa9cbabc60a209",
     "locked": true,
     "schema_version": 3,
     "solution": false,
     "task": false
    }
   },
   "source": [
    "`new_guest` should return all the original guests plus lauren"
   ]
  },
  {
   "cell_type": "code",
   "execution_count": 73,
   "metadata": {
    "deletable": false,
    "editable": false,
    "nbgrader": {
     "cell_type": "code",
     "checksum": "83c62c133cbd748ffa5f28e430a4ae3f",
     "grade": false,
     "grade_id": "cell-129936ee26dbdac8",
     "locked": true,
     "schema_version": 3,
     "solution": false,
     "task": false
    }
   },
   "outputs": [
    {
     "data": {
      "text/plain": [
       "{'John': 40,\n",
       " 'Sally': 18,\n",
       " 'Karen': 42,\n",
       " 'JimmyBob': 29,\n",
       " 'Darlene': 15,\n",
       " 'Lauren': 22}"
      ]
     },
     "execution_count": 73,
     "metadata": {},
     "output_type": "execute_result"
    }
   ],
   "source": [
    "new_guest()"
   ]
  },
  {
   "cell_type": "code",
   "execution_count": 74,
   "metadata": {
    "deletable": false,
    "editable": false,
    "nbgrader": {
     "cell_type": "code",
     "checksum": "f4f1ace93aaece243f1f49d48def9802",
     "grade": false,
     "grade_id": "cell-b15ac4092c38ebf8",
     "locked": true,
     "schema_version": 3,
     "solution": false,
     "task": false
    },
    "tags": []
   },
   "outputs": [],
   "source": [
    "\"\"\"Check that first_dict returns the correct output\"\"\"\n",
    "try:\n",
    "    assert isinstance(new_guest(),dict) \n",
    "except AssertionError:\n",
    "    raise AssertionError(\"This is not a dictionary\")\n",
    "try:\n",
    "    assert len(new_guest()) == 6\n",
    "except AssertionError:\n",
    "    raise AssertionError(\"There should be 6 entries\")\n",
    "try:\n",
    "    assert  all([isinstance(x,int) for x in new_guest().values()])\n",
    "except AssertionError: \n",
    "    raise AssertionError(\"ages should be integers\")\n",
    "try:\n",
    "    assert  all(ele in ['John', 'Sally', 'Karen', 'JimmyBob', 'Darlene', \"Lauren\"] for ele in [x for x in new_guest().keys()] )\n",
    "except AssertionError: \n",
    "    raise AssertionError(\"Check your spelling\")"
   ]
  },
  {
   "cell_type": "code",
   "execution_count": 75,
   "metadata": {
    "deletable": false,
    "editable": false,
    "nbgrader": {
     "cell_type": "code",
     "checksum": "d5bb8f2f9c7a427d00ccd90dcce9b506",
     "grade": true,
     "grade_id": "cell-31504444838e974f",
     "locked": true,
     "points": 2,
     "schema_version": 3,
     "solution": false,
     "task": false
    },
    "tags": []
   },
   "outputs": [
    {
     "data": {
      "text/plain": [
       "' Hidden tests - These tests mirror the tests above - you will not see any additional feedback '"
      ]
     },
     "execution_count": 75,
     "metadata": {},
     "output_type": "execute_result"
    }
   ],
   "source": [
    "\"\"\" Hidden tests - These tests mirror the tests above - you will not see any additional feedback \"\"\""
   ]
  },
  {
   "cell_type": "markdown",
   "metadata": {
    "deletable": false,
    "editable": false,
    "nbgrader": {
     "cell_type": "markdown",
     "checksum": "a56954a5f6baf786453ac98585ec78ae",
     "grade": false,
     "grade_id": "cell-bd4dec77b9137b01",
     "locked": true,
     "schema_version": 3,
     "solution": false,
     "task": false
    },
    "tags": []
   },
   "source": [
    "---\n",
    "## Part  J (2 points)\n",
    "\n",
    "*LOOK* at your code from part G from `old_enough_2_count`, and use the function `old_enough_names` to:\n",
    "\n",
    "- Create a `for` loop that iterates through the dictionary `attendees` (which is holding the attendee's name and their age) to do the following:\n",
    "    - Use the variable `count_smoke_only` to store the number of legal smokers\n",
    "    - Use the variable `count_drink` to store the number of legal drinkers\n",
    "    - Return both of these variables back using `return count_smoke_only, count_drink`\n",
    "    \n",
    "Hint: There is a section in the book on how to iterate through the values of a dictionary."
   ]
  },
  {
   "cell_type": "code",
   "execution_count": 76,
   "metadata": {
    "deletable": false,
    "nbgrader": {
     "cell_type": "code",
     "checksum": "abc50d719f11a9489c5a444331715dc3",
     "grade": false,
     "grade_id": "cell-83c761f3739b35be",
     "locked": false,
     "schema_version": 3,
     "solution": true,
     "task": false
    }
   },
   "outputs": [],
   "source": [
    "def old_enough_names():\n",
    "    \"\"\"Count how many attendees are older enough to be smokers and drinkers\n",
    "    \n",
    "    \"\"\"\n",
    "    count_smoke_only = 0\n",
    "    count_drink = 0\n",
    " \n",
    "   # Iterates through dictionary 'attendees' and stores the number of legal drinker and smokers \n",
    "   \n",
    "    attendees = {'John':40, 'Sally':18, 'Karen':42, 'JimmyBob':29,'Darlene':15}\n",
    "    for name, age in attendees.items(): \n",
    "        if age >= 21: \n",
    "            count_drink += 1\n",
    "        elif age >= 18:\n",
    "            count_smoke_only += 1\n",
    "    return count_smoke_only, count_drink\n"
   ]
  },
  {
   "cell_type": "markdown",
   "metadata": {
    "deletable": false,
    "editable": false,
    "nbgrader": {
     "cell_type": "markdown",
     "checksum": "8d4cf6ba28c42217a039a90c8efc78ed",
     "grade": false,
     "grade_id": "cell-1c376154d828d0fb",
     "locked": true,
     "schema_version": 3,
     "solution": false,
     "task": false
    }
   },
   "source": [
    "Your answer should return the number of attendees that are potential smokers and drinkers. \n",
    "\n",
    "For instance if `attendees = {'John':18, 'Sally':4, 'Karen':87, 'JimmyBob':19,'Darlene':1}`, `old_enough_names` would return the values 2, 1"
   ]
  },
  {
   "cell_type": "code",
   "execution_count": 77,
   "metadata": {
    "deletable": false,
    "editable": false,
    "nbgrader": {
     "cell_type": "code",
     "checksum": "4d7c5614539f79893270d5b302e638a2",
     "grade": false,
     "grade_id": "cell-b37565cc83950c88",
     "locked": true,
     "schema_version": 3,
     "solution": false,
     "task": false
    }
   },
   "outputs": [
    {
     "data": {
      "text/plain": [
       "(1, 3)"
      ]
     },
     "execution_count": 77,
     "metadata": {},
     "output_type": "execute_result"
    }
   ],
   "source": [
    "old_enough_names()"
   ]
  },
  {
   "cell_type": "code",
   "execution_count": 78,
   "metadata": {
    "deletable": false,
    "editable": false,
    "nbgrader": {
     "cell_type": "code",
     "checksum": "ff97fe6289dfd7eaa23420accde7d77c",
     "grade": false,
     "grade_id": "cell-67674ff257e2f7af",
     "locked": true,
     "schema_version": 3,
     "solution": false,
     "task": false
    },
    "tags": []
   },
   "outputs": [],
   "source": [
    "\"\"\"Check that old_enough_2_count returns the correct output\"\"\"\n",
    "try:\n",
    "    assert isinstance(old_enough_names(),tuple) \n",
    "except AssertionError:\n",
    "    raise AssertionError(\"This is not a boolean True False answer\")\n",
    "try:\n",
    "    assert len([old_enough_names()]) == 1 \n",
    "except AssertionError:\n",
    "    raise AssertionError(\"answers not returned properly\")\n",
    "try:\n",
    "    assert  old_enough_names() == (1,3)\n",
    "except AssertionError: \n",
    "    raise AssertionError(\"wrong answer\")"
   ]
  },
  {
   "cell_type": "code",
   "execution_count": 79,
   "metadata": {
    "deletable": false,
    "editable": false,
    "nbgrader": {
     "cell_type": "code",
     "checksum": "783b50976475002a327ba0a598c2033f",
     "grade": true,
     "grade_id": "cell-45cf5644e232ebeb",
     "locked": true,
     "points": 2,
     "schema_version": 3,
     "solution": false,
     "task": false
    },
    "tags": []
   },
   "outputs": [
    {
     "data": {
      "text/plain": [
       "' Hidden tests - These tests mirror the tests above - you will not see any additional feedback '"
      ]
     },
     "execution_count": 79,
     "metadata": {},
     "output_type": "execute_result"
    }
   ],
   "source": [
    "\"\"\" Hidden tests - These tests mirror the tests above - you will not see any additional feedback \"\"\""
   ]
  }
 ],
 "metadata": {
  "kernelspec": {
   "display_name": "Python 3 (ipykernel)",
   "language": "python",
   "name": "python3"
  },
  "language_info": {
   "codemirror_mode": {
    "name": "ipython",
    "version": 3
   },
   "file_extension": ".py",
   "mimetype": "text/x-python",
   "name": "python",
   "nbconvert_exporter": "python",
   "pygments_lexer": "ipython3",
   "version": "3.12.2"
  }
 },
 "nbformat": 4,
 "nbformat_minor": 4
}
